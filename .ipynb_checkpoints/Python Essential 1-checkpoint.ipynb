{
 "cells": [
  {
   "cell_type": "code",
   "execution_count": null,
   "id": "34f73430",
   "metadata": {},
   "outputs": [],
   "source": [
    "def function(x):\n",
    "    if x ==2: \n",
    "        print(\"gااood\") "
   ]
  },
  {
   "cell_type": "code",
   "execution_count": null,
   "id": "0882fcda",
   "metadata": {},
   "outputs": [],
   "source": []
  },
  {
   "cell_type": "code",
   "execution_count": null,
   "id": "da546415",
   "metadata": {},
   "outputs": [],
   "source": [
    "function(3)"
   ]
  },
  {
   "cell_type": "code",
   "execution_count": null,
   "id": "7e528958",
   "metadata": {},
   "outputs": [],
   "source": [
    "def is_year_leap(year):\n",
    "    test_data = [1900, 2000, 2016, 1987]\n",
    "    test_results = [False, True, True, False]\n",
    "    for i in range(test_data):\n",
    "        "
   ]
  },
  {
   "cell_type": "code",
   "execution_count": null,
   "id": "669ea63b",
   "metadata": {},
   "outputs": [],
   "source": [
    "def function():\n",
    "    x = 2 \n",
    "    print(x)\n",
    "    \n",
    "    \n",
    "x = 3\n",
    "print(x)\n",
    "function()\n",
    "#print(x)"
   ]
  },
  {
   "cell_type": "code",
   "execution_count": null,
   "id": "d3ca7a30",
   "metadata": {},
   "outputs": [],
   "source": [
    "def function():\n",
    "    global x \n",
    "    x = 1\n",
    "    print(x)\n",
    "\n",
    "x = 2\n",
    "print(x)\n",
    "function() #after running this line, since x is defined as a global var, it will be 1 everywhere \n",
    "print(x) \n",
    "x = 3 #unless you manually define it again\n",
    "print(x)"
   ]
  },
  {
   "cell_type": "code",
   "execution_count": null,
   "id": "9d1da554",
   "metadata": {},
   "outputs": [],
   "source": [
    "def my_function(my_list_1):\n",
    "    print(\"Print #1:\", my_list_1)\n",
    "    print(\"Print #2:\", my_list_2)\n",
    "    del my_list_1[0]  # Pay attention to this line.\n",
    "    print(\"Print #3:\", my_list_1)\n",
    "    print(\"Print #4:\", my_list_2)\n",
    "\n",
    "\n",
    "my_list_2 = [2, 3]\n",
    "my_function(my_list_2)\n",
    "print(\"Print #5:\", my_list_2)\n",
    "\n"
   ]
  },
  {
   "cell_type": "code",
   "execution_count": null,
   "id": "7f0712fd",
   "metadata": {},
   "outputs": [],
   "source": [
    "def factorial_function(n):\n",
    "    if n < 0:\n",
    "        return None\n",
    "    if n < 2:\n",
    "        return 1\n",
    "    \n",
    "    product = 1\n",
    "    for i in range(2, n + 1):\n",
    "        product *= i\n",
    "    return product\n",
    "\n",
    "\n",
    "for n in range(1, 6):  # testing\n",
    "    print(n, factorial_function(n))\n",
    "\n"
   ]
  },
  {
   "cell_type": "code",
   "execution_count": null,
   "id": "7f4a3c78",
   "metadata": {},
   "outputs": [],
   "source": [
    "for n in range(1, 6):  # testing\n",
    "    print(n, factorial_function(n))"
   ]
  },
  {
   "cell_type": "code",
   "execution_count": null,
   "id": "48ec8624",
   "metadata": {},
   "outputs": [],
   "source": [
    "factorial_function(3)"
   ]
  },
  {
   "cell_type": "code",
   "execution_count": null,
   "id": "ec01850b",
   "metadata": {},
   "outputs": [],
   "source": [
    "list1 = []"
   ]
  },
  {
   "cell_type": "code",
   "execution_count": null,
   "id": "b048f432",
   "metadata": {},
   "outputs": [],
   "source": [
    "print(list1)"
   ]
  },
  {
   "cell_type": "code",
   "execution_count": null,
   "id": "9d545482",
   "metadata": {},
   "outputs": [],
   "source": [
    "list1.append(2)"
   ]
  },
  {
   "cell_type": "code",
   "execution_count": null,
   "id": "225829d0",
   "metadata": {},
   "outputs": [],
   "source": [
    "print(list1)"
   ]
  },
  {
   "cell_type": "code",
   "execution_count": null,
   "id": "1946aebf",
   "metadata": {},
   "outputs": [],
   "source": [
    "list2 = [2,3,4]"
   ]
  },
  {
   "cell_type": "code",
   "execution_count": null,
   "id": "486bf733",
   "metadata": {},
   "outputs": [],
   "source": [
    "list2.remove(4)"
   ]
  },
  {
   "cell_type": "code",
   "execution_count": null,
   "id": "c165c6e2",
   "metadata": {},
   "outputs": [],
   "source": [
    "print(list2)"
   ]
  },
  {
   "cell_type": "code",
   "execution_count": null,
   "id": "2c515df4",
   "metadata": {},
   "outputs": [],
   "source": [
    "my_tuple = ()"
   ]
  },
  {
   "cell_type": "code",
   "execution_count": null,
   "id": "ebfc8bee",
   "metadata": {},
   "outputs": [],
   "source": [
    "print(my_tuple)"
   ]
  },
  {
   "cell_type": "code",
   "execution_count": null,
   "id": "d411ae4a",
   "metadata": {},
   "outputs": [],
   "source": [
    "tuple2 = (2,3, 'hello')"
   ]
  },
  {
   "cell_type": "code",
   "execution_count": null,
   "id": "17c22811",
   "metadata": {},
   "outputs": [],
   "source": [
    "print(tuple2)"
   ]
  },
  {
   "cell_type": "code",
   "execution_count": null,
   "id": "e78e2d1e",
   "metadata": {},
   "outputs": [],
   "source": [
    "list3 = [3,4,'Hi']"
   ]
  },
  {
   "cell_type": "code",
   "execution_count": null,
   "id": "cfc7f714",
   "metadata": {},
   "outputs": [],
   "source": [
    "print(list3)"
   ]
  },
  {
   "cell_type": "code",
   "execution_count": null,
   "id": "31c3cfdb",
   "metadata": {},
   "outputs": [],
   "source": [
    "mydictionary = { \"sag\":\"dog\" , \"gorbe\":\"cat\" }"
   ]
  },
  {
   "cell_type": "code",
   "execution_count": null,
   "id": "cbfebaa4",
   "metadata": {},
   "outputs": [],
   "source": [
    "{}"
   ]
  },
  {
   "cell_type": "code",
   "execution_count": null,
   "id": "f38a48e0",
   "metadata": {},
   "outputs": [],
   "source": [
    "print(mydictionary)"
   ]
  },
  {
   "cell_type": "code",
   "execution_count": null,
   "id": "67497199",
   "metadata": {},
   "outputs": [],
   "source": [
    "name = input(\"Enter your name: \")"
   ]
  },
  {
   "cell_type": "code",
   "execution_count": null,
   "id": "d7817a5f",
   "metadata": {},
   "outputs": [],
   "source": [
    "largest_number = -99999999\n",
    "counter = 0\n",
    "\n",
    "number = int(input(\"Enter a number or type -1 to end program: \"))\n",
    "\n",
    "while number != -1:\n",
    "    if number == -1:\n",
    "        continue\n",
    "    counter += 1\n",
    "\n",
    "    if number > largest_number:\n",
    "        largest_number = number\n",
    "    number = int(input(\"Enter a number or type -1 to end program: \"))\n",
    "\n",
    "    \n",
    "    \n",
    "if counter:\n",
    "    print(\"The largest number is\", largest_number)\n",
    "else:\n",
    "    print(\"You haven't entered any number.\")\n",
    "    "
   ]
  },
  {
   "cell_type": "code",
   "execution_count": null,
   "id": "c156f734",
   "metadata": {},
   "outputs": [],
   "source": [
    "for i in range(1,10, 2):\n",
    "    print(i)"
   ]
  },
  {
   "cell_type": "code",
   "execution_count": 3,
   "id": "cd2040f4",
   "metadata": {},
   "outputs": [
    {
     "name": "stdout",
     "output_type": "stream",
     "text": [
      "Hello\n"
     ]
    }
   ],
   "source": [
    "result = 2 / 2\n",
    "print(\"Hello\")"
   ]
  },
  {
   "cell_type": "code",
   "execution_count": 7,
   "id": "f2e3b960",
   "metadata": {},
   "outputs": [
    {
     "name": "stdout",
     "output_type": "stream",
     "text": [
      "1\n",
      "3\n",
      "5\n",
      "7\n",
      "9\n"
     ]
    }
   ],
   "source": [
    "x = 1\n",
    "while x < 11:\n",
    "    if (x % 2) != 0:\n",
    "        print(x)\n",
    "    x = x + 1"
   ]
  },
  {
   "cell_type": "code",
   "execution_count": 9,
   "id": "9f9b4832",
   "metadata": {},
   "outputs": [
    {
     "ename": "IndexError",
     "evalue": "list assignment index out of range",
     "output_type": "error",
     "traceback": [
      "\u001b[1;31m---------------------------------------------------------------------------\u001b[0m",
      "\u001b[1;31mIndexError\u001b[0m                                Traceback (most recent call last)",
      "\u001b[1;32m~\\AppData\\Local\\Temp/ipykernel_18124/3343620174.py\u001b[0m in \u001b[0;36m<module>\u001b[1;34m\u001b[0m\n\u001b[0;32m      5\u001b[0m         \u001b[0mi\u001b[0m \u001b[1;33m=\u001b[0m \u001b[1;36m1\u001b[0m\u001b[1;33m\u001b[0m\u001b[1;33m\u001b[0m\u001b[0m\n\u001b[0;32m      6\u001b[0m         \u001b[0mmylist\u001b[0m \u001b[1;33m=\u001b[0m \u001b[1;33m[\u001b[0m\u001b[1;33m]\u001b[0m\u001b[1;33m\u001b[0m\u001b[1;33m\u001b[0m\u001b[0m\n\u001b[1;32m----> 7\u001b[1;33m         \u001b[0mmylist\u001b[0m\u001b[1;33m[\u001b[0m\u001b[0mi\u001b[0m\u001b[1;33m]\u001b[0m \u001b[1;33m=\u001b[0m \u001b[0mx\u001b[0m\u001b[1;33m\u001b[0m\u001b[1;33m\u001b[0m\u001b[0m\n\u001b[0m\u001b[0;32m      8\u001b[0m         \u001b[0mi\u001b[0m \u001b[1;33m=\u001b[0m \u001b[0mi\u001b[0m \u001b[1;33m+\u001b[0m \u001b[1;36m1\u001b[0m\u001b[1;33m\u001b[0m\u001b[1;33m\u001b[0m\u001b[0m\n",
      "\u001b[1;31mIndexError\u001b[0m: list assignment index out of range"
     ]
    }
   ],
   "source": [
    "for x in \"john.smith@pythoninstitute.org\":\n",
    "    if x == \"@\":\n",
    "        break\n",
    "    else: \n",
    "        i = 1\n",
    "        mylist = []\n",
    "        mylist[i] = x\n",
    "        i = i + 1"
   ]
  },
  {
   "cell_type": "code",
   "execution_count": 11,
   "id": "1e56171d",
   "metadata": {},
   "outputs": [
    {
     "name": "stdout",
     "output_type": "stream",
     "text": [
      "j\n",
      "o\n",
      "h\n",
      "n\n",
      ".\n",
      "s\n",
      "m\n",
      "i\n",
      "t\n",
      "h\n"
     ]
    }
   ],
   "source": [
    "for ch in \"john.smith@pythoninstitute.org\":\n",
    "    if ch == \"@\":\n",
    "        break\n",
    "    print(ch, end=\"\")\n",
    "    "
   ]
  },
  {
   "cell_type": "code",
   "execution_count": 12,
   "id": "9d6d8205",
   "metadata": {},
   "outputs": [
    {
     "name": "stdout",
     "output_type": "stream",
     "text": [
      "x165x318x651x"
     ]
    }
   ],
   "source": [
    "for digit in \"0165031806510\":\n",
    "    if digit == \"0\":\n",
    "        print(\"x\", end=\"\")\n",
    "        continue\n",
    "    print(digit, end=\"\")"
   ]
  },
  {
   "cell_type": "code",
   "execution_count": 13,
   "id": "0b23d204",
   "metadata": {},
   "outputs": [
    {
     "name": "stdout",
     "output_type": "stream",
     "text": [
      "True\n"
     ]
    }
   ],
   "source": [
    "i = 1\n",
    "j = not not i\n",
    "print(j)"
   ]
  },
  {
   "cell_type": "code",
   "execution_count": 14,
   "id": "fae9134b",
   "metadata": {},
   "outputs": [
    {
     "name": "stdout",
     "output_type": "stream",
     "text": [
      "1\n"
     ]
    }
   ],
   "source": [
    "x = 1\n",
    "print(x)"
   ]
  },
  {
   "cell_type": "code",
   "execution_count": 18,
   "id": "f1e06515",
   "metadata": {},
   "outputs": [
    {
     "name": "stdout",
     "output_type": "stream",
     "text": [
      "-3\n",
      "True\n"
     ]
    }
   ],
   "source": [
    "x = -3\n",
    "print(x)\n",
    "y = not not x\n",
    "print(y)"
   ]
  },
  {
   "cell_type": "code",
   "execution_count": 20,
   "id": "c528519d",
   "metadata": {},
   "outputs": [
    {
     "name": "stdout",
     "output_type": "stream",
     "text": [
      "abcxyz\n"
     ]
    }
   ],
   "source": [
    "lst=['PRO']\n",
    "print(len(lst) * 'abc' + 'xyz')"
   ]
  },
  {
   "cell_type": "code",
   "execution_count": 21,
   "id": "9494b4fd",
   "metadata": {},
   "outputs": [
    {
     "name": "stdout",
     "output_type": "stream",
     "text": [
      "2\n"
     ]
    }
   ],
   "source": [
    "x = [False, True, True, False, True]\n",
    "y = x[:]\n",
    "i = 0\n",
    "for j in y[2:]:\n",
    "  if j:\n",
    "    i +=1\n",
    "print(i)"
   ]
  },
  {
   "cell_type": "code",
   "execution_count": 25,
   "id": "058e1bc5",
   "metadata": {},
   "outputs": [
    {
     "name": "stdout",
     "output_type": "stream",
     "text": [
      "<class 'tuple'>\n",
      "(8,)\n"
     ]
    }
   ],
   "source": [
    "data = (1, 2, 8, 16)\n",
    "print(type(data))\n",
    "\n",
    "data2 = data[-2:-1]\n",
    "print(data2)\n",
    "#data = data[-1]\n",
    "#print(data)"
   ]
  },
  {
   "cell_type": "code",
   "execution_count": 26,
   "id": "f3c190c9",
   "metadata": {},
   "outputs": [
    {
     "name": "stdout",
     "output_type": "stream",
     "text": [
      "2\n",
      "4\n"
     ]
    }
   ],
   "source": [
    "for a in range(1, 3):\n",
    "  for b in range(1, 3):\n",
    "    if a >= b:\n",
    "      continue\n",
    "  else:\n",
    "    print(a * b)"
   ]
  },
  {
   "cell_type": "code",
   "execution_count": 27,
   "id": "69b5e96f",
   "metadata": {},
   "outputs": [
    {
     "name": "stdout",
     "output_type": "stream",
     "text": [
      "['Marko', 'Ana', 'Angie']\n"
     ]
    }
   ],
   "source": [
    "x = {'Marko': 10, 'Ana': 46, 'Angie':76}\n",
    "print(list(x.keys()))"
   ]
  },
  {
   "cell_type": "code",
   "execution_count": 28,
   "id": "43fb1999",
   "metadata": {},
   "outputs": [
    {
     "name": "stdout",
     "output_type": "stream",
     "text": [
      "DataScience4U\n",
      "Procoding\n",
      "DataScience4U\n"
     ]
    }
   ],
   "source": [
    "def test():\n",
    "  x = 'Procoding'\n",
    "  print(x)\n",
    " \n",
    "x = 'DataScience4U'\n",
    "print(x)\n",
    "test()\n",
    "print(x)"
   ]
  },
  {
   "cell_type": "code",
   "execution_count": 29,
   "id": "e5ed4d9c",
   "metadata": {},
   "outputs": [
    {
     "name": "stdout",
     "output_type": "stream",
     "text": [
      "42\n"
     ]
    }
   ],
   "source": [
    "x = 42\n",
    "for i in range(2, 8, 2):\n",
    "  for j in range(-5, 2, 3):\n",
    "    if i==j:\n",
    "      x += 2\n",
    "    else:\n",
    "      break\n",
    "print(x)"
   ]
  },
  {
   "cell_type": "code",
   "execution_count": 30,
   "id": "00a12680",
   "metadata": {},
   "outputs": [
    {
     "name": "stdout",
     "output_type": "stream",
     "text": [
      "['cat', 'dog', 'mouse', 'shark']\n"
     ]
    }
   ],
   "source": [
    "def func(a):\n",
    "  a[3]='shark'\n",
    " \n",
    "x = ['cat', 'dog', 'mouse', 'cow']\n",
    "func(x)\n",
    "print(x)"
   ]
  },
  {
   "cell_type": "code",
   "execution_count": 31,
   "id": "793c99d2",
   "metadata": {},
   "outputs": [
    {
     "name": "stdout",
     "output_type": "stream",
     "text": [
      "*****"
     ]
    }
   ],
   "source": [
    "a = 13\n",
    "b = 42\n",
    " \n",
    "while a < b:\n",
    "  print(\"*\", sep=\"-\", end=\"\")\n",
    "  a += 7"
   ]
  },
  {
   "cell_type": "code",
   "execution_count": 32,
   "id": "ac469c04",
   "metadata": {},
   "outputs": [
    {
     "name": "stdout",
     "output_type": "stream",
     "text": [
      "678\n"
     ]
    }
   ],
   "source": [
    "x = [[[42, 13], [33, 44]], [[555, 678], [7, 8]]]\n",
    " \n",
    "def test(z): # z = [[555, 678], [7, 8]] --> z[0] = [555, 678] --> z[0][0] = 555 \n",
    "  res = z[0][0] # res = 555\n",
    "  for el in z:  # el = [555, 678]\n",
    "    for d in el: # d = 678\n",
    "      if res < d:\n",
    "        res = d\n",
    "  return res\n",
    " \n",
    "print(test(x[1])) # x[1] = [[555, 678], [7, 8]]"
   ]
  },
  {
   "cell_type": "code",
   "execution_count": 36,
   "id": "95a47ce0",
   "metadata": {},
   "outputs": [
    {
     "name": "stdout",
     "output_type": "stream",
     "text": [
      "42\n"
     ]
    }
   ],
   "source": [
    "x = [[[42, 13], [33, 44]], [[555, 678], [7, 8]]]\n",
    "print(x[0][0][0])"
   ]
  },
  {
   "cell_type": "code",
   "execution_count": 37,
   "id": "21c5b97c",
   "metadata": {},
   "outputs": [
    {
     "name": "stdout",
     "output_type": "stream",
     "text": [
      "3\n"
     ]
    }
   ],
   "source": [
    "def f(x):\n",
    "  return x ** 3 - 24\n",
    " \n",
    "print(f(f(f(3))))"
   ]
  },
  {
   "cell_type": "code",
   "execution_count": 38,
   "id": "4a96bc35",
   "metadata": {},
   "outputs": [
    {
     "name": "stdout",
     "output_type": "stream",
     "text": [
      "43\n"
     ]
    }
   ],
   "source": [
    "x=42\n",
    "while x<46:\n",
    "  x+=1\n",
    "  print(x)\n",
    "  break\n",
    "else:\n",
    "  print(\"break\")"
   ]
  },
  {
   "cell_type": "code",
   "execution_count": 39,
   "id": "f93a2d89",
   "metadata": {},
   "outputs": [
    {
     "name": "stdout",
     "output_type": "stream",
     "text": [
      "11.0\n"
     ]
    }
   ],
   "source": [
    "print(79. // 7)"
   ]
  },
  {
   "cell_type": "code",
   "execution_count": 40,
   "id": "bcd645a0",
   "metadata": {},
   "outputs": [
    {
     "name": "stdout",
     "output_type": "stream",
     "text": [
      "64.0\n"
     ]
    }
   ],
   "source": [
    "print(42 + 5.0 * 3 + 22 // 4 + 11 % 3)"
   ]
  },
  {
   "cell_type": "code",
   "execution_count": 41,
   "id": "291be8bb",
   "metadata": {},
   "outputs": [
    {
     "name": "stdout",
     "output_type": "stream",
     "text": [
      "79.0\n"
     ]
    }
   ],
   "source": [
    "print(42 + 5.0 * 3 + 22)"
   ]
  },
  {
   "cell_type": "code",
   "execution_count": 42,
   "id": "c7134e34",
   "metadata": {},
   "outputs": [
    {
     "name": "stdout",
     "output_type": "stream",
     "text": [
      "6\n"
     ]
    }
   ],
   "source": [
    "print(4 + 11 % 3)"
   ]
  },
  {
   "cell_type": "code",
   "execution_count": 43,
   "id": "3591be14",
   "metadata": {},
   "outputs": [
    {
     "name": "stdout",
     "output_type": "stream",
     "text": [
      "13.0\n"
     ]
    }
   ],
   "source": [
    "print(79. // 6)"
   ]
  },
  {
   "cell_type": "code",
   "execution_count": 44,
   "id": "86e4737f",
   "metadata": {},
   "outputs": [
    {
     "name": "stdout",
     "output_type": "stream",
     "text": [
      "64.0\n"
     ]
    }
   ],
   "source": [
    "print(42 + 5.0 * 3 + 22 // 4 + 11 % 3)\n"
   ]
  },
  {
   "cell_type": "code",
   "execution_count": 45,
   "id": "fd6f16eb",
   "metadata": {},
   "outputs": [
    {
     "name": "stdout",
     "output_type": "stream",
     "text": [
      "qwerty\n",
      "Ok password:  qwerty\n"
     ]
    }
   ],
   "source": [
    "while True:\n",
    "  password = input()\n",
    "  if password == 'qwerty':\n",
    "    print(\"Ok password: \", password)\n",
    "    break\n",
    "    print(\"End\")\n",
    "  else:\n",
    "    print(\"Wrong password: \", password)"
   ]
  },
  {
   "cell_type": "code",
   "execution_count": 46,
   "id": "d0673129",
   "metadata": {},
   "outputs": [
    {
     "name": "stdout",
     "output_type": "stream",
     "text": [
      "8\n"
     ]
    }
   ],
   "source": [
    "x = 0\n",
    "for i in range(-2, 4, 2):\n",
    "  if 4 * i < 8:\n",
    "    x += 3\n",
    "else:\n",
    "  x += 2\n",
    "print(x)"
   ]
  },
  {
   "cell_type": "code",
   "execution_count": 47,
   "id": "611d3e6a",
   "metadata": {},
   "outputs": [
    {
     "name": "stdout",
     "output_type": "stream",
     "text": [
      "D\n",
      "a\n"
     ]
    }
   ],
   "source": [
    "x = 'DataScience4U'\n",
    "for char in x:\n",
    "  if char == 't':\n",
    "    break\n",
    "  print(char)\n",
    "else:\n",
    "  print('Finished!')"
   ]
  },
  {
   "cell_type": "code",
   "execution_count": 48,
   "id": "770e1c75",
   "metadata": {},
   "outputs": [
    {
     "name": "stdout",
     "output_type": "stream",
     "text": [
      "[42, 13.03, 'DataScience']\n"
     ]
    }
   ],
   "source": [
    "x = ['Procoding', 42, 13.03, 'DataScience', '4U', 11.1]\n",
    "print(x[1:4])"
   ]
  },
  {
   "cell_type": "code",
   "execution_count": 50,
   "id": "33a09e3b",
   "metadata": {},
   "outputs": [
    {
     "name": "stdout",
     "output_type": "stream",
     "text": [
      "[-1, -0.25, 0.5, 1.5]\n"
     ]
    }
   ],
   "source": [
    "lst = [-1, -0.25, 0.5, 1.5]\n",
    " \n",
    "lst2 =  lst[0:5]\n",
    "print(lst2)\n"
   ]
  },
  {
   "cell_type": "code",
   "execution_count": 51,
   "id": "04635db6",
   "metadata": {},
   "outputs": [
    {
     "name": "stdout",
     "output_type": "stream",
     "text": [
      "[-1, -0.25, 0.5, 1.5]\n",
      "1.5\n"
     ]
    }
   ],
   "source": [
    "lst = [-1, -0.25, 0.5, 1.5]\n",
    " \n",
    "lst2 =  lst[0:5]\n",
    "y = lst[lst[0]]\n",
    " \n",
    "print(lst2)\n",
    "print(y)"
   ]
  },
  {
   "cell_type": "code",
   "execution_count": 56,
   "id": "c4e785f0",
   "metadata": {},
   "outputs": [
    {
     "name": "stdout",
     "output_type": "stream",
     "text": [
      "2490104549440\n",
      "2490104549504\n"
     ]
    }
   ],
   "source": [
    "data = {'center': 'Procoding', 'age': 5}\n",
    "school = data.copy()\n",
    "\n",
    "print(id(data))\n",
    "print(id(school))\n",
    "\n",
    "# print(id(data) == id(school))"
   ]
  },
  {
   "cell_type": "code",
   "execution_count": 57,
   "id": "591faa7d",
   "metadata": {},
   "outputs": [
    {
     "name": "stdout",
     "output_type": "stream",
     "text": [
      "***\n"
     ]
    }
   ],
   "source": [
    "a = 1 + 2 * 3 // 4\n",
    "if a < 2: \n",
    "  print('*')\n",
    "elif a < 0 :\n",
    "  print('**')\n",
    "else:\n",
    "  print('***')"
   ]
  },
  {
   "cell_type": "code",
   "execution_count": 58,
   "id": "bcb11601",
   "metadata": {},
   "outputs": [
    {
     "name": "stdout",
     "output_type": "stream",
     "text": [
      "(30,) (20,)\n"
     ]
    }
   ],
   "source": [
    "def f1():\n",
    "  c=30,\n",
    "  d=20,\n",
    "  return c, d\n",
    "  \n",
    "a,b=f1()\n",
    " \n",
    "print(a,b)"
   ]
  },
  {
   "cell_type": "code",
   "execution_count": 59,
   "id": "147768ed",
   "metadata": {},
   "outputs": [
    {
     "name": "stdout",
     "output_type": "stream",
     "text": [
      "Pro-Coding"
     ]
    }
   ],
   "source": [
    "print(\"Pro\", \"Coding\", sep=\"-\", end=\"\")"
   ]
  },
  {
   "cell_type": "code",
   "execution_count": 60,
   "id": "7454cfa1",
   "metadata": {},
   "outputs": [
    {
     "name": "stdout",
     "output_type": "stream",
     "text": [
      "[42, 2, 3]\n"
     ]
    }
   ],
   "source": [
    "x = [1, 2, 3]\n",
    "y = x\n",
    "x[0] = 42\n",
    "print(y)"
   ]
  },
  {
   "cell_type": "code",
   "execution_count": 61,
   "id": "fc0228d8",
   "metadata": {},
   "outputs": [
    {
     "name": "stdout",
     "output_type": "stream",
     "text": [
      "[2, (6, 5), False]\n"
     ]
    }
   ],
   "source": [
    "lst = ['Ana', 1, 4, 2, (6, 5), False]\n",
    "del lst[:-3]\n",
    " \n",
    "print(lst)"
   ]
  },
  {
   "cell_type": "code",
   "execution_count": 62,
   "id": "f2982df1",
   "metadata": {},
   "outputs": [
    {
     "name": "stdout",
     "output_type": "stream",
     "text": [
      "None\n"
     ]
    }
   ],
   "source": [
    "d={\"one\":\"two\", \"two\":\"None\"}\n",
    "key=\"one\"\n",
    "key=d[key]\n",
    "key=d[key]\n",
    "print(key)"
   ]
  },
  {
   "cell_type": "code",
   "execution_count": 63,
   "id": "4a48e296",
   "metadata": {},
   "outputs": [
    {
     "name": "stdout",
     "output_type": "stream",
     "text": [
      "0\n"
     ]
    }
   ],
   "source": [
    "def f(x):\n",
    "  if x == 3:\n",
    "    return 0\n",
    "  else: return x * f(x-1)\n",
    " \n",
    "print(f(4))"
   ]
  },
  {
   "cell_type": "code",
   "execution_count": 64,
   "id": "1a08e03e",
   "metadata": {},
   "outputs": [
    {
     "name": "stdout",
     "output_type": "stream",
     "text": [
      "{7: 'Java', 4: 'JavaScript', 3: 'Python', 1: 'C#'}\n"
     ]
    }
   ],
   "source": [
    "dict1 = {7: 'Java', 4: 'JavaScript', 3: 'Python', 1:\"C#\"}\n",
    " \n",
    "dict2 = dict1\n",
    "del dict1\n",
    " \n",
    "print(dict2)"
   ]
  },
  {
   "cell_type": "code",
   "execution_count": 2,
   "id": "2f91016e",
   "metadata": {},
   "outputs": [],
   "source": [
    "i = 15\n",
    "j = 22"
   ]
  },
  {
   "cell_type": "code",
   "execution_count": 5,
   "id": "94b0771c",
   "metadata": {},
   "outputs": [
    {
     "name": "stdout",
     "output_type": "stream",
     "text": [
      "6\n"
     ]
    }
   ],
   "source": [
    "x = i & j \n",
    "print(x)"
   ]
  },
  {
   "cell_type": "code",
   "execution_count": 15,
   "id": "d2835976",
   "metadata": {},
   "outputs": [
    {
     "name": "stdout",
     "output_type": "stream",
     "text": [
      "6\n"
     ]
    }
   ],
   "source": [
    "i = 15\n",
    "j = 22\n",
    "x = i & j\n",
    "print(x)"
   ]
  },
  {
   "cell_type": "code",
   "execution_count": 13,
   "id": "20acd48e",
   "metadata": {},
   "outputs": [
    {
     "name": "stdout",
     "output_type": "stream",
     "text": [
      "2\n",
      "False\n"
     ]
    }
   ],
   "source": [
    "i = 2\n",
    "print(i)\n",
    "x = not i\n",
    "print(x)"
   ]
  },
  {
   "cell_type": "code",
   "execution_count": 16,
   "id": "b3a374c4",
   "metadata": {},
   "outputs": [
    {
     "name": "stdout",
     "output_type": "stream",
     "text": [
      "-16\n"
     ]
    }
   ],
   "source": [
    "i = 15\n",
    "x = ~ i\n",
    "print(x)"
   ]
  },
  {
   "cell_type": "code",
   "execution_count": 21,
   "id": "f8d15224",
   "metadata": {},
   "outputs": [
    {
     "name": "stdout",
     "output_type": "stream",
     "text": [
      "1\n",
      "4\n"
     ]
    }
   ],
   "source": [
    "x = 1\n",
    "print(x)\n",
    "y =  x << 2\n",
    "print(y)"
   ]
  },
  {
   "cell_type": "code",
   "execution_count": 22,
   "id": "3deb57f3",
   "metadata": {},
   "outputs": [
    {
     "name": "stdout",
     "output_type": "stream",
     "text": [
      "40\n"
     ]
    }
   ],
   "source": [
    "# Define a list\n",
    "my_list = [10, 20, 30, 40, 50]\n",
    "\n",
    "# Use an expression as the index to access an element\n",
    "index = 2 + 1  # An expression (2 + 1) is used as the index\n",
    "element = my_list[index]\n",
    "\n",
    "print(element)\n"
   ]
  },
  {
   "cell_type": "code",
   "execution_count": 23,
   "id": "76f160cc",
   "metadata": {},
   "outputs": [
    {
     "name": "stdout",
     "output_type": "stream",
     "text": [
      "[2, 3, 4, 5, 6, 7]\n"
     ]
    }
   ],
   "source": [
    "mylist = [2,3,4,5,6,7]\n",
    "print(mylist)"
   ]
  },
  {
   "cell_type": "code",
   "execution_count": 24,
   "id": "b43dd8d9",
   "metadata": {},
   "outputs": [],
   "source": [
    "mylist.insert(2,2222)"
   ]
  },
  {
   "cell_type": "code",
   "execution_count": 25,
   "id": "6dee4760",
   "metadata": {},
   "outputs": [
    {
     "name": "stdout",
     "output_type": "stream",
     "text": [
      "[2, 3, 2222, 4, 5, 6, 7]\n"
     ]
    }
   ],
   "source": [
    "print(mylist)"
   ]
  },
  {
   "cell_type": "code",
   "execution_count": 28,
   "id": "1a89688f",
   "metadata": {},
   "outputs": [
    {
     "name": "stdout",
     "output_type": "stream",
     "text": [
      "11\n",
      "22\n",
      "33\n",
      "44\n",
      "11\n",
      "22\n",
      "33\n",
      "44\n"
     ]
    }
   ],
   "source": [
    "mylist = [11,22,33,44]\n",
    "for i in range(4):\n",
    "    print(mylist[i])\n",
    "    \n",
    "    \n",
    "mylist.append(55)\n",
    "\n",
    "for i in range(4):\n",
    "    print(mylist[i])"
   ]
  },
  {
   "cell_type": "code",
   "execution_count": 29,
   "id": "ddd86b42",
   "metadata": {},
   "outputs": [
    {
     "name": "stdout",
     "output_type": "stream",
     "text": [
      "11\n",
      "22\n",
      "33\n",
      "44\n"
     ]
    }
   ],
   "source": [
    "mylist = [11,22,33,44]\n",
    "for i in range(4):\n",
    "    print(mylist[i])"
   ]
  },
  {
   "cell_type": "code",
   "execution_count": 30,
   "id": "c117a18d",
   "metadata": {},
   "outputs": [],
   "source": [
    "mylist.append(55)"
   ]
  },
  {
   "cell_type": "code",
   "execution_count": 31,
   "id": "7171eebd",
   "metadata": {},
   "outputs": [
    {
     "name": "stdout",
     "output_type": "stream",
     "text": [
      "[11, 22, 33, 44, 55]\n"
     ]
    }
   ],
   "source": [
    "print(mylist)"
   ]
  },
  {
   "cell_type": "code",
   "execution_count": 36,
   "id": "1aea7581",
   "metadata": {},
   "outputs": [
    {
     "ename": "IndexError",
     "evalue": "list index out of range",
     "output_type": "error",
     "traceback": [
      "\u001b[1;31m---------------------------------------------------------------------------\u001b[0m",
      "\u001b[1;31mIndexError\u001b[0m                                Traceback (most recent call last)",
      "\u001b[1;32m~\\AppData\\Local\\Temp/ipykernel_9528/1926377692.py\u001b[0m in \u001b[0;36m<module>\u001b[1;34m\u001b[0m\n\u001b[0;32m      1\u001b[0m \u001b[1;32mfor\u001b[0m \u001b[0mi\u001b[0m \u001b[1;32min\u001b[0m \u001b[0mmylist\u001b[0m\u001b[1;33m:\u001b[0m\u001b[1;33m\u001b[0m\u001b[1;33m\u001b[0m\u001b[0m\n\u001b[1;32m----> 2\u001b[1;33m     \u001b[0mprint\u001b[0m\u001b[1;33m(\u001b[0m\u001b[0mmylist\u001b[0m\u001b[1;33m[\u001b[0m\u001b[0mi\u001b[0m\u001b[1;33m]\u001b[0m\u001b[1;33m)\u001b[0m\u001b[1;33m\u001b[0m\u001b[1;33m\u001b[0m\u001b[0m\n\u001b[0m",
      "\u001b[1;31mIndexError\u001b[0m: list index out of range"
     ]
    }
   ],
   "source": [
    "for i in mylist:\n",
    "    print(mylist[i])"
   ]
  },
  {
   "cell_type": "code",
   "execution_count": null,
   "id": "a9ff43e6",
   "metadata": {},
   "outputs": [],
   "source": []
  }
 ],
 "metadata": {
  "kernelspec": {
   "display_name": "Python 3 (ipykernel)",
   "language": "python",
   "name": "python3"
  },
  "language_info": {
   "codemirror_mode": {
    "name": "ipython",
    "version": 3
   },
   "file_extension": ".py",
   "mimetype": "text/x-python",
   "name": "python",
   "nbconvert_exporter": "python",
   "pygments_lexer": "ipython3",
   "version": "3.8.8"
  }
 },
 "nbformat": 4,
 "nbformat_minor": 5
}
