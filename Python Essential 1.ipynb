{
 "cells": [
  {
   "cell_type": "code",
   "execution_count": null,
   "id": "34f73430",
   "metadata": {},
   "outputs": [],
   "source": [
    "def function(x):\n",
    "    if x ==2: \n",
    "        print(\"gااood\") "
   ]
  },
  {
   "cell_type": "code",
   "execution_count": null,
   "id": "4309bb9b",
   "metadata": {},
   "outputs": [],
   "source": []
  },
  {
   "cell_type": "code",
   "execution_count": null,
   "id": "0882fcda",
   "metadata": {},
   "outputs": [],
   "source": []
  },
  {
   "cell_type": "code",
   "execution_count": null,
   "id": "da546415",
   "metadata": {},
   "outputs": [],
   "source": [
    "function(3)"
   ]
  },
  {
   "cell_type": "code",
   "execution_count": null,
   "id": "7e528958",
   "metadata": {},
   "outputs": [],
   "source": [
    "def is_year_leap(year):\n",
    "    test_data = [1900, 2000, 2016, 1987]\n",
    "    test_results = [False, True, True, False]\n",
    "    for i in range(test_data):\n",
    "        "
   ]
  },
  {
   "cell_type": "code",
   "execution_count": null,
   "id": "669ea63b",
   "metadata": {},
   "outputs": [],
   "source": [
    "def function():\n",
    "    x = 2 \n",
    "    print(x)\n",
    "    \n",
    "    \n",
    "x = 3\n",
    "print(x)\n",
    "function()\n",
    "#print(x)"
   ]
  },
  {
   "cell_type": "code",
   "execution_count": null,
   "id": "d3ca7a30",
   "metadata": {},
   "outputs": [],
   "source": [
    "def function():\n",
    "    global x \n",
    "    x = 1\n",
    "    print(x)\n",
    "\n",
    "x = 2\n",
    "print(x)\n",
    "function() #after running this line, since x is defined as a global var, it will be 1 everywhere \n",
    "print(x) \n",
    "x = 3 #unless you manually define it again\n",
    "print(x)"
   ]
  },
  {
   "cell_type": "code",
   "execution_count": null,
   "id": "9d1da554",
   "metadata": {},
   "outputs": [],
   "source": [
    "def my_function(my_list_1):\n",
    "    print(\"Print #1:\", my_list_1)\n",
    "    print(\"Print #2:\", my_list_2)\n",
    "    del my_list_1[0]  # Pay attention to this line.\n",
    "    print(\"Print #3:\", my_list_1)\n",
    "    print(\"Print #4:\", my_list_2)\n",
    "\n",
    "\n",
    "my_list_2 = [2, 3]\n",
    "my_function(my_list_2)\n",
    "print(\"Print #5:\", my_list_2)\n",
    "\n"
   ]
  },
  {
   "cell_type": "code",
   "execution_count": null,
   "id": "7f0712fd",
   "metadata": {},
   "outputs": [],
   "source": [
    "def factorial_function(n):\n",
    "    if n < 0:\n",
    "        return None\n",
    "    if n < 2:\n",
    "        return 1\n",
    "    \n",
    "    product = 1\n",
    "    for i in range(2, n + 1):\n",
    "        product *= i\n",
    "    return product\n",
    "\n",
    "\n",
    "for n in range(1, 6):  # testing\n",
    "    print(n, factorial_function(n))\n",
    "\n"
   ]
  },
  {
   "cell_type": "code",
   "execution_count": null,
   "id": "7f4a3c78",
   "metadata": {},
   "outputs": [],
   "source": [
    "for n in range(1, 6):  # testing\n",
    "    print(n, factorial_function(n))"
   ]
  },
  {
   "cell_type": "code",
   "execution_count": null,
   "id": "48ec8624",
   "metadata": {},
   "outputs": [],
   "source": [
    "factorial_function(3)"
   ]
  },
  {
   "cell_type": "code",
   "execution_count": null,
   "id": "ec01850b",
   "metadata": {},
   "outputs": [],
   "source": [
    "list1 = []"
   ]
  },
  {
   "cell_type": "code",
   "execution_count": null,
   "id": "b048f432",
   "metadata": {},
   "outputs": [],
   "source": [
    "print(list1)"
   ]
  },
  {
   "cell_type": "code",
   "execution_count": null,
   "id": "9d545482",
   "metadata": {},
   "outputs": [],
   "source": [
    "list1.append(2)"
   ]
  },
  {
   "cell_type": "code",
   "execution_count": null,
   "id": "225829d0",
   "metadata": {},
   "outputs": [],
   "source": [
    "print(list1)"
   ]
  },
  {
   "cell_type": "code",
   "execution_count": null,
   "id": "1946aebf",
   "metadata": {},
   "outputs": [],
   "source": [
    "list2 = [2,3,4]"
   ]
  },
  {
   "cell_type": "code",
   "execution_count": null,
   "id": "486bf733",
   "metadata": {},
   "outputs": [],
   "source": [
    "list2.remove(4)"
   ]
  },
  {
   "cell_type": "code",
   "execution_count": null,
   "id": "c165c6e2",
   "metadata": {},
   "outputs": [],
   "source": [
    "print(list2)"
   ]
  },
  {
   "cell_type": "code",
   "execution_count": null,
   "id": "2c515df4",
   "metadata": {},
   "outputs": [],
   "source": [
    "my_tuple = ()"
   ]
  },
  {
   "cell_type": "code",
   "execution_count": null,
   "id": "ebfc8bee",
   "metadata": {},
   "outputs": [],
   "source": [
    "print(my_tuple)"
   ]
  },
  {
   "cell_type": "code",
   "execution_count": null,
   "id": "d411ae4a",
   "metadata": {},
   "outputs": [],
   "source": [
    "tuple2 = (2,3, 'hello')"
   ]
  },
  {
   "cell_type": "code",
   "execution_count": null,
   "id": "17c22811",
   "metadata": {},
   "outputs": [],
   "source": [
    "print(tuple2)"
   ]
  },
  {
   "cell_type": "code",
   "execution_count": null,
   "id": "e78e2d1e",
   "metadata": {},
   "outputs": [],
   "source": [
    "list3 = [3,4,'Hi']"
   ]
  },
  {
   "cell_type": "code",
   "execution_count": null,
   "id": "cfc7f714",
   "metadata": {},
   "outputs": [],
   "source": [
    "print(list3)"
   ]
  },
  {
   "cell_type": "code",
   "execution_count": null,
   "id": "31c3cfdb",
   "metadata": {},
   "outputs": [],
   "source": [
    "mydictionary = { \"sag\":\"dog\" , \"gorbe\":\"cat\" }"
   ]
  },
  {
   "cell_type": "code",
   "execution_count": null,
   "id": "cbfebaa4",
   "metadata": {},
   "outputs": [],
   "source": [
    "{}"
   ]
  },
  {
   "cell_type": "code",
   "execution_count": null,
   "id": "f38a48e0",
   "metadata": {},
   "outputs": [],
   "source": [
    "print(mydictionary)"
   ]
  },
  {
   "cell_type": "code",
   "execution_count": null,
   "id": "67497199",
   "metadata": {},
   "outputs": [],
   "source": [
    "name = input(\"Enter your name: \")"
   ]
  },
  {
   "cell_type": "code",
   "execution_count": null,
   "id": "d7817a5f",
   "metadata": {},
   "outputs": [],
   "source": [
    "largest_number = -99999999\n",
    "counter = 0\n",
    "\n",
    "number = int(input(\"Enter a number or type -1 to end program: \"))\n",
    "\n",
    "while number != -1:\n",
    "    if number == -1:\n",
    "        continue\n",
    "    counter += 1\n",
    "\n",
    "    if number > largest_number:\n",
    "        largest_number = number\n",
    "    number = int(input(\"Enter a number or type -1 to end program: \"))\n",
    "\n",
    "    \n",
    "    \n",
    "if counter:\n",
    "    print(\"The largest number is\", largest_number)\n",
    "else:\n",
    "    print(\"You haven't entered any number.\")\n",
    "    "
   ]
  },
  {
   "cell_type": "code",
   "execution_count": null,
   "id": "c156f734",
   "metadata": {},
   "outputs": [],
   "source": [
    "for i in range(1,10, 2):\n",
    "    print(i)"
   ]
  },
  {
   "cell_type": "code",
   "execution_count": null,
   "id": "cd2040f4",
   "metadata": {},
   "outputs": [],
   "source": [
    "result = 2 / 2\n",
    "print(\"Hello\")"
   ]
  },
  {
   "cell_type": "code",
   "execution_count": null,
   "id": "f2e3b960",
   "metadata": {},
   "outputs": [],
   "source": [
    "x = 1\n",
    "while x < 11:\n",
    "    if (x % 2) != 0:\n",
    "        print(x)\n",
    "    x = x + 1"
   ]
  },
  {
   "cell_type": "code",
   "execution_count": null,
   "id": "9f9b4832",
   "metadata": {},
   "outputs": [],
   "source": [
    "for x in \"john.smith@pythoninstitute.org\":\n",
    "    if x == \"@\":\n",
    "        break\n",
    "    else: \n",
    "        i = 1\n",
    "        mylist = []\n",
    "        mylist[i] = x\n",
    "        i = i + 1"
   ]
  },
  {
   "cell_type": "code",
   "execution_count": null,
   "id": "1e56171d",
   "metadata": {},
   "outputs": [],
   "source": [
    "for ch in \"john.smith@pythoninstitute.org\":\n",
    "    if ch == \"@\":\n",
    "        break\n",
    "    print(ch, end=\"\")\n",
    "    "
   ]
  },
  {
   "cell_type": "code",
   "execution_count": null,
   "id": "9d6d8205",
   "metadata": {},
   "outputs": [],
   "source": [
    "for digit in \"0165031806510\":\n",
    "    if digit == \"0\":\n",
    "        print(\"x\", end=\"\")\n",
    "        continue\n",
    "    print(digit, end=\"\")"
   ]
  },
  {
   "cell_type": "code",
   "execution_count": null,
   "id": "0b23d204",
   "metadata": {},
   "outputs": [],
   "source": [
    "i = 1\n",
    "j = not not i\n",
    "print(j)"
   ]
  },
  {
   "cell_type": "code",
   "execution_count": null,
   "id": "fae9134b",
   "metadata": {},
   "outputs": [],
   "source": [
    "x = 1\n",
    "print(x)"
   ]
  },
  {
   "cell_type": "code",
   "execution_count": null,
   "id": "f1e06515",
   "metadata": {},
   "outputs": [],
   "source": [
    "x = -3\n",
    "print(x)\n",
    "y = not not x\n",
    "print(y)"
   ]
  },
  {
   "cell_type": "code",
   "execution_count": null,
   "id": "c528519d",
   "metadata": {},
   "outputs": [],
   "source": [
    "lst=['PRO']\n",
    "print(len(lst) * 'abc' + 'xyz')"
   ]
  },
  {
   "cell_type": "code",
   "execution_count": null,
   "id": "9494b4fd",
   "metadata": {},
   "outputs": [],
   "source": [
    "x = [False, True, True, False, True]\n",
    "y = x[:]\n",
    "i = 0\n",
    "for j in y[2:]:\n",
    "  if j:\n",
    "    i +=1\n",
    "print(i)"
   ]
  },
  {
   "cell_type": "code",
   "execution_count": null,
   "id": "058e1bc5",
   "metadata": {},
   "outputs": [],
   "source": [
    "data = (1, 2, 8, 16)\n",
    "print(type(data))\n",
    "\n",
    "data2 = data[-2:-1]\n",
    "print(data2)\n",
    "#data = data[-1]\n",
    "#print(data)"
   ]
  },
  {
   "cell_type": "code",
   "execution_count": null,
   "id": "f3c190c9",
   "metadata": {},
   "outputs": [],
   "source": [
    "for a in range(1, 3):\n",
    "  for b in range(1, 3):\n",
    "    if a >= b:\n",
    "      continue\n",
    "  else:\n",
    "    print(a * b)"
   ]
  },
  {
   "cell_type": "code",
   "execution_count": null,
   "id": "69b5e96f",
   "metadata": {},
   "outputs": [],
   "source": [
    "x = {'Marko': 10, 'Ana': 46, 'Angie':76}\n",
    "print(list(x.keys()))"
   ]
  },
  {
   "cell_type": "code",
   "execution_count": null,
   "id": "43fb1999",
   "metadata": {},
   "outputs": [],
   "source": [
    "def test():\n",
    "  x = 'Procoding'\n",
    "  print(x)\n",
    " \n",
    "x = 'DataScience4U'\n",
    "print(x)\n",
    "test()\n",
    "print(x)"
   ]
  },
  {
   "cell_type": "code",
   "execution_count": null,
   "id": "e5ed4d9c",
   "metadata": {},
   "outputs": [],
   "source": [
    "x = 42\n",
    "for i in range(2, 8, 2):\n",
    "  for j in range(-5, 2, 3):\n",
    "    if i==j:\n",
    "      x += 2\n",
    "    else:\n",
    "      break\n",
    "print(x)"
   ]
  },
  {
   "cell_type": "code",
   "execution_count": null,
   "id": "00a12680",
   "metadata": {},
   "outputs": [],
   "source": [
    "def func(a):\n",
    "  a[3]='shark'\n",
    " \n",
    "x = ['cat', 'dog', 'mouse', 'cow']\n",
    "func(x)\n",
    "print(x)"
   ]
  },
  {
   "cell_type": "code",
   "execution_count": null,
   "id": "793c99d2",
   "metadata": {},
   "outputs": [],
   "source": [
    "a = 13\n",
    "b = 42\n",
    " \n",
    "while a < b:\n",
    "  print(\"*\", sep=\"-\", end=\"\")\n",
    "  a += 7"
   ]
  },
  {
   "cell_type": "code",
   "execution_count": null,
   "id": "ac469c04",
   "metadata": {},
   "outputs": [],
   "source": [
    "x = [[[42, 13], [33, 44]], [[555, 678], [7, 8]]]\n",
    " \n",
    "def test(z): # z = [[555, 678], [7, 8]] --> z[0] = [555, 678] --> z[0][0] = 555 \n",
    "  res = z[0][0] # res = 555\n",
    "  for el in z:  # el = [555, 678]\n",
    "    for d in el: # d = 678\n",
    "      if res < d:\n",
    "        res = d\n",
    "  return res\n",
    " \n",
    "print(test(x[1])) # x[1] = [[555, 678], [7, 8]]"
   ]
  },
  {
   "cell_type": "code",
   "execution_count": null,
   "id": "95a47ce0",
   "metadata": {},
   "outputs": [],
   "source": [
    "x = [[[42, 13], [33, 44]], [[555, 678], [7, 8]]]\n",
    "print(x[0][0][0])"
   ]
  },
  {
   "cell_type": "code",
   "execution_count": null,
   "id": "21c5b97c",
   "metadata": {},
   "outputs": [],
   "source": [
    "def f(x):\n",
    "  return x ** 3 - 24\n",
    " \n",
    "print(f(f(f(3))))"
   ]
  },
  {
   "cell_type": "code",
   "execution_count": null,
   "id": "4a96bc35",
   "metadata": {},
   "outputs": [],
   "source": [
    "x=42\n",
    "while x<46:\n",
    "  x+=1\n",
    "  print(x)\n",
    "  break\n",
    "else:\n",
    "  print(\"break\")"
   ]
  },
  {
   "cell_type": "code",
   "execution_count": null,
   "id": "f93a2d89",
   "metadata": {},
   "outputs": [],
   "source": [
    "print(79. // 7)"
   ]
  },
  {
   "cell_type": "code",
   "execution_count": null,
   "id": "bcd645a0",
   "metadata": {},
   "outputs": [],
   "source": [
    "print(42 + 5.0 * 3 + 22 // 4 + 11 % 3)"
   ]
  },
  {
   "cell_type": "code",
   "execution_count": null,
   "id": "291be8bb",
   "metadata": {},
   "outputs": [],
   "source": [
    "print(42 + 5.0 * 3 + 22)"
   ]
  },
  {
   "cell_type": "code",
   "execution_count": null,
   "id": "c7134e34",
   "metadata": {},
   "outputs": [],
   "source": [
    "print(4 + 11 % 3)"
   ]
  },
  {
   "cell_type": "code",
   "execution_count": null,
   "id": "3591be14",
   "metadata": {},
   "outputs": [],
   "source": [
    "print(79. // 6)"
   ]
  },
  {
   "cell_type": "code",
   "execution_count": null,
   "id": "86e4737f",
   "metadata": {},
   "outputs": [],
   "source": [
    "print(42 + 5.0 * 3 + 22 // 4 + 11 % 3)\n"
   ]
  },
  {
   "cell_type": "code",
   "execution_count": null,
   "id": "fd6f16eb",
   "metadata": {},
   "outputs": [],
   "source": [
    "while True:\n",
    "  password = input()\n",
    "  if password == 'qwerty':\n",
    "    print(\"Ok password: \", password)\n",
    "    break\n",
    "    print(\"End\")\n",
    "  else:\n",
    "    print(\"Wrong password: \", password)"
   ]
  },
  {
   "cell_type": "code",
   "execution_count": null,
   "id": "d0673129",
   "metadata": {},
   "outputs": [],
   "source": [
    "x = 0\n",
    "for i in range(-2, 4, 2):\n",
    "  if 4 * i < 8:\n",
    "    x += 3\n",
    "else:\n",
    "  x += 2\n",
    "print(x)"
   ]
  },
  {
   "cell_type": "code",
   "execution_count": null,
   "id": "611d3e6a",
   "metadata": {},
   "outputs": [],
   "source": [
    "x = 'DataScience4U'\n",
    "for char in x:\n",
    "  if char == 't':\n",
    "    break\n",
    "  print(char)\n",
    "else:\n",
    "  print('Finished!')"
   ]
  },
  {
   "cell_type": "code",
   "execution_count": null,
   "id": "770e1c75",
   "metadata": {},
   "outputs": [],
   "source": [
    "x = ['Procoding', 42, 13.03, 'DataScience', '4U', 11.1]\n",
    "print(x[1:4])"
   ]
  },
  {
   "cell_type": "code",
   "execution_count": null,
   "id": "33a09e3b",
   "metadata": {},
   "outputs": [],
   "source": [
    "lst = [-1, -0.25, 0.5, 1.5]\n",
    " \n",
    "lst2 =  lst[0:5]\n",
    "print(lst2)\n"
   ]
  },
  {
   "cell_type": "code",
   "execution_count": null,
   "id": "04635db6",
   "metadata": {},
   "outputs": [],
   "source": [
    "lst = [-1, -0.25, 0.5, 1.5]\n",
    " \n",
    "lst2 =  lst[0:5]\n",
    "y = lst[lst[0]]\n",
    " \n",
    "print(lst2)\n",
    "print(y)"
   ]
  },
  {
   "cell_type": "code",
   "execution_count": null,
   "id": "c4e785f0",
   "metadata": {},
   "outputs": [],
   "source": [
    "data = {'center': 'Procoding', 'age': 5}\n",
    "school = data.copy()\n",
    "\n",
    "print(id(data))\n",
    "print(id(school))\n",
    "\n",
    "# print(id(data) == id(school))"
   ]
  },
  {
   "cell_type": "code",
   "execution_count": null,
   "id": "591faa7d",
   "metadata": {},
   "outputs": [],
   "source": [
    "a = 1 + 2 * 3 // 4\n",
    "if a < 2: \n",
    "  print('*')\n",
    "elif a < 0 :\n",
    "  print('**')\n",
    "else:\n",
    "  print('***')"
   ]
  },
  {
   "cell_type": "code",
   "execution_count": null,
   "id": "bcb11601",
   "metadata": {},
   "outputs": [],
   "source": [
    "def f1():\n",
    "  c=30,\n",
    "  d=20,\n",
    "  return c, d\n",
    "  \n",
    "a,b=f1()\n",
    " \n",
    "print(a,b)"
   ]
  },
  {
   "cell_type": "code",
   "execution_count": null,
   "id": "147768ed",
   "metadata": {},
   "outputs": [],
   "source": [
    "print(\"Pro\", \"Coding\", sep=\"-\", end=\"\")"
   ]
  },
  {
   "cell_type": "code",
   "execution_count": null,
   "id": "7454cfa1",
   "metadata": {},
   "outputs": [],
   "source": [
    "x = [1, 2, 3]\n",
    "y = x\n",
    "x[0] = 42\n",
    "print(y)"
   ]
  },
  {
   "cell_type": "code",
   "execution_count": null,
   "id": "fc0228d8",
   "metadata": {},
   "outputs": [],
   "source": [
    "lst = ['Ana', 1, 4, 2, (6, 5), False]\n",
    "del lst[:-3]\n",
    " \n",
    "print(lst)"
   ]
  },
  {
   "cell_type": "code",
   "execution_count": null,
   "id": "f2982df1",
   "metadata": {},
   "outputs": [],
   "source": [
    "d={\"one\":\"two\", \"two\":\"None\"}\n",
    "key=\"one\"\n",
    "key=d[key]\n",
    "key=d[key]\n",
    "print(key)"
   ]
  },
  {
   "cell_type": "code",
   "execution_count": null,
   "id": "4a48e296",
   "metadata": {},
   "outputs": [],
   "source": [
    "def f(x):\n",
    "  if x == 3:\n",
    "    return 0\n",
    "  else: return x * f(x-1)\n",
    " \n",
    "print(f(4))"
   ]
  },
  {
   "cell_type": "code",
   "execution_count": null,
   "id": "1a08e03e",
   "metadata": {},
   "outputs": [],
   "source": [
    "dict1 = {7: 'Java', 4: 'JavaScript', 3: 'Python', 1:\"C#\"}\n",
    " \n",
    "dict2 = dict1\n",
    "del dict1\n",
    " \n",
    "print(dict2)"
   ]
  },
  {
   "cell_type": "code",
   "execution_count": null,
   "id": "2f91016e",
   "metadata": {},
   "outputs": [],
   "source": [
    "i = 15\n",
    "j = 22"
   ]
  },
  {
   "cell_type": "code",
   "execution_count": null,
   "id": "56143971",
   "metadata": {},
   "outputs": [],
   "source": [
    "x = i & j \n",
    "print(x)"
   ]
  },
  {
   "cell_type": "code",
   "execution_count": null,
   "id": "9cd9920f",
   "metadata": {},
   "outputs": [],
   "source": [
    "i = 15\n",
    "j = 22\n",
    "x = i & j\n",
    "print(x)"
   ]
  },
  {
   "cell_type": "code",
   "execution_count": null,
   "id": "5705e9d2",
   "metadata": {},
   "outputs": [],
   "source": [
    "i = 2\n",
    "print(i)\n",
    "x = not i\n",
    "print(x)"
   ]
  },
  {
   "cell_type": "code",
   "execution_count": null,
   "id": "ed62a350",
   "metadata": {},
   "outputs": [],
   "source": [
    "i = 15\n",
    "x = ~ i\n",
    "print(x)"
   ]
  },
  {
   "cell_type": "code",
   "execution_count": null,
   "id": "423ee57c",
   "metadata": {},
   "outputs": [],
   "source": [
    "x = 1\n",
    "print(x)\n",
    "y =  x << 2\n",
    "print(y)"
   ]
  },
  {
   "cell_type": "code",
   "execution_count": null,
   "id": "fc07b4d2",
   "metadata": {},
   "outputs": [],
   "source": [
    "# Define a list\n",
    "my_list = [10, 20, 30, 40, 50]\n",
    "\n",
    "# Use an expression as the index to access an element\n",
    "index = 2 + 1  # An expression (2 + 1) is used as the index\n",
    "element = my_list[index]\n",
    "\n",
    "print(element)\n"
   ]
  },
  {
   "cell_type": "code",
   "execution_count": null,
   "id": "7de0ac99",
   "metadata": {},
   "outputs": [],
   "source": [
    "mylist = [2,3,4,5,6,7]\n",
    "print(mylist)"
   ]
  },
  {
   "cell_type": "code",
   "execution_count": null,
   "id": "ae1d82cb",
   "metadata": {},
   "outputs": [],
   "source": [
    "mylist.insert(2,2222)"
   ]
  },
  {
   "cell_type": "code",
   "execution_count": null,
   "id": "ffd37e73",
   "metadata": {},
   "outputs": [],
   "source": [
    "print(mylist)"
   ]
  },
  {
   "cell_type": "code",
   "execution_count": null,
   "id": "fc362a7e",
   "metadata": {},
   "outputs": [],
   "source": [
    "mylist = [11,22,33,44]\n",
    "for i in range(4):\n",
    "    print(mylist[i])\n",
    "    \n",
    "    \n",
    "mylist.append(55)\n",
    "\n",
    "for i in range(4):\n",
    "    print(mylist[i])"
   ]
  },
  {
   "cell_type": "code",
   "execution_count": null,
   "id": "f9e066ab",
   "metadata": {},
   "outputs": [],
   "source": [
    "mylist = [11,22,33,44]\n",
    "for i in range(4):\n",
    "    print(mylist[i])"
   ]
  },
  {
   "cell_type": "code",
   "execution_count": null,
   "id": "7e5f17c4",
   "metadata": {},
   "outputs": [],
   "source": [
    "mylist.append(55)"
   ]
  },
  {
   "cell_type": "code",
   "execution_count": null,
   "id": "664cafe6",
   "metadata": {},
   "outputs": [],
   "source": [
    "print(mylist)"
   ]
  },
  {
   "cell_type": "code",
   "execution_count": null,
   "id": "187d35fd",
   "metadata": {},
   "outputs": [],
   "source": [
    "for i in mylist:\n",
    "    print(mylist[i])"
   ]
  },
  {
   "cell_type": "code",
   "execution_count": null,
   "id": "78a0d16a",
   "metadata": {},
   "outputs": [],
   "source": [
    "mylist = [11,22,33,44]\n",
    "\n",
    "    \n",
    "mylist.append(55)\n",
    "\n",
    "for i in mylist:\n",
    "    print(i)"
   ]
  },
  {
   "cell_type": "code",
   "execution_count": null,
   "id": "f303d617",
   "metadata": {},
   "outputs": [],
   "source": [
    "def f(x):\n",
    "  if x % 2 == 0:\n",
    "    return 1\n",
    "  else:\n",
    "    return\n",
    " \n",
    "print(f(f(2)) + 11)"
   ]
  },
  {
   "cell_type": "code",
   "execution_count": null,
   "id": "1502a1bc",
   "metadata": {},
   "outputs": [],
   "source": [
    "def f(x):\n",
    "  if x % 2 == 0:\n",
    "    return 1\n",
    "  else:\n",
    "    return\n",
    "\n",
    "print(f(1) + 11)"
   ]
  },
  {
   "cell_type": "code",
   "execution_count": null,
   "id": "2c705bdd",
   "metadata": {},
   "outputs": [],
   "source": [
    "x = 15\n",
    "def test(): \n",
    "  x -= 4.0        \n",
    " \n",
    "print(test())"
   ]
  },
  {
   "cell_type": "code",
   "execution_count": null,
   "id": "6243a217",
   "metadata": {},
   "outputs": [],
   "source": [
    "mylist = [2,3,9,1,2,7,8,1111]\n",
    "print(mylist)\n",
    "mylist.sort()\n",
    "print(mylist)"
   ]
  },
  {
   "cell_type": "code",
   "execution_count": null,
   "id": "f5ad020a",
   "metadata": {},
   "outputs": [],
   "source": [
    "x = 2\n",
    "y = x #I assigned x to y\n",
    "x = 3 #I updated the x, but y will not change\n",
    "print(f'x = {x}')\n",
    "print(f'y = {y}')"
   ]
  },
  {
   "cell_type": "code",
   "execution_count": null,
   "id": "708a839b",
   "metadata": {},
   "outputs": [],
   "source": [
    "x = [1,2] #x is a list\n",
    "y = x #I assigned x to y --> x and y are both lists\n",
    "x[0], x[1] = 3, 4 #y will be updated as well \n",
    "print(f'y after updating x = {y}')"
   ]
  },
  {
   "cell_type": "code",
   "execution_count": null,
   "id": "c01dc00c",
   "metadata": {},
   "outputs": [],
   "source": [
    "#Slicing \n",
    "x = [1,2,3,4,5]\n",
    "y = x[0:-2]\n",
    "print(y)"
   ]
  },
  {
   "cell_type": "code",
   "execution_count": null,
   "id": "387128b1",
   "metadata": {},
   "outputs": [],
   "source": [
    "y = x[1:]\n",
    "print(y)"
   ]
  },
  {
   "cell_type": "code",
   "execution_count": null,
   "id": "8cd536ad",
   "metadata": {},
   "outputs": [],
   "source": [
    "my_list = [0, 3, 12, 8, 2]\n",
    "\n",
    "print(5 in my_list)"
   ]
  },
  {
   "cell_type": "code",
   "execution_count": null,
   "id": "e0970c81",
   "metadata": {},
   "outputs": [],
   "source": [
    "my_list = [1, 2, 3, 4, 5, 6, 7, 8, 9, 10]\n",
    "to_find = 5\n",
    "found = False\n",
    "\n",
    "for i in range(len(my_list)):\n",
    "    found = my_list[i] == to_find\n",
    "    if found:\n",
    "        break\n",
    "\n",
    "if found:\n",
    "    print(\"Element found at index\", i)\n",
    "else:\n",
    "    print(\"absent\")"
   ]
  },
  {
   "cell_type": "code",
   "execution_count": null,
   "id": "c79a1c95",
   "metadata": {},
   "outputs": [],
   "source": [
    "row = [WHITE_PAWN for i in range(8)]"
   ]
  },
  {
   "cell_type": "code",
   "execution_count": null,
   "id": "97a1286d",
   "metadata": {},
   "outputs": [],
   "source": [
    "squares = [x ** 2 for x in range(10)]\n",
    "\n",
    "print(squares)\n"
   ]
  },
  {
   "cell_type": "code",
   "execution_count": null,
   "id": "87168c02",
   "metadata": {},
   "outputs": [],
   "source": [
    "mylist = [i * 2 for i in range(5)]\n",
    "print(mylist)"
   ]
  },
  {
   "cell_type": "code",
   "execution_count": null,
   "id": "ee7ed5ba",
   "metadata": {},
   "outputs": [],
   "source": [
    "mylist = [ for i in range(5)]\n",
    "print(mylist)"
   ]
  },
  {
   "cell_type": "code",
   "execution_count": null,
   "id": "5441c14b",
   "metadata": {},
   "outputs": [],
   "source": [
    "x = []\n",
    "\n",
    "\n",
    "for j in range(5):\n",
    "    y = [i * 2 for i in range(6)]\n",
    "    x.append(y)\n",
    "\n",
    "\n",
    "\n",
    "print(x)\n"
   ]
  },
  {
   "cell_type": "code",
   "execution_count": null,
   "id": "b328df3c",
   "metadata": {},
   "outputs": [],
   "source": [
    "y = [ [i * 2 for i in range(5)] for j in range(3)]\n",
    "print(y)"
   ]
  },
  {
   "cell_type": "code",
   "execution_count": null,
   "id": "b08d9770",
   "metadata": {},
   "outputs": [],
   "source": [
    "rooms = [[[False for r in range(4)] for f in range(3)] for t in range(2)]\n",
    "print(rooms)"
   ]
  },
  {
   "cell_type": "code",
   "execution_count": null,
   "id": "73c0a298",
   "metadata": {},
   "outputs": [],
   "source": [
    "print(\"\\\")\n"
   ]
  },
  {
   "cell_type": "code",
   "execution_count": null,
   "id": "b8f1f956",
   "metadata": {},
   "outputs": [],
   "source": [
    "print(\"\\\\\")"
   ]
  },
  {
   "cell_type": "code",
   "execution_count": null,
   "id": "563f24f6",
   "metadata": {},
   "outputs": [],
   "source": [
    "print(\"Hello\", \"Azarm\", end = \"NO\")"
   ]
  },
  {
   "cell_type": "code",
   "execution_count": null,
   "id": "1440e1cc",
   "metadata": {},
   "outputs": [],
   "source": [
    "print(\"Heloooooooooo\", \"safd\", end=\"sjhdf\", sep = \"????\")"
   ]
  },
  {
   "cell_type": "code",
   "execution_count": null,
   "id": "bacb0d5d",
   "metadata": {
    "scrolled": true
   },
   "outputs": [],
   "source": [
    "x = 10_0\n",
    "y = x / 2\n",
    "print(y)"
   ]
  },
  {
   "cell_type": "code",
   "execution_count": null,
   "id": "927b0b63",
   "metadata": {},
   "outputs": [],
   "source": [
    "x = 4//3\n",
    "print(x)"
   ]
  },
  {
   "cell_type": "code",
   "execution_count": null,
   "id": "9761596c",
   "metadata": {},
   "outputs": [],
   "source": [
    "x = input(\"Plz write your name:\")"
   ]
  },
  {
   "cell_type": "code",
   "execution_count": null,
   "id": "d7ae9d6a",
   "metadata": {},
   "outputs": [],
   "source": [
    "print(x)"
   ]
  },
  {
   "cell_type": "code",
   "execution_count": null,
   "id": "ddf64fce",
   "metadata": {},
   "outputs": [],
   "source": [
    "y = int(x)"
   ]
  },
  {
   "cell_type": "code",
   "execution_count": null,
   "id": "fb33e4e0",
   "metadata": {},
   "outputs": [],
   "source": [
    "x = \"A\" * -1\n",
    "print(x)"
   ]
  },
  {
   "cell_type": "code",
   "execution_count": null,
   "id": "12096b0d",
   "metadata": {},
   "outputs": [],
   "source": [
    "def test(): \n",
    "  x -= 4.0        \n",
    " \n",
    "x = 15\n",
    "test(x)\n",
    " \n",
    "print(x)"
   ]
  },
  {
   "cell_type": "code",
   "execution_count": null,
   "id": "4675789d",
   "metadata": {},
   "outputs": [],
   "source": [
    "\n",
    "y = 3.23\n",
    "z = False\n",
    " \n",
    "\n",
    "print(y+z)"
   ]
  },
  {
   "cell_type": "code",
   "execution_count": null,
   "id": "18a0e7c2",
   "metadata": {},
   "outputs": [],
   "source": [
    "x = 5\n",
    "def f():\n",
    "  global x\n",
    "  x += 5\n",
    "  print(5 + x)\n",
    " \n",
    "print(x)\n",
    "f()\n",
    "print(x)"
   ]
  },
  {
   "cell_type": "code",
   "execution_count": null,
   "id": "d1f000c0",
   "metadata": {},
   "outputs": [],
   "source": [
    "x = (9, 20,1,1,1,1,1)\n",
    "y =  (8, 13)\n",
    "print (x > y)"
   ]
  },
  {
   "cell_type": "code",
   "execution_count": null,
   "id": "f9f34d98",
   "metadata": {},
   "outputs": [],
   "source": [
    "def test(a, b):\n",
    "  a = 1\n",
    "  b[0] = 42\n",
    " \n",
    "x = 13\n",
    "y = [10, 20, 30]\n",
    " \n",
    "test(x, y)\n",
    " \n",
    "print(x, y[0])"
   ]
  },
  {
   "cell_type": "code",
   "execution_count": null,
   "id": "f1295791",
   "metadata": {},
   "outputs": [],
   "source": [
    "i = 9\n",
    "while i > 0:\n",
    "  i -= 3\n",
    "  print('*')\n",
    "  if i == 3:\n",
    "    break\n",
    "  else:\n",
    "    print('*')"
   ]
  },
  {
   "cell_type": "code",
   "execution_count": null,
   "id": "f500e3ae",
   "metadata": {},
   "outputs": [],
   "source": [
    "x = (1, 2)\n",
    "y = ('x', 'y', 42)\n",
    "z = x + y * 2\n",
    "print(z)"
   ]
  },
  {
   "cell_type": "code",
   "execution_count": null,
   "id": "564ccf05",
   "metadata": {},
   "outputs": [],
   "source": [
    "try:\n",
    "  print(42/0)\n",
    "      continue \n",
    "except (ZeroDivisionError):\n",
    "  print(\"Zero division\")\n",
    "except: \n",
    "  print(\"You made a mistake\")\n",
    "except (ValueError):\n",
    "  print(\"Boo!\")"
   ]
  },
  {
   "cell_type": "code",
   "execution_count": null,
   "id": "81e9e7c8",
   "metadata": {},
   "outputs": [],
   "source": [
    "if True == True:\n",
    "  if False == 0:\n",
    "    print('a', end=\"\")\n",
    "  else:\n",
    "    print('aa', end=\"\")\n",
    "  print('aaa', end=\"\")\n",
    "  if True < False:\n",
    "    print('aaaa', end=\"\")\n",
    "  else:\n",
    "    print('aaaaa', end=\"\")\n",
    "    "
   ]
  },
  {
   "cell_type": "code",
   "execution_count": null,
   "id": "711fa329",
   "metadata": {},
   "outputs": [],
   "source": [
    "def f(x):\n",
    "    x[0] = 42\n",
    " \n",
    "x = [1, 2, 3, 4]\n",
    "f(x)\n",
    "print(x)"
   ]
  },
  {
   "cell_type": "code",
   "execution_count": null,
   "id": "48a875bb",
   "metadata": {},
   "outputs": [],
   "source": [
    "d = {}\n",
    "d[1] = 7\n",
    "d['1'] = 8\n",
    "d[1] -= 4\n",
    "\n",
    "print(d)\n",
    "# d = { 1:3 , \"1\":8}\n",
    "\n",
    "s = 0\n",
    " \n",
    "for i in d:\n",
    "  s += d[i]\n",
    " \n",
    "print(s)"
   ]
  },
  {
   "cell_type": "code",
   "execution_count": null,
   "id": "3a6b6daa",
   "metadata": {},
   "outputs": [],
   "source": [
    "print(d)"
   ]
  },
  {
   "cell_type": "code",
   "execution_count": null,
   "id": "a6e7708b",
   "metadata": {},
   "outputs": [],
   "source": [
    "a = 'DataScience4U'\n",
    "i = 7\n",
    "while i < len(a):\n",
    "  i += 2\n",
    "print(i+1)"
   ]
  },
  {
   "cell_type": "code",
   "execution_count": 1,
   "id": "f79c7276",
   "metadata": {},
   "outputs": [],
   "source": [
    "while 13 < 13:\n",
    "    print(\"True\")"
   ]
  },
  {
   "cell_type": "code",
   "execution_count": 2,
   "id": "1dab22b7",
   "metadata": {},
   "outputs": [
    {
     "name": "stdout",
     "output_type": "stream",
     "text": [
      "Enter value for x: 2\n",
      "Enter value for y: 4\n",
      "42\n"
     ]
    }
   ],
   "source": [
    "x=input(\"Enter value for x: \")\n",
    "y=input(\"Enter value for y: \")\n",
    "print(y+x)"
   ]
  },
  {
   "cell_type": "code",
   "execution_count": 4,
   "id": "c0c21e4a",
   "metadata": {},
   "outputs": [
    {
     "name": "stdout",
     "output_type": "stream",
     "text": [
      "[2, 3, 4]\n"
     ]
    }
   ],
   "source": [
    "data = [1, 2, 3, 4, 5]\n",
    " \n",
    "def test(x):\n",
    "  del x[0]\n",
    "  x.pop()\n",
    " \n",
    "test(data)\n",
    "print(data) "
   ]
  },
  {
   "cell_type": "code",
   "execution_count": 5,
   "id": "6b950b63",
   "metadata": {},
   "outputs": [
    {
     "name": "stdout",
     "output_type": "stream",
     "text": [
      "[2, 3, 5]\n"
     ]
    }
   ],
   "source": [
    "data = [1, 2, 3, 4, 5]\n",
    " \n",
    "def test(x):\n",
    "  del x[0]\n",
    "  x.pop(2)\n",
    " \n",
    "test(data)\n",
    "print(data)"
   ]
  },
  {
   "cell_type": "code",
   "execution_count": 7,
   "id": "f6ad7cb2",
   "metadata": {},
   "outputs": [
    {
     "name": "stdout",
     "output_type": "stream",
     "text": [
      "9\n"
     ]
    }
   ],
   "source": [
    "points = [65, 75, 90, 80, 80, 100, 100]\n",
    "avg = sum(points) // len(points)\n",
    "if 91 <= avg <= 100:\n",
    "  grade = 10\n",
    "elif 81 <= avg < 90:\n",
    "  grade = 9\n",
    "elif 71 <= avg < 80:\n",
    "  grade = 8\n",
    "elif 61 <= avg < 70:\n",
    "  grade = 7\n",
    "elif 51 <= avg < 60:\n",
    "  grade = 6\n",
    "else:\n",
    "  grade = 5\n",
    "\n",
    "\n",
    "print(grade)"
   ]
  },
  {
   "cell_type": "code",
   "execution_count": 8,
   "id": "830a6574",
   "metadata": {},
   "outputs": [
    {
     "ename": "TypeError",
     "evalue": "f() takes 0 positional arguments but 1 was given",
     "output_type": "error",
     "traceback": [
      "\u001b[1;31m---------------------------------------------------------------------------\u001b[0m",
      "\u001b[1;31mTypeError\u001b[0m                                 Traceback (most recent call last)",
      "\u001b[1;32m~\\AppData\\Local\\Temp/ipykernel_2136/2141648087.py\u001b[0m in \u001b[0;36m<module>\u001b[1;34m\u001b[0m\n\u001b[0;32m      3\u001b[0m   \u001b[0my\u001b[0m\u001b[1;33m=\u001b[0m\u001b[1;36m3\u001b[0m\u001b[1;33m\u001b[0m\u001b[1;33m\u001b[0m\u001b[0m\n\u001b[0;32m      4\u001b[0m   \u001b[1;32mreturn\u001b[0m \u001b[0mx\u001b[0m\u001b[1;33m+\u001b[0m\u001b[0my\u001b[0m\u001b[1;33m\u001b[0m\u001b[1;33m\u001b[0m\u001b[0m\n\u001b[1;32m----> 5\u001b[1;33m \u001b[0mx\u001b[0m \u001b[1;33m=\u001b[0m \u001b[0mf\u001b[0m\u001b[1;33m(\u001b[0m\u001b[1;36m5\u001b[0m\u001b[1;33m)\u001b[0m\u001b[1;33m\u001b[0m\u001b[1;33m\u001b[0m\u001b[0m\n\u001b[0m\u001b[0;32m      6\u001b[0m \u001b[0mprint\u001b[0m\u001b[1;33m(\u001b[0m\u001b[0mx\u001b[0m\u001b[1;33m)\u001b[0m\u001b[1;33m\u001b[0m\u001b[1;33m\u001b[0m\u001b[0m\n",
      "\u001b[1;31mTypeError\u001b[0m: f() takes 0 positional arguments but 1 was given"
     ]
    }
   ],
   "source": [
    "def f():\n",
    "  x=2\n",
    "  y=3\n",
    "  return x+y\n",
    "x = f(5)\n",
    "print(x)"
   ]
  },
  {
   "cell_type": "code",
   "execution_count": 9,
   "id": "1bc8da9c",
   "metadata": {},
   "outputs": [
    {
     "name": "stdout",
     "output_type": "stream",
     "text": [
      "D a i c U "
     ]
    }
   ],
   "source": [
    "def f(data):\n",
    "  for d in data[::3]:\n",
    "    yield d\n",
    " \n",
    "for x in f('DataScience4U'):\n",
    "  print(x, end=' ')"
   ]
  },
  {
   "cell_type": "code",
   "execution_count": 10,
   "id": "eb1e2731",
   "metadata": {},
   "outputs": [
    {
     "name": "stdout",
     "output_type": "stream",
     "text": [
      "No\n"
     ]
    }
   ],
   "source": [
    "x = 42\n",
    "if (x<13): print(\"Yes\")\n",
    "else: print(\"No\")"
   ]
  },
  {
   "cell_type": "code",
   "execution_count": 11,
   "id": "328cc093",
   "metadata": {},
   "outputs": [
    {
     "ename": "ZeroDivisionError",
     "evalue": "integer division or modulo by zero",
     "output_type": "error",
     "traceback": [
      "\u001b[1;31m---------------------------------------------------------------------------\u001b[0m",
      "\u001b[1;31mZeroDivisionError\u001b[0m                         Traceback (most recent call last)",
      "\u001b[1;32m~\\AppData\\Local\\Temp/ipykernel_2136/3584047291.py\u001b[0m in \u001b[0;36m<module>\u001b[1;34m\u001b[0m\n\u001b[0;32m      2\u001b[0m \u001b[0my\u001b[0m \u001b[1;33m=\u001b[0m \u001b[1;36m3\u001b[0m\u001b[1;33m\u001b[0m\u001b[1;33m\u001b[0m\u001b[0m\n\u001b[0;32m      3\u001b[0m \u001b[0mx\u001b[0m \u001b[1;33m+=\u001b[0m \u001b[1;36m2\u001b[0m \u001b[1;33m**\u001b[0m \u001b[1;36m3\u001b[0m\u001b[1;33m\u001b[0m\u001b[1;33m\u001b[0m\u001b[0m\n\u001b[1;32m----> 4\u001b[1;33m \u001b[0mx\u001b[0m \u001b[1;33m//=\u001b[0m \u001b[0my\u001b[0m \u001b[1;33m//\u001b[0m \u001b[1;36m2\u001b[0m \u001b[1;33m//\u001b[0m \u001b[1;36m3\u001b[0m\u001b[1;33m\u001b[0m\u001b[1;33m\u001b[0m\u001b[0m\n\u001b[0m\u001b[0;32m      5\u001b[0m \u001b[0mprint\u001b[0m\u001b[1;33m(\u001b[0m\u001b[0mx\u001b[0m\u001b[1;33m)\u001b[0m\u001b[1;33m\u001b[0m\u001b[1;33m\u001b[0m\u001b[0m\n",
      "\u001b[1;31mZeroDivisionError\u001b[0m: integer division or modulo by zero"
     ]
    }
   ],
   "source": [
    "x = 12\n",
    "y = 3\n",
    "x += 2 ** 3\n",
    "x //= y // 2 // 3\n",
    "print(x)"
   ]
  },
  {
   "cell_type": "code",
   "execution_count": 16,
   "id": "e8c6428c",
   "metadata": {},
   "outputs": [
    {
     "name": "stdout",
     "output_type": "stream",
     "text": [
      "0.022222222222222223\n"
     ]
    }
   ],
   "source": [
    "x = 60\n",
    "y = 30\n",
    "\n",
    "z = x / y /90\n",
    "print(z)"
   ]
  },
  {
   "cell_type": "code",
   "execution_count": 17,
   "id": "2f135377",
   "metadata": {},
   "outputs": [
    {
     "name": "stdout",
     "output_type": "stream",
     "text": [
      "10\n"
     ]
    }
   ],
   "source": [
    "def f():\n",
    "  return 3\n",
    " \n",
    "def g(x):\n",
    "  return f() + x\n",
    " \n",
    "print(g(7))"
   ]
  },
  {
   "cell_type": "code",
   "execution_count": 19,
   "id": "cecb10be",
   "metadata": {},
   "outputs": [
    {
     "name": "stdout",
     "output_type": "stream",
     "text": [
      "Enter x: sdf\n"
     ]
    },
    {
     "ename": "TypeError",
     "evalue": "unsupported operand type(s) for /: 'int' and 'str'",
     "output_type": "error",
     "traceback": [
      "\u001b[1;31m---------------------------------------------------------------------------\u001b[0m",
      "\u001b[1;31mTypeError\u001b[0m                                 Traceback (most recent call last)",
      "\u001b[1;32m~\\AppData\\Local\\Temp/ipykernel_2136/561761951.py\u001b[0m in \u001b[0;36m<module>\u001b[1;34m\u001b[0m\n\u001b[0;32m      1\u001b[0m \u001b[0mx\u001b[0m \u001b[1;33m=\u001b[0m \u001b[0minput\u001b[0m\u001b[1;33m(\u001b[0m\u001b[1;34m\"Enter x: \"\u001b[0m\u001b[1;33m)\u001b[0m\u001b[1;33m\u001b[0m\u001b[1;33m\u001b[0m\u001b[0m\n\u001b[1;32m----> 2\u001b[1;33m \u001b[0mprint\u001b[0m\u001b[1;33m(\u001b[0m\u001b[1;36m10\u001b[0m\u001b[1;33m/\u001b[0m\u001b[0mx\u001b[0m\u001b[1;33m)\u001b[0m\u001b[1;33m\u001b[0m\u001b[1;33m\u001b[0m\u001b[0m\n\u001b[0m",
      "\u001b[1;31mTypeError\u001b[0m: unsupported operand type(s) for /: 'int' and 'str'"
     ]
    }
   ],
   "source": [
    "x = input(\"Enter x: \")\n",
    "print(10/x)"
   ]
  },
  {
   "cell_type": "code",
   "execution_count": 20,
   "id": "2de3c851",
   "metadata": {},
   "outputs": [
    {
     "name": "stdout",
     "output_type": "stream",
     "text": [
      "Original list: [1, 2, 3, 4, 5]\n",
      "Result: [5, 4, 3, 2, 1]\n"
     ]
    }
   ],
   "source": [
    "def mystery_function(lst):\n",
    "    if len(lst) == 0:\n",
    "        return []\n",
    "    if len(lst) == 1:\n",
    "        return lst\n",
    "    return mystery_function(lst[1:]) + [lst[0]]\n",
    " \n",
    "original_list = [1, 2, 3, 4, 5]\n",
    "result = mystery_function(original_list)\n",
    "print(\"Original list:\", original_list)\n",
    "print(\"Result:\", result)"
   ]
  },
  {
   "cell_type": "code",
   "execution_count": 22,
   "id": "421d3c5f",
   "metadata": {},
   "outputs": [
    {
     "name": "stdout",
     "output_type": "stream",
     "text": [
      "<class 'tuple'>\n",
      "('1', '2', '3', '4')\n"
     ]
    }
   ],
   "source": [
    "x = '1', '2'\n",
    "print(type(x))\n",
    "y = ('3', '4')\n",
    "print(x + y)"
   ]
  },
  {
   "cell_type": "code",
   "execution_count": 23,
   "id": "a09333d1",
   "metadata": {},
   "outputs": [
    {
     "name": "stdout",
     "output_type": "stream",
     "text": [
      "Year is less than 2023\n"
     ]
    }
   ],
   "source": [
    "year = 2000\n",
    "print(\"Year is less than 2023\") if year<2023 else print(\"Bye bye\")"
   ]
  },
  {
   "cell_type": "code",
   "execution_count": 1,
   "id": "0c05dca5",
   "metadata": {},
   "outputs": [
    {
     "name": "stdout",
     "output_type": "stream",
     "text": [
      "[1, 2, 3, 4]\n"
     ]
    }
   ],
   "source": [
    "mylist = [1,2,3,4]\n",
    "print(mylist)"
   ]
  },
  {
   "cell_type": "code",
   "execution_count": 7,
   "id": "14d2a1bb",
   "metadata": {},
   "outputs": [
    {
     "name": "stdout",
     "output_type": "stream",
     "text": [
      "[8, 9, 9, 9, 9, 1, 2, 3, 4]\n"
     ]
    }
   ],
   "source": [
    "mylist.insert(0,8)\n",
    "print(mylist)"
   ]
  },
  {
   "cell_type": "code",
   "execution_count": 17,
   "id": "1f15d5fd",
   "metadata": {},
   "outputs": [
    {
     "data": {
      "text/plain": [
       "[0, 1, 2, 3, 4]"
      ]
     },
     "execution_count": 17,
     "metadata": {},
     "output_type": "execute_result"
    }
   ],
   "source": [
    "def fun1(n):\n",
    "    list = []\n",
    "    for i in range(0,n):\n",
    "        list.insert(n,i)\n",
    "    return list\n",
    "    \n",
    "fun1(5)"
   ]
  },
  {
   "cell_type": "code",
   "execution_count": 19,
   "id": "0fcf5984",
   "metadata": {},
   "outputs": [
    {
     "ename": "TypeError",
     "evalue": "append() takes exactly one argument (2 given)",
     "output_type": "error",
     "traceback": [
      "\u001b[1;31m---------------------------------------------------------------------------\u001b[0m",
      "\u001b[1;31mTypeError\u001b[0m                                 Traceback (most recent call last)",
      "\u001b[1;32m~\\AppData\\Local\\Temp/ipykernel_5184/3989995234.py\u001b[0m in \u001b[0;36m<module>\u001b[1;34m\u001b[0m\n\u001b[1;32m----> 1\u001b[1;33m \u001b[0mmylist\u001b[0m\u001b[1;33m.\u001b[0m\u001b[0mappend\u001b[0m\u001b[1;33m(\u001b[0m\u001b[1;36m2\u001b[0m\u001b[1;33m,\u001b[0m\u001b[1;36m99\u001b[0m\u001b[1;33m)\u001b[0m\u001b[1;33m\u001b[0m\u001b[1;33m\u001b[0m\u001b[0m\n\u001b[0m\u001b[0;32m      2\u001b[0m \u001b[0mprint\u001b[0m\u001b[1;33m(\u001b[0m\u001b[0mmylist\u001b[0m\u001b[1;33m)\u001b[0m\u001b[1;33m\u001b[0m\u001b[1;33m\u001b[0m\u001b[0m\n",
      "\u001b[1;31mTypeError\u001b[0m: append() takes exactly one argument (2 given)"
     ]
    }
   ],
   "source": [
    "mylist.append(99)\n",
    "print(mylist)"
   ]
  },
  {
   "cell_type": "code",
   "execution_count": 20,
   "id": "e9e3f471",
   "metadata": {},
   "outputs": [
    {
     "name": "stdout",
     "output_type": "stream",
     "text": [
      "[8, 9, 9, 9, 9, 1, 2, 3, 4, 99]\n"
     ]
    }
   ],
   "source": [
    "print(mylist)"
   ]
  },
  {
   "cell_type": "code",
   "execution_count": 22,
   "id": "fa113fe3",
   "metadata": {},
   "outputs": [
    {
     "name": "stdout",
     "output_type": "stream",
     "text": [
      "8\n",
      "9\n",
      "9\n",
      "9\n",
      "9\n",
      "1\n",
      "2\n",
      "3\n",
      "4\n",
      "99\n"
     ]
    }
   ],
   "source": [
    "for i in mylist:\n",
    "    print(i)"
   ]
  },
  {
   "cell_type": "code",
   "execution_count": 25,
   "id": "f2eb40ea",
   "metadata": {},
   "outputs": [
    {
     "name": "stdout",
     "output_type": "stream",
     "text": [
      "8\n",
      "9\n",
      "9\n",
      "9\n",
      "9\n",
      "1\n",
      "2\n",
      "3\n",
      "4\n"
     ]
    }
   ],
   "source": [
    "for i in range(0,9):\n",
    "    print(mylist[i])"
   ]
  },
  {
   "cell_type": "code",
   "execution_count": null,
   "id": "bf806794",
   "metadata": {},
   "outputs": [],
   "source": [
    "for i in list2:\n",
    "    print(i)"
   ]
  },
  {
   "cell_type": "code",
   "execution_count": 30,
   "id": "bba5b420",
   "metadata": {},
   "outputs": [
    {
     "name": "stdout",
     "output_type": "stream",
     "text": [
      "[11, 22, 33, 44]\n"
     ]
    }
   ],
   "source": [
    "mylist = [11,22,33,44]\n",
    "print(mylist2)"
   ]
  },
  {
   "cell_type": "code",
   "execution_count": 31,
   "id": "4ebe10f0",
   "metadata": {},
   "outputs": [
    {
     "name": "stdout",
     "output_type": "stream",
     "text": [
      "11\n",
      "22\n",
      "33\n",
      "44\n"
     ]
    }
   ],
   "source": [
    "for i in mylist:\n",
    "    print(i)"
   ]
  },
  {
   "cell_type": "code",
   "execution_count": 32,
   "id": "a1cdf048",
   "metadata": {},
   "outputs": [
    {
     "ename": "IndexError",
     "evalue": "list index out of range",
     "output_type": "error",
     "traceback": [
      "\u001b[1;31m---------------------------------------------------------------------------\u001b[0m",
      "\u001b[1;31mIndexError\u001b[0m                                Traceback (most recent call last)",
      "\u001b[1;32m~\\AppData\\Local\\Temp/ipykernel_5184/1926377692.py\u001b[0m in \u001b[0;36m<module>\u001b[1;34m\u001b[0m\n\u001b[0;32m      1\u001b[0m \u001b[1;32mfor\u001b[0m \u001b[0mi\u001b[0m \u001b[1;32min\u001b[0m \u001b[0mmylist\u001b[0m\u001b[1;33m:\u001b[0m\u001b[1;33m\u001b[0m\u001b[1;33m\u001b[0m\u001b[0m\n\u001b[1;32m----> 2\u001b[1;33m     \u001b[0mprint\u001b[0m\u001b[1;33m(\u001b[0m\u001b[0mmylist\u001b[0m\u001b[1;33m[\u001b[0m\u001b[0mi\u001b[0m\u001b[1;33m]\u001b[0m\u001b[1;33m)\u001b[0m\u001b[1;33m\u001b[0m\u001b[1;33m\u001b[0m\u001b[0m\n\u001b[0m",
      "\u001b[1;31mIndexError\u001b[0m: list index out of range"
     ]
    }
   ],
   "source": [
    "for i in mylist:\n",
    "    print(mylist[i])"
   ]
  },
  {
   "cell_type": "code",
   "execution_count": 34,
   "id": "bf9007c1",
   "metadata": {},
   "outputs": [
    {
     "name": "stdout",
     "output_type": "stream",
     "text": [
      "11\n",
      "22\n",
      "33\n",
      "44\n"
     ]
    }
   ],
   "source": [
    "for i in range(0, 4):\n",
    "    print(mylist[i])"
   ]
  },
  {
   "cell_type": "code",
   "execution_count": 37,
   "id": "5370ad5c",
   "metadata": {},
   "outputs": [],
   "source": [
    "dictionary = {\n",
    "    \"First Name\" : \"Azarm\",\n",
    "    \"Last Name\" : \"Piran\", \n",
    "    \"Birthday\" : \"Feb-9\",\n",
    "    \"Age\" : \"30\"\n",
    "}"
   ]
  },
  {
   "cell_type": "code",
   "execution_count": 38,
   "id": "f0e35370",
   "metadata": {},
   "outputs": [
    {
     "name": "stdout",
     "output_type": "stream",
     "text": [
      "{'First Name': 'Azarm', 'Last Name': 'Piran', 'Birthday': 'Feb-9', 'Age': '30'}\n"
     ]
    }
   ],
   "source": [
    "print(dictionary)"
   ]
  },
  {
   "cell_type": "code",
   "execution_count": 40,
   "id": "bef95ebd",
   "metadata": {},
   "outputs": [
    {
     "name": "stdout",
     "output_type": "stream",
     "text": [
      "First Name\n",
      "Last Name\n",
      "Birthday\n",
      "Age\n"
     ]
    }
   ],
   "source": [
    "for i in dictionary.keys():\n",
    "    print(i)"
   ]
  },
  {
   "cell_type": "code",
   "execution_count": 41,
   "id": "a9670fc0",
   "metadata": {},
   "outputs": [
    {
     "name": "stdout",
     "output_type": "stream",
     "text": [
      "('First Name', 'Azarm')\n",
      "('Last Name', 'Piran')\n",
      "('Birthday', 'Feb-9')\n",
      "('Age', '30')\n"
     ]
    }
   ],
   "source": [
    "for i in dictionary.items():\n",
    "    print(i)"
   ]
  },
  {
   "cell_type": "code",
   "execution_count": 42,
   "id": "0bb66594",
   "metadata": {},
   "outputs": [
    {
     "name": "stdout",
     "output_type": "stream",
     "text": [
      "Azarm\n",
      "Piran\n",
      "Feb-9\n",
      "30\n"
     ]
    }
   ],
   "source": [
    "for i in dictionary.values():\n",
    "    print(i)"
   ]
  },
  {
   "cell_type": "code",
   "execution_count": 43,
   "id": "30b384c7",
   "metadata": {},
   "outputs": [
    {
     "name": "stdout",
     "output_type": "stream",
     "text": [
      "{'First Name': 'Azarm', 'Last Name': 'Piran', 'Birthday': 'Feb-9', 'Age': '30', 'From?': 'Iran'}\n"
     ]
    }
   ],
   "source": [
    "dictionary['From?'] = \"Iran\"\n",
    "print(dictionary)"
   ]
  },
  {
   "cell_type": "code",
   "execution_count": null,
   "id": "e274ca89",
   "metadata": {},
   "outputs": [],
   "source": [
    "dictionary.update"
   ]
  },
  {
   "cell_type": "code",
   "execution_count": 45,
   "id": "8a6648ff",
   "metadata": {},
   "outputs": [
    {
     "name": "stdout",
     "output_type": "stream",
     "text": [
      "Two\n"
     ]
    }
   ],
   "source": [
    "def fun(x):\n",
    "    if x == 2:\n",
    "        print(\"Two\")\n",
    "    elif x == 3:\n",
    "        print(\"Three\")\n",
    "    elif x == 4:\n",
    "        print(\"Four\")\n",
    "        \n",
    "        \n",
    "        \n",
    "fun(2)"
   ]
  },
  {
   "cell_type": "code",
   "execution_count": 46,
   "id": "dbf1ace7",
   "metadata": {},
   "outputs": [
    {
     "name": "stdout",
     "output_type": "stream",
     "text": [
      "10\n",
      "8\n",
      "6\n",
      "4\n",
      "2\n"
     ]
    }
   ],
   "source": [
    "\n",
    "for i in range(10,1,-2):\n",
    "    print(i)"
   ]
  },
  {
   "cell_type": "code",
   "execution_count": 54,
   "id": "187afe14",
   "metadata": {},
   "outputs": [
    {
     "name": "stdout",
     "output_type": "stream",
     "text": [
      "1\n"
     ]
    }
   ],
   "source": [
    "i = 9\n",
    "j = 1\n",
    "print( i & j )"
   ]
  },
  {
   "cell_type": "code",
   "execution_count": 55,
   "id": "ee077d47",
   "metadata": {},
   "outputs": [
    {
     "name": "stdout",
     "output_type": "stream",
     "text": [
      "1\n"
     ]
    }
   ],
   "source": [
    "x = 1\n",
    "print(x)\n",
    "# 001"
   ]
  },
  {
   "cell_type": "code",
   "execution_count": 59,
   "id": "18576653",
   "metadata": {},
   "outputs": [
    {
     "name": "stdout",
     "output_type": "stream",
     "text": [
      "4\n"
     ]
    }
   ],
   "source": [
    "y = x << 2\n",
    "print(y)"
   ]
  },
  {
   "cell_type": "code",
   "execution_count": 60,
   "id": "645af352",
   "metadata": {},
   "outputs": [
    {
     "name": "stdout",
     "output_type": "stream",
     "text": [
      "[9, 7, 10, 12, 19]\n"
     ]
    }
   ],
   "source": [
    "x1 = [9,7,10, 12,19]\n",
    "print(x1)"
   ]
  },
  {
   "cell_type": "code",
   "execution_count": 63,
   "id": "7efd274c",
   "metadata": {},
   "outputs": [
    {
     "name": "stdout",
     "output_type": "stream",
     "text": [
      "[7, 9, 10, 12, 19]\n"
     ]
    }
   ],
   "source": [
    "x2=x1.sort()\n",
    "print(x1)"
   ]
  },
  {
   "cell_type": "code",
   "execution_count": 64,
   "id": "5fc5b136",
   "metadata": {},
   "outputs": [
    {
     "name": "stdout",
     "output_type": "stream",
     "text": [
      "[9, 7, 10, 12, 19]\n"
     ]
    }
   ],
   "source": [
    "x1 = [9,7,10, 12,19]\n",
    "print(x1)"
   ]
  },
  {
   "cell_type": "code",
   "execution_count": 66,
   "id": "5981ea24",
   "metadata": {},
   "outputs": [
    {
     "name": "stdout",
     "output_type": "stream",
     "text": [
      "[19, 12, 10, 7, 9]\n"
     ]
    }
   ],
   "source": [
    "x1.reverse()\n",
    "print(x1)"
   ]
  },
  {
   "cell_type": "code",
   "execution_count": 1,
   "id": "b35f4ab0",
   "metadata": {},
   "outputs": [
    {
     "name": "stdout",
     "output_type": "stream",
     "text": [
      "*-**-"
     ]
    }
   ],
   "source": [
    "def f(a):\n",
    "  x = ''\n",
    "  for i in range(a):\n",
    "    x += '*'\n",
    "    yield x\n",
    " \n",
    "for x in f(2):\n",
    "  print(x, end='-')"
   ]
  },
  {
   "cell_type": "code",
   "execution_count": 2,
   "id": "b31723e4",
   "metadata": {},
   "outputs": [
    {
     "name": "stdout",
     "output_type": "stream",
     "text": [
      "3,5,7,9,11,"
     ]
    }
   ],
   "source": [
    "for x in range(3, 13, 2):\n",
    "  print(x, end = \",\")"
   ]
  },
  {
   "cell_type": "code",
   "execution_count": 7,
   "id": "220f237b",
   "metadata": {},
   "outputs": [
    {
     "name": "stdout",
     "output_type": "stream",
     "text": [
      "('Mark', 95)-('Ana', 67)-('John', 53)-"
     ]
    }
   ],
   "source": [
    "student_points = {\"Mark\": 95, \"Ana\": 67, \"John\": 53}\n",
    "for points in student_points.items():\n",
    "  print(points  , end=\"-\")"
   ]
  },
  {
   "cell_type": "code",
   "execution_count": 13,
   "id": "e0f17aa2",
   "metadata": {},
   "outputs": [
    {
     "ename": "TypeError",
     "evalue": "items() takes no arguments (1 given)",
     "output_type": "error",
     "traceback": [
      "\u001b[1;31m---------------------------------------------------------------------------\u001b[0m",
      "\u001b[1;31mTypeError\u001b[0m                                 Traceback (most recent call last)",
      "\u001b[1;32m~\\AppData\\Local\\Temp/ipykernel_5744/2006574976.py\u001b[0m in \u001b[0;36m<module>\u001b[1;34m\u001b[0m\n\u001b[1;32m----> 1\u001b[1;33m \u001b[0mprint\u001b[0m\u001b[1;33m(\u001b[0m\u001b[0mstudent_points\u001b[0m\u001b[1;33m.\u001b[0m\u001b[0mitems\u001b[0m\u001b[1;33m(\u001b[0m\u001b[1;33m[\u001b[0m\u001b[1;36m1\u001b[0m\u001b[1;33m]\u001b[0m\u001b[1;33m)\u001b[0m\u001b[1;33m)\u001b[0m\u001b[1;33m\u001b[0m\u001b[1;33m\u001b[0m\u001b[0m\n\u001b[0m",
      "\u001b[1;31mTypeError\u001b[0m: items() takes no arguments (1 given)"
     ]
    }
   ],
   "source": [
    "print(student_points.items([1]))"
   ]
  },
  {
   "cell_type": "code",
   "execution_count": 14,
   "id": "13eea35d",
   "metadata": {},
   "outputs": [
    {
     "name": "stdout",
     "output_type": "stream",
     "text": [
      "dict_items([('brand', 'Ford'), ('model', 'Mustang'), ('year', 1964)])\n"
     ]
    }
   ],
   "source": [
    "car = {\n",
    "  \"brand\": \"Ford\",\n",
    "  \"model\": \"Mustang\",\n",
    "  \"year\": 1964\n",
    "}\n",
    "\n",
    "x = car.items()\n",
    "\n",
    "print(x)"
   ]
  },
  {
   "cell_type": "code",
   "execution_count": 16,
   "id": "c1a486b3",
   "metadata": {},
   "outputs": [
    {
     "name": "stdout",
     "output_type": "stream",
     "text": [
      "<class 'dict_items'>\n"
     ]
    }
   ],
   "source": [
    "print(type(x))"
   ]
  },
  {
   "cell_type": "code",
   "execution_count": 17,
   "id": "0d60bb96",
   "metadata": {},
   "outputs": [
    {
     "data": {
      "text/plain": [
       "[('brand', 'Ford'), ('model', 'Mustang'), ('year', 1964)]"
      ]
     },
     "execution_count": 17,
     "metadata": {},
     "output_type": "execute_result"
    }
   ],
   "source": [
    "list(x)"
   ]
  },
  {
   "cell_type": "code",
   "execution_count": 18,
   "id": "72816f1e",
   "metadata": {},
   "outputs": [
    {
     "ename": "TypeError",
     "evalue": "'dict_items' object is not subscriptable",
     "output_type": "error",
     "traceback": [
      "\u001b[1;31m---------------------------------------------------------------------------\u001b[0m",
      "\u001b[1;31mTypeError\u001b[0m                                 Traceback (most recent call last)",
      "\u001b[1;32m~\\AppData\\Local\\Temp/ipykernel_5744/3285389606.py\u001b[0m in \u001b[0;36m<module>\u001b[1;34m\u001b[0m\n\u001b[1;32m----> 1\u001b[1;33m \u001b[0mprint\u001b[0m\u001b[1;33m(\u001b[0m\u001b[0mx\u001b[0m\u001b[1;33m[\u001b[0m\u001b[1;36m1\u001b[0m\u001b[1;33m]\u001b[0m\u001b[1;33m)\u001b[0m\u001b[1;33m\u001b[0m\u001b[1;33m\u001b[0m\u001b[0m\n\u001b[0m",
      "\u001b[1;31mTypeError\u001b[0m: 'dict_items' object is not subscriptable"
     ]
    }
   ],
   "source": [
    "print(x[1])"
   ]
  },
  {
   "cell_type": "code",
   "execution_count": 19,
   "id": "99c8e475",
   "metadata": {},
   "outputs": [
    {
     "name": "stdout",
     "output_type": "stream",
     "text": [
      "6\n"
     ]
    }
   ],
   "source": [
    "data = [1, 2, 'a', None, (), [], ]\n",
    "print(len(data))"
   ]
  },
  {
   "cell_type": "code",
   "execution_count": 21,
   "id": "0c023cc2",
   "metadata": {},
   "outputs": [
    {
     "name": "stdout",
     "output_type": "stream",
     "text": [
      "15\n"
     ]
    }
   ],
   "source": [
    "def t(y):\n",
    "  global x\n",
    "  x += y    \n",
    " \n",
    "x = 12\n",
    "t(3)\n",
    "print(x)"
   ]
  },
  {
   "cell_type": "code",
   "execution_count": 2,
   "id": "14227de8",
   "metadata": {},
   "outputs": [
    {
     "name": "stdout",
     "output_type": "stream",
     "text": [
      "Hello\n"
     ]
    }
   ],
   "source": [
    "serbian_greeting =\"aZdravo\"\n",
    " \n",
    "for i in serbian_greeting:\n",
    "  if i==\"a\":\n",
    "    pass\n",
    "else:\n",
    "  print('Hello')"
   ]
  },
  {
   "cell_type": "code",
   "execution_count": 3,
   "id": "d429022a",
   "metadata": {},
   "outputs": [
    {
     "name": "stdout",
     "output_type": "stream",
     "text": [
      "Ho\n"
     ]
    }
   ],
   "source": [
    "if not 1:\n",
    "  print(\"Hay\")\n",
    "else:\n",
    "  print(\"Ho\")"
   ]
  },
  {
   "cell_type": "code",
   "execution_count": 4,
   "id": "aa4cdb2a",
   "metadata": {},
   "outputs": [
    {
     "name": "stdout",
     "output_type": "stream",
     "text": [
      "y:  9\n"
     ]
    }
   ],
   "source": [
    "x='Procoding'\n",
    "y=0\n",
    "while y<len(x):\n",
    "  y+=1\n",
    "  pass\n",
    "print(\"y: \", y)"
   ]
  },
  {
   "cell_type": "code",
   "execution_count": 5,
   "id": "23777736",
   "metadata": {},
   "outputs": [
    {
     "name": "stdout",
     "output_type": "stream",
     "text": [
      "-2\n"
     ]
    }
   ],
   "source": [
    "lst = [1, 0, 3, 5, 8, 4]\n",
    " \n",
    "a, b = lst[4:]\n",
    "c = len(lst)+1\n",
    " \n",
    "x = a + b - c * 2\n",
    " \n",
    "print(x)"
   ]
  },
  {
   "cell_type": "code",
   "execution_count": 6,
   "id": "5e9cecd9",
   "metadata": {},
   "outputs": [
    {
     "name": "stdout",
     "output_type": "stream",
     "text": [
      "49\n"
     ]
    }
   ],
   "source": [
    "def f(a):\n",
    "  x = a ** 2\n",
    "  y = a % 2\n",
    "  return x\n",
    "  return y\n",
    "    \n",
    "print(f(7))"
   ]
  },
  {
   "cell_type": "code",
   "execution_count": 7,
   "id": "1f41cb4f",
   "metadata": {},
   "outputs": [
    {
     "name": "stdout",
     "output_type": "stream",
     "text": [
      "24 0\n"
     ]
    }
   ],
   "source": [
    "x = 20\n",
    "y = 0\n",
    " \n",
    "if x > 10:\n",
    "  x += 4\n",
    "  y = x % 3\n",
    " \n",
    "if y > 0:\n",
    "  y += 2\n",
    "  x -= 2\n",
    " \n",
    "print(x, y)"
   ]
  },
  {
   "cell_type": "code",
   "execution_count": 8,
   "id": "032e0375",
   "metadata": {},
   "outputs": [
    {
     "name": "stdout",
     "output_type": "stream",
     "text": [
      "Enter your number 0\n"
     ]
    },
    {
     "ename": "TypeError",
     "evalue": "unsupported operand type(s) for /: 'int' and 'str'",
     "output_type": "error",
     "traceback": [
      "\u001b[1;31m---------------------------------------------------------------------------\u001b[0m",
      "\u001b[1;31mTypeError\u001b[0m                                 Traceback (most recent call last)",
      "\u001b[1;32m~\\AppData\\Local\\Temp/ipykernel_3628/3781334935.py\u001b[0m in \u001b[0;36m<module>\u001b[1;34m\u001b[0m\n\u001b[0;32m      1\u001b[0m \u001b[0mnum\u001b[0m \u001b[1;33m=\u001b[0m \u001b[0minput\u001b[0m\u001b[1;33m(\u001b[0m\u001b[1;34m'Enter your number '\u001b[0m\u001b[1;33m)\u001b[0m\u001b[1;33m\u001b[0m\u001b[1;33m\u001b[0m\u001b[0m\n\u001b[1;32m----> 2\u001b[1;33m \u001b[0mprint\u001b[0m\u001b[1;33m(\u001b[0m\u001b[1;36m1\u001b[0m\u001b[1;33m/\u001b[0m\u001b[0mnum\u001b[0m\u001b[1;33m)\u001b[0m\u001b[1;33m\u001b[0m\u001b[1;33m\u001b[0m\u001b[0m\n\u001b[0m",
      "\u001b[1;31mTypeError\u001b[0m: unsupported operand type(s) for /: 'int' and 'str'"
     ]
    }
   ],
   "source": [
    "num = input('Enter your number ')\n",
    "print(1/num)"
   ]
  },
  {
   "cell_type": "code",
   "execution_count": 9,
   "id": "4829a00d",
   "metadata": {},
   "outputs": [
    {
     "name": "stdout",
     "output_type": "stream",
     "text": [
      "P r o c o d i n g "
     ]
    }
   ],
   "source": [
    "for x in \"Procoding\":\n",
    "  print(x, end=\" \")"
   ]
  },
  {
   "cell_type": "code",
   "execution_count": 10,
   "id": "e539c81d",
   "metadata": {},
   "outputs": [
    {
     "name": "stdout",
     "output_type": "stream",
     "text": [
      "1*3*5*7*"
     ]
    }
   ],
   "source": [
    "def f():\n",
    "  for i in range(1, 8, 2):\n",
    "    yield i\n",
    " \n",
    "for i in f():\n",
    "  print(i, end='*')"
   ]
  },
  {
   "cell_type": "code",
   "execution_count": 11,
   "id": "82752b82",
   "metadata": {},
   "outputs": [
    {
     "ename": "TypeError",
     "evalue": "'int' object is not iterable",
     "output_type": "error",
     "traceback": [
      "\u001b[1;31m---------------------------------------------------------------------------\u001b[0m",
      "\u001b[1;31mTypeError\u001b[0m                                 Traceback (most recent call last)",
      "\u001b[1;32m~\\AppData\\Local\\Temp/ipykernel_3628/2400173008.py\u001b[0m in \u001b[0;36m<module>\u001b[1;34m\u001b[0m\n\u001b[0;32m      1\u001b[0m \u001b[0mx\u001b[0m \u001b[1;33m=\u001b[0m \u001b[1;36m42\u001b[0m\u001b[1;33m\u001b[0m\u001b[1;33m\u001b[0m\u001b[0m\n\u001b[1;32m----> 2\u001b[1;33m \u001b[1;32mfor\u001b[0m \u001b[0mi\u001b[0m \u001b[1;32min\u001b[0m \u001b[0mx\u001b[0m\u001b[1;33m:\u001b[0m\u001b[1;33m\u001b[0m\u001b[1;33m\u001b[0m\u001b[0m\n\u001b[0m\u001b[0;32m      3\u001b[0m   \u001b[0mprint\u001b[0m\u001b[1;33m(\u001b[0m\u001b[0mi\u001b[0m\u001b[1;33m+\u001b[0m\u001b[1;36m2\u001b[0m\u001b[1;33m,\u001b[0m \u001b[0mend\u001b[0m\u001b[1;33m=\u001b[0m\u001b[1;34m\"*\"\u001b[0m\u001b[1;33m)\u001b[0m\u001b[1;33m\u001b[0m\u001b[1;33m\u001b[0m\u001b[0m\n",
      "\u001b[1;31mTypeError\u001b[0m: 'int' object is not iterable"
     ]
    }
   ],
   "source": [
    "x = 42\n",
    "for i in x:\n",
    "  print(i+2, end=\"*\")"
   ]
  },
  {
   "cell_type": "code",
   "execution_count": 12,
   "id": "e4f61c8a",
   "metadata": {},
   "outputs": [
    {
     "name": "stdout",
     "output_type": "stream",
     "text": [
      "['A', 'B', 'a', 'b']\n"
     ]
    }
   ],
   "source": [
    "x=[\"A\",\"a\",\"B\",\"b\"]\n",
    "x.sort()\n",
    "print(x)"
   ]
  },
  {
   "cell_type": "code",
   "execution_count": 13,
   "id": "c1202673",
   "metadata": {},
   "outputs": [
    {
     "name": "stdout",
     "output_type": "stream",
     "text": [
      "TT\n"
     ]
    }
   ],
   "source": [
    "movies = {\n",
    "    1: 'The Last of Us',\n",
    "    2: 'The Order',\n",
    "    3: 'Will Trent'\n",
    "}\n",
    "for key in movies.keys():\n",
    "  movies[key] = movies[key][0]\n",
    "print(movies[1]*2)"
   ]
  },
  {
   "cell_type": "code",
   "execution_count": 17,
   "id": "d98c86f7",
   "metadata": {},
   "outputs": [
    {
     "name": "stdout",
     "output_type": "stream",
     "text": [
      "The Last of Us\n",
      "The Order\n",
      "Will Trent\n"
     ]
    }
   ],
   "source": [
    "movies = {\n",
    "    1: 'The Last of Us',\n",
    "    2: 'The Order',\n",
    "    3: 'Will Trent'\n",
    "}\n",
    "for key in movies.keys():\n",
    "  print(movies[key])"
   ]
  },
  {
   "cell_type": "code",
   "execution_count": 18,
   "id": "07839265",
   "metadata": {},
   "outputs": [],
   "source": [
    "myd = {\n",
    "    \"a\" : \"1\", \n",
    "    \"b\" : \"2\",\n",
    "    \"c\" : \"3\"\n",
    "}"
   ]
  },
  {
   "cell_type": "code",
   "execution_count": 19,
   "id": "bc72d871",
   "metadata": {},
   "outputs": [
    {
     "name": "stdout",
     "output_type": "stream",
     "text": [
      "<class 'dict'>\n"
     ]
    }
   ],
   "source": [
    "print(type(myd))"
   ]
  },
  {
   "cell_type": "code",
   "execution_count": 22,
   "id": "cbea6eb2",
   "metadata": {},
   "outputs": [
    {
     "name": "stdout",
     "output_type": "stream",
     "text": [
      "<class 'dict_values'>\n"
     ]
    }
   ],
   "source": [
    "print(type(myd.values()))"
   ]
  },
  {
   "cell_type": "code",
   "execution_count": 23,
   "id": "00ff1f4f",
   "metadata": {},
   "outputs": [
    {
     "name": "stdout",
     "output_type": "stream",
     "text": [
      "42.3\n"
     ]
    }
   ],
   "source": [
    "print(float('42.3'))"
   ]
  },
  {
   "cell_type": "code",
   "execution_count": 24,
   "id": "8f44834f",
   "metadata": {},
   "outputs": [
    {
     "name": "stdout",
     "output_type": "stream",
     "text": [
      "Enter x: 0\n"
     ]
    },
    {
     "ename": "TypeError",
     "evalue": "unsupported operand type(s) for /: 'int' and 'str'",
     "output_type": "error",
     "traceback": [
      "\u001b[1;31m---------------------------------------------------------------------------\u001b[0m",
      "\u001b[1;31mTypeError\u001b[0m                                 Traceback (most recent call last)",
      "\u001b[1;32m~\\AppData\\Local\\Temp/ipykernel_3628/1987061275.py\u001b[0m in \u001b[0;36m<module>\u001b[1;34m\u001b[0m\n\u001b[0;32m      1\u001b[0m \u001b[0mx\u001b[0m\u001b[1;33m=\u001b[0m\u001b[0minput\u001b[0m\u001b[1;33m(\u001b[0m\u001b[1;34m\"Enter x: \"\u001b[0m\u001b[1;33m)\u001b[0m\u001b[1;33m\u001b[0m\u001b[1;33m\u001b[0m\u001b[0m\n\u001b[1;32m----> 2\u001b[1;33m \u001b[0mprint\u001b[0m\u001b[1;33m(\u001b[0m\u001b[1;36m42\u001b[0m\u001b[1;33m/\u001b[0m\u001b[0mx\u001b[0m\u001b[1;33m)\u001b[0m\u001b[1;33m\u001b[0m\u001b[1;33m\u001b[0m\u001b[0m\n\u001b[0m",
      "\u001b[1;31mTypeError\u001b[0m: unsupported operand type(s) for /: 'int' and 'str'"
     ]
    }
   ],
   "source": [
    "x=input(\"Enter x: \")\n",
    "print(42/x)"
   ]
  },
  {
   "cell_type": "code",
   "execution_count": 25,
   "id": "c0e7565d",
   "metadata": {},
   "outputs": [
    {
     "name": "stdout",
     "output_type": "stream",
     "text": [
      "You're trying to divide by zero, man!\n"
     ]
    }
   ],
   "source": [
    "try:\n",
    "  x = int(\"0\")\n",
    "  print(42/x)\n",
    "   \n",
    "except ValueError:\n",
    "  print(\"This a value error!\")\n",
    "   \n",
    "except ZeroDivisionError:\n",
    "  print(\"You're trying to divide by zero, man!\")\n",
    " \n",
    "except:\n",
    "  print(\"Error!\")"
   ]
  },
  {
   "cell_type": "code",
   "execution_count": 26,
   "id": "845fde2a",
   "metadata": {},
   "outputs": [
    {
     "name": "stdout",
     "output_type": "stream",
     "text": [
      "Q\n",
      "W\n"
     ]
    }
   ],
   "source": [
    "x = 42\n",
    "y = 13\n",
    " \n",
    "if y % x:\n",
    "  print('Q')\n",
    " \n",
    "if y / x:\n",
    "  print('W')\n",
    " \n",
    "if y // x:\n",
    "  print('E')"
   ]
  },
  {
   "cell_type": "code",
   "execution_count": 27,
   "id": "cd93b652",
   "metadata": {},
   "outputs": [
    {
     "name": "stdout",
     "output_type": "stream",
     "text": [
      "4\n"
     ]
    }
   ],
   "source": [
    "animals = {}\n",
    "   \n",
    "def add_animal(index):\n",
    "  if index in animals:\n",
    "    animals[index] += 1\n",
    "  else:\n",
    "    animals[index] = 1\n",
    " \n",
    "add_animal('Rocky')\n",
    "add_animal('Rex')\n",
    "add_animal('rocky')\n",
    "add_animal('REX')\n",
    " \n",
    "print(len(animals))"
   ]
  },
  {
   "cell_type": "code",
   "execution_count": 28,
   "id": "0aac31c4",
   "metadata": {},
   "outputs": [],
   "source": [
    "x = {\n",
    "    \"a\" : \"1\",\n",
    "    \"A\" : \"2\"\n",
    "}"
   ]
  },
  {
   "cell_type": "code",
   "execution_count": 29,
   "id": "b82e2e71",
   "metadata": {},
   "outputs": [
    {
     "name": "stdout",
     "output_type": "stream",
     "text": [
      "x: 0\n",
      "y: 3\n",
      "7.0\n"
     ]
    }
   ],
   "source": [
    "x = int(input(\"x: \")) \n",
    "y = int(input(\"y: \"))\n",
    "   \n",
    "x = x % y\n",
    "y = x / y\n",
    "   \n",
    "z = y ** x+6\n",
    "   \n",
    "print(z)"
   ]
  },
  {
   "cell_type": "code",
   "execution_count": 33,
   "id": "a1121317",
   "metadata": {},
   "outputs": [
    {
     "name": "stdout",
     "output_type": "stream",
     "text": [
      "x: 0\n",
      "y: 3\n",
      "0.0\n",
      "0\n"
     ]
    }
   ],
   "source": [
    "x = int(input(\"x: \")) \n",
    "y = int(input(\"y: \"))\n",
    "   \n",
    "x = x % y\n",
    "y = x / y\n",
    "   \n",
    "#z = y ** x+6\n",
    "print(y)\n",
    "print(x)\n",
    "#print(z)"
   ]
  },
  {
   "cell_type": "code",
   "execution_count": 1,
   "id": "dfcd2c5c",
   "metadata": {},
   "outputs": [
    {
     "name": "stdout",
     "output_type": "stream",
     "text": [
      "56\n"
     ]
    }
   ],
   "source": [
    "print(28 << 4 >> 3)"
   ]
  },
  {
   "cell_type": "code",
   "execution_count": 2,
   "id": "7f27b489",
   "metadata": {},
   "outputs": [
    {
     "name": "stdout",
     "output_type": "stream",
     "text": [
      "*.*.*.*."
     ]
    }
   ],
   "source": [
    "x = 27\n",
    "while x > 0:\n",
    "    print('*', end=\".\")\n",
    "    x //= 3"
   ]
  },
  {
   "cell_type": "code",
   "execution_count": 5,
   "id": "ca4fdbeb",
   "metadata": {},
   "outputs": [
    {
     "name": "stdout",
     "output_type": "stream",
     "text": [
      "H123424m"
     ]
    }
   ],
   "source": [
    "print(\"H\", \"23424\", end=\"m\", sep=\"1\")"
   ]
  },
  {
   "cell_type": "code",
   "execution_count": 6,
   "id": "f2eee0b8",
   "metadata": {},
   "outputs": [
    {
     "name": "stdout",
     "output_type": "stream",
     "text": [
      "[42, 12, 37, 13]\n",
      "['Novak', 'Rafa', 'Nadal']\n"
     ]
    }
   ],
   "source": [
    "def f():\n",
    "  lst = [42, 12, 37, 13]\n",
    "  print(lst)\n",
    " \n",
    "lst = ['Novak', 'Rafa', 'Nadal']\n",
    "f()\n",
    " \n",
    "print(lst)"
   ]
  },
  {
   "cell_type": "code",
   "execution_count": 7,
   "id": "f9ff23e3",
   "metadata": {},
   "outputs": [
    {
     "name": "stdout",
     "output_type": "stream",
     "text": [
      "3\n"
     ]
    }
   ],
   "source": [
    "x = 'abbabadaadbbaccabcbabaaab'\n",
    "print(x.count('ab', 5))"
   ]
  },
  {
   "cell_type": "code",
   "execution_count": 8,
   "id": "4eaae224",
   "metadata": {},
   "outputs": [
    {
     "name": "stdout",
     "output_type": "stream",
     "text": [
      "42 42 42.0\n"
     ]
    }
   ],
   "source": [
    "x = int(42.5)\n",
    "y = str(42)\n",
    "z = float(42)\n",
    " \n",
    "print(x, y, z)"
   ]
  },
  {
   "cell_type": "code",
   "execution_count": 9,
   "id": "0bcad2a3",
   "metadata": {},
   "outputs": [
    {
     "name": "stdout",
     "output_type": "stream",
     "text": [
      "3\n"
     ]
    }
   ],
   "source": [
    "x = '\\\\\\\\\\\\'\n",
    "print(len(x))"
   ]
  },
  {
   "cell_type": "code",
   "execution_count": 10,
   "id": "f59b00d5",
   "metadata": {},
   "outputs": [
    {
     "name": "stdout",
     "output_type": "stream",
     "text": [
      "0.0\n"
     ]
    }
   ],
   "source": [
    "x = 3 / .5 % (7 // 3)\n",
    " \n",
    "print(x)"
   ]
  },
  {
   "cell_type": "code",
   "execution_count": 11,
   "id": "e543aaea",
   "metadata": {},
   "outputs": [
    {
     "name": "stdout",
     "output_type": "stream",
     "text": [
      "8\n"
     ]
    }
   ],
   "source": [
    "def f(x):\n",
    "  global y\n",
    "  y = x ** 3\n",
    "  return y\n",
    " \n",
    "f(2)\n",
    "print(y)"
   ]
  },
  {
   "cell_type": "code",
   "execution_count": 12,
   "id": "c50ae8e2",
   "metadata": {},
   "outputs": [
    {
     "name": "stdout",
     "output_type": "stream",
     "text": [
      "['Dare!']\n",
      "['Truth']\n",
      "['Dare!']\n"
     ]
    }
   ],
   "source": [
    "def f():\n",
    "  x = ['Truth']\n",
    "  print(x)\n",
    " \n",
    "x = ['Dare!']\n",
    "print(x)\n",
    "f()\n",
    "print(x)"
   ]
  },
  {
   "cell_type": "code",
   "execution_count": 13,
   "id": "238f2fe2",
   "metadata": {},
   "outputs": [
    {
     "name": "stdout",
     "output_type": "stream",
     "text": [
      "True\n"
     ]
    }
   ],
   "source": [
    "x = -12\n",
    "y = 22\n",
    "z = x > y\n",
    "print(not(z))"
   ]
  },
  {
   "cell_type": "code",
   "execution_count": 14,
   "id": "0b19336f",
   "metadata": {},
   "outputs": [
    {
     "name": "stdout",
     "output_type": "stream",
     "text": [
      "Q\n",
      "T\n"
     ]
    }
   ],
   "source": [
    "q = 42\n",
    "w = []\n",
    "e = 0\n",
    "r = None\n",
    "t = \"abc\"\n",
    "y = \"\"\n",
    "v={}\n",
    "b=False\n",
    " \n",
    "if q: \n",
    "  print('Q')\n",
    "if w: \n",
    "  print('W')\n",
    "if e:\n",
    "  print('E')\n",
    "if r:\n",
    "  print('R')\n",
    "if t: \n",
    "  print('T')  \n",
    "if y:\n",
    "  print('Y')\n",
    "if v:\n",
    "  print('V')\n",
    "if b:\n",
    "  print('B')"
   ]
  },
  {
   "cell_type": "code",
   "execution_count": 15,
   "id": "f5218a9f",
   "metadata": {},
   "outputs": [
    {
     "name": "stdout",
     "output_type": "stream",
     "text": [
      "[0, 1, 4, 9, 25]\n"
     ]
    }
   ],
   "source": [
    "my_list = [x * x for x in range(6)]\n",
    "   \n",
    "def puzzle(y):\n",
    "  del y[y[2]]\n",
    "  return y\n",
    " \n",
    "print(puzzle(my_list))"
   ]
  },
  {
   "cell_type": "code",
   "execution_count": 18,
   "id": "f2e2ded5",
   "metadata": {},
   "outputs": [
    {
     "name": "stdout",
     "output_type": "stream",
     "text": [
      "[0, 1, 4, 9, 16, 25]\n"
     ]
    }
   ],
   "source": [
    "my_list = [x * x for x in range(6)]\n",
    "print(my_list)"
   ]
  },
  {
   "cell_type": "code",
   "execution_count": 19,
   "id": "7977e417",
   "metadata": {},
   "outputs": [
    {
     "name": "stdout",
     "output_type": "stream",
     "text": [
      "enter a number: 4\n",
      "X\n"
     ]
    }
   ],
   "source": [
    "num = int(input('enter a number: '))\n",
    "if num > 2:\n",
    "  if num < 8:\n",
    "    print('X')\n",
    "  else:\n",
    "    print('Y')\n",
    "else:\n",
    "    print('Z')"
   ]
  },
  {
   "cell_type": "code",
   "execution_count": 20,
   "id": "d0db7487",
   "metadata": {},
   "outputs": [
    {
     "name": "stdout",
     "output_type": "stream",
     "text": [
      "[1, 2, 3, 4]\n"
     ]
    }
   ],
   "source": [
    "lst1 = [1, 2, 3, 4, 5]\n",
    "lst2 = lst1\n",
    "lst3 = lst1\n",
    "   \n",
    "lst1.pop()\n",
    "lst2.append(6)\n",
    "lst1.pop()\n",
    " \n",
    "print(lst3)"
   ]
  },
  {
   "cell_type": "code",
   "execution_count": 21,
   "id": "0a43c853",
   "metadata": {},
   "outputs": [
    {
     "name": "stdout",
     "output_type": "stream",
     "text": [
      "4\n"
     ]
    }
   ],
   "source": [
    "x = [[2, 4] for i in range(6)]\n",
    "print(x[3][1])"
   ]
  },
  {
   "cell_type": "code",
   "execution_count": 1,
   "id": "8d5c22dd",
   "metadata": {},
   "outputs": [
    {
     "name": "stdout",
     "output_type": "stream",
     "text": [
      "4\n"
     ]
    }
   ],
   "source": [
    "x = [[2, 4] for i in range(6)]\n",
    "print(x[3][1])"
   ]
  },
  {
   "cell_type": "code",
   "execution_count": 2,
   "id": "01a7a943",
   "metadata": {},
   "outputs": [
    {
     "name": "stdout",
     "output_type": "stream",
     "text": [
      "*\n",
      "*\n"
     ]
    }
   ],
   "source": [
    "x = 1\n",
    "while x<12:\n",
    "  print('*')\n",
    "  x=x<<2"
   ]
  },
  {
   "cell_type": "code",
   "execution_count": 3,
   "id": "e81594cf",
   "metadata": {},
   "outputs": [
    {
     "name": "stdout",
     "output_type": "stream",
     "text": [
      "*"
     ]
    }
   ],
   "source": [
    "i = -7\n",
    "while i <= 3:\n",
    "  i += 2\n",
    "  if i % 3 == 0:\n",
    "    break\n",
    "  print(\"*\", end=\"\")"
   ]
  },
  {
   "cell_type": "code",
   "execution_count": 4,
   "id": "722d4c59",
   "metadata": {},
   "outputs": [
    {
     "name": "stdout",
     "output_type": "stream",
     "text": [
      "[0, 42]\n"
     ]
    }
   ],
   "source": [
    "list1 = [0, 3, 4, 7, 42]\n",
    "list2 = []\n",
    " \n",
    "for x in range(len(list1)):\n",
    "  if list1[x] % 2 == 0 and list1[x] % 3 == 0:\n",
    "    list2.append(list1[x])\n",
    "  \n",
    "print(list2)"
   ]
  },
  {
   "cell_type": "code",
   "execution_count": 5,
   "id": "d55db79e",
   "metadata": {},
   "outputs": [
    {
     "name": "stdout",
     "output_type": "stream",
     "text": [
      "True\n"
     ]
    }
   ],
   "source": [
    "a = 13\n",
    "b = 33\n",
    "   \n",
    "x = not(a & b > 42)\n",
    " \n",
    "print(x)"
   ]
  },
  {
   "cell_type": "code",
   "execution_count": 6,
   "id": "9deb1860",
   "metadata": {},
   "outputs": [
    {
     "name": "stdout",
     "output_type": "stream",
     "text": [
      "AC"
     ]
    }
   ],
   "source": [
    "x = True\n",
    "y = False\n",
    " \n",
    "if x > y:           \n",
    "    if y + 1:       \n",
    "        print(\"A\", end=\"\")                   \n",
    "if not x:           \n",
    "    print(\"B\",end=\"\")      \n",
    "else:               \n",
    "    print(\"C\",end=\"\")   "
   ]
  },
  {
   "cell_type": "code",
   "execution_count": 7,
   "id": "b783d3cb",
   "metadata": {},
   "outputs": [
    {
     "name": "stdout",
     "output_type": "stream",
     "text": [
      "12\n"
     ]
    }
   ],
   "source": [
    "lst = [[3+i for i in range(3)] for j in range(3)]\n",
    "x = 0\n",
    " \n",
    "for i in range(3):\n",
    "  x += lst[i][i]\n",
    " \n",
    "print(x)"
   ]
  },
  {
   "cell_type": "code",
   "execution_count": 8,
   "id": "8cc9ae0c",
   "metadata": {},
   "outputs": [
    {
     "name": "stdout",
     "output_type": "stream",
     "text": [
      "True\n"
     ]
    }
   ],
   "source": [
    "x = -7\n",
    "x = x == x\n",
    "print(x)"
   ]
  },
  {
   "cell_type": "code",
   "execution_count": 9,
   "id": "a904644c",
   "metadata": {},
   "outputs": [
    {
     "name": "stdout",
     "output_type": "stream",
     "text": [
      "[0, 1, 3]\n"
     ]
    }
   ],
   "source": [
    "tuple_a = (0, 1, 2, 3)\n",
    "tuple_b = (2, 4, 6, 8)\n",
    "list_c = []\n",
    "for el in tuple_a:\n",
    "  if el not in tuple_b:\n",
    "    list_c.append(el)\n",
    "print(list_c)"
   ]
  },
  {
   "cell_type": "code",
   "execution_count": 10,
   "id": "4d8979ae",
   "metadata": {},
   "outputs": [
    {
     "name": "stdout",
     "output_type": "stream",
     "text": [
      "[1, 2, 3, 4, 5, 0]\n",
      "[1, 2, 3, 4, 5, 0]\n"
     ]
    }
   ],
   "source": [
    "def first():\n",
    "  x=[1,2,3,4,5,6]\n",
    "  def second():\n",
    "    x[-1]=0\n",
    "    print(x)\n",
    "  second()\n",
    "  print(x)\n",
    "first()"
   ]
  },
  {
   "cell_type": "code",
   "execution_count": 11,
   "id": "49cee722",
   "metadata": {},
   "outputs": [
    {
     "name": "stdout",
     "output_type": "stream",
     "text": [
      "*\n",
      "*\n"
     ]
    }
   ],
   "source": [
    "i = 0\n",
    "while i <= 10:\n",
    "  i += 2\n",
    "  if i % 3 == 0:\n",
    "    break\n",
    "  print('*')"
   ]
  },
  {
   "cell_type": "code",
   "execution_count": 12,
   "id": "ff874456",
   "metadata": {},
   "outputs": [
    {
     "name": "stdout",
     "output_type": "stream",
     "text": [
      "6\n"
     ]
    }
   ],
   "source": [
    "a=0\n",
    "while (a<5): a+=2\n",
    "print(a)"
   ]
  },
  {
   "cell_type": "code",
   "execution_count": 13,
   "id": "23e3f733",
   "metadata": {},
   "outputs": [
    {
     "name": "stdout",
     "output_type": "stream",
     "text": [
      "ppe"
     ]
    }
   ],
   "source": [
    "for x in \"apple\":\n",
    "  if x!='p' and x!='e':\n",
    "    continue\n",
    "  print(x, end=\"\")"
   ]
  },
  {
   "cell_type": "code",
   "execution_count": 14,
   "id": "d7e5d1af",
   "metadata": {},
   "outputs": [
    {
     "name": "stdout",
     "output_type": "stream",
     "text": [
      "p (7, 42, 5) 13\n"
     ]
    }
   ],
   "source": [
    "t1 = 13\n",
    "t2 = 'p'\n",
    "t3 = (7, 42, 5)\n",
    " \n",
    "t1, t2, t3 = t2, t3, t1\n",
    " \n",
    "print(t1, t2, t3)"
   ]
  },
  {
   "cell_type": "code",
   "execution_count": 15,
   "id": "b03313c4",
   "metadata": {},
   "outputs": [
    {
     "ename": "TypeError",
     "evalue": "f() missing 1 required positional argument: 'y'",
     "output_type": "error",
     "traceback": [
      "\u001b[1;31m---------------------------------------------------------------------------\u001b[0m",
      "\u001b[1;31mTypeError\u001b[0m                                 Traceback (most recent call last)",
      "\u001b[1;32m~\\AppData\\Local\\Temp/ipykernel_14656/1081204631.py\u001b[0m in \u001b[0;36m<module>\u001b[1;34m\u001b[0m\n\u001b[0;32m      2\u001b[0m   \u001b[1;32mreturn\u001b[0m \u001b[0mx\u001b[0m \u001b[1;33m**\u001b[0m \u001b[0my\u001b[0m \u001b[1;33m+\u001b[0m \u001b[0mx\u001b[0m \u001b[1;33m-\u001b[0m \u001b[0my\u001b[0m \u001b[1;33m+\u001b[0m\u001b[1;36m10\u001b[0m\u001b[1;33m\u001b[0m\u001b[1;33m\u001b[0m\u001b[0m\n\u001b[0;32m      3\u001b[0m \u001b[1;33m\u001b[0m\u001b[0m\n\u001b[1;32m----> 4\u001b[1;33m \u001b[0mprint\u001b[0m\u001b[1;33m(\u001b[0m\u001b[0mf\u001b[0m\u001b[1;33m(\u001b[0m\u001b[1;36m4\u001b[0m\u001b[1;33m)\u001b[0m\u001b[1;33m)\u001b[0m\u001b[1;33m\u001b[0m\u001b[1;33m\u001b[0m\u001b[0m\n\u001b[0m",
      "\u001b[1;31mTypeError\u001b[0m: f() missing 1 required positional argument: 'y'"
     ]
    }
   ],
   "source": [
    "def f(x, y):\n",
    "  return x ** y + x - y +10\n",
    " \n",
    "print(f(4))"
   ]
  },
  {
   "cell_type": "code",
   "execution_count": 16,
   "id": "6198dae9",
   "metadata": {},
   "outputs": [
    {
     "name": "stdout",
     "output_type": "stream",
     "text": [
      "[4, 3, 2, 1, 0]\n"
     ]
    }
   ],
   "source": [
    "lst = []\n",
    "   \n",
    "for i in range(5):\n",
    "  lst.insert(0, i)\n",
    " \n",
    "print(lst) "
   ]
  },
  {
   "cell_type": "code",
   "execution_count": 17,
   "id": "fee9def4",
   "metadata": {},
   "outputs": [
    {
     "name": "stdout",
     "output_type": "stream",
     "text": [
      "i= 9\n"
     ]
    }
   ],
   "source": [
    "x = 'ProCoding'\n",
    "i = 0\n",
    "while i < len(x):\n",
    "  i+=1\n",
    "  pass\n",
    "print(\"i=\", i)"
   ]
  },
  {
   "cell_type": "code",
   "execution_count": 18,
   "id": "36c7645a",
   "metadata": {},
   "outputs": [
    {
     "name": "stdout",
     "output_type": "stream",
     "text": [
      "* "
     ]
    }
   ],
   "source": [
    "x = 42\n",
    " \n",
    "while x > 0:\n",
    "  x -= 8\n",
    "  if x % 2 == 0:\n",
    "    continue\n",
    "  print(\"*\", end=\" \")    \n",
    "else:\n",
    "  print(\"*\", end=\" \")"
   ]
  },
  {
   "cell_type": "code",
   "execution_count": 19,
   "id": "a4287a56",
   "metadata": {},
   "outputs": [
    {
     "name": "stdout",
     "output_type": "stream",
     "text": [
      "54\n"
     ]
    }
   ],
   "source": [
    "def f1(x):\n",
    "  return x ** x\n",
    " \n",
    "def f2(x):\n",
    "  return f1(x) + f1(x)\n",
    " \n",
    "print(f2(3))"
   ]
  },
  {
   "cell_type": "code",
   "execution_count": 20,
   "id": "a1ee0d59",
   "metadata": {},
   "outputs": [
    {
     "name": "stdout",
     "output_type": "stream",
     "text": [
      "1\n"
     ]
    }
   ],
   "source": [
    "print(1 | 0 ^ 1 & ~0)"
   ]
  },
  {
   "cell_type": "code",
   "execution_count": 21,
   "id": "bcb59686",
   "metadata": {},
   "outputs": [
    {
     "name": "stdout",
     "output_type": "stream",
     "text": [
      "Mystery! New Mystery! New Mystery! "
     ]
    }
   ],
   "source": [
    "def mystery():\n",
    "  global x\n",
    "  x = 'New Mystery!'\n",
    "  print(x, end=\" \")\n",
    " \n",
    "x = 'Mystery!'\n",
    "print(x, end=\" \")\n",
    "mystery()\n",
    "print(x, end=\" \")"
   ]
  },
  {
   "cell_type": "code",
   "execution_count": 22,
   "id": "9e288328",
   "metadata": {},
   "outputs": [
    {
     "name": "stdout",
     "output_type": "stream",
     "text": [
      "16.0\n"
     ]
    }
   ],
   "source": [
    "a = 9\n",
    "b = 12\n",
    "c = a // 2 * 5 / 5 + b % 2 ** 4\n",
    "print(c)"
   ]
  },
  {
   "cell_type": "code",
   "execution_count": 23,
   "id": "b04e802d",
   "metadata": {},
   "outputs": [
    {
     "name": "stdout",
     "output_type": "stream",
     "text": [
      "5\n"
     ]
    }
   ],
   "source": [
    "lst = [i for i in range(-7, 3, 2)]\n",
    "print(len(lst))"
   ]
  },
  {
   "cell_type": "code",
   "execution_count": 24,
   "id": "e8d3a9a8",
   "metadata": {},
   "outputs": [
    {
     "name": "stdout",
     "output_type": "stream",
     "text": [
      "21\n"
     ]
    }
   ],
   "source": [
    "def f():\n",
    "  print(x + 1, end='')\n",
    " \n",
    "x = 1\n",
    "f()\n",
    "print(x)"
   ]
  },
  {
   "cell_type": "code",
   "execution_count": 25,
   "id": "caf3ca08",
   "metadata": {},
   "outputs": [
    {
     "name": "stdout",
     "output_type": "stream",
     "text": [
      "3\n"
     ]
    }
   ],
   "source": [
    "lst = [3, 2, 17, 43, 42, 2, 1, 0]\n",
    " \n",
    "print(lst[lst[7]])"
   ]
  },
  {
   "cell_type": "code",
   "execution_count": 26,
   "id": "bcc8ede8",
   "metadata": {},
   "outputs": [
    {
     "name": "stdout",
     "output_type": "stream",
     "text": [
      "[1, 3, 5, 7, 11]\n"
     ]
    }
   ],
   "source": [
    "d = {3: 'q', 5: 'w', 1: 'e', 7: 'r', 11: 't', 1:'y'}\n",
    " \n",
    "print(sorted(d))"
   ]
  },
  {
   "cell_type": "code",
   "execution_count": 28,
   "id": "6c5e8a03",
   "metadata": {},
   "outputs": [
    {
     "name": "stdout",
     "output_type": "stream",
     "text": [
      "[1, 3, 5, 7, 11]\n"
     ]
    }
   ],
   "source": [
    "d = {3: 'q', 5: 'w', 1: 'e', 7: 'r', 11: 't', 1:'y'} \n",
    "\n",
    "print(sorted(d))"
   ]
  },
  {
   "cell_type": "code",
   "execution_count": 33,
   "id": "50a01e65",
   "metadata": {},
   "outputs": [
    {
     "name": "stdout",
     "output_type": "stream",
     "text": [
      "*.*.*.*.*."
     ]
    }
   ],
   "source": [
    "x = 2\n",
    " \n",
    "while x < 7:\n",
    "  x = x + 1\n",
    "  if x % 3 == 0:\n",
    "    pass\n",
    "  print(\"*\", end=\".\")"
   ]
  },
  {
   "cell_type": "code",
   "execution_count": 34,
   "id": "14512965",
   "metadata": {},
   "outputs": [
    {
     "name": "stdout",
     "output_type": "stream",
     "text": [
      "(42, 1, 1, 1)\n"
     ]
    }
   ],
   "source": [
    "tpl1 = (42,)\n",
    "tpl2 = tpl1 + (1, ) * 3\n",
    " \n",
    "print(tpl2)"
   ]
  },
  {
   "cell_type": "code",
   "execution_count": 35,
   "id": "1c9f278b",
   "metadata": {},
   "outputs": [
    {
     "name": "stdout",
     "output_type": "stream",
     "text": [
      "(1, 1, 1)\n"
     ]
    }
   ],
   "source": [
    "x = (1, ) * 3\n",
    "print(x)"
   ]
  },
  {
   "cell_type": "code",
   "execution_count": 36,
   "id": "87b9581e",
   "metadata": {},
   "outputs": [
    {
     "name": "stdout",
     "output_type": "stream",
     "text": [
      "False\n"
     ]
    }
   ],
   "source": [
    "a = 4\n",
    "b = 9\n",
    "x = b == a and b > a or a > b and a != b\n",
    "print(x)"
   ]
  },
  {
   "cell_type": "code",
   "execution_count": 37,
   "id": "c4d55586",
   "metadata": {},
   "outputs": [
    {
     "name": "stdout",
     "output_type": "stream",
     "text": [
      "43\n"
     ]
    }
   ],
   "source": [
    "def first(x, y):\n",
    "  return second(x) + second(y)    \n",
    " \n",
    "def second(z):\n",
    "  return z * (z+2)\n",
    " \n",
    "print(first(5, 2))"
   ]
  },
  {
   "cell_type": "code",
   "execution_count": 38,
   "id": "ed09cd2d",
   "metadata": {},
   "outputs": [
    {
     "name": "stdout",
     "output_type": "stream",
     "text": [
      "8\n"
     ]
    }
   ],
   "source": [
    "def f(x):\n",
    "  if x % 3 == 0:\n",
    "    return True\n",
    "  return False\n",
    " \n",
    "print(7 + f(42))"
   ]
  },
  {
   "cell_type": "code",
   "execution_count": 39,
   "id": "98e97a71",
   "metadata": {},
   "outputs": [
    {
     "name": "stdout",
     "output_type": "stream",
     "text": [
      "21\n"
     ]
    }
   ],
   "source": [
    "def fun():\n",
    "  print(var + 1, end='')\n",
    " \n",
    "var = 1\n",
    "fun()\n",
    "print(var)"
   ]
  },
  {
   "cell_type": "code",
   "execution_count": 43,
   "id": "c6ea8ed5",
   "metadata": {},
   "outputs": [
    {
     "ename": "TypeError",
     "evalue": "f() missing 1 required positional argument: 'x'",
     "output_type": "error",
     "traceback": [
      "\u001b[1;31m---------------------------------------------------------------------------\u001b[0m",
      "\u001b[1;31mTypeError\u001b[0m                                 Traceback (most recent call last)",
      "\u001b[1;32m~\\AppData\\Local\\Temp/ipykernel_14656/4101741658.py\u001b[0m in \u001b[0;36m<module>\u001b[1;34m\u001b[0m\n\u001b[0;32m      2\u001b[0m   \u001b[0mprint\u001b[0m\u001b[1;33m(\u001b[0m\u001b[0mx\u001b[0m \u001b[1;33m+\u001b[0m \u001b[0my\u001b[0m \u001b[1;33m-\u001b[0m \u001b[0mz\u001b[0m\u001b[1;33m)\u001b[0m\u001b[1;33m\u001b[0m\u001b[1;33m\u001b[0m\u001b[0m\n\u001b[0;32m      3\u001b[0m \u001b[1;33m\u001b[0m\u001b[0m\n\u001b[1;32m----> 4\u001b[1;33m \u001b[0mf\u001b[0m\u001b[1;33m(\u001b[0m\u001b[1;33m)\u001b[0m\u001b[1;33m\u001b[0m\u001b[1;33m\u001b[0m\u001b[0m\n\u001b[0m",
      "\u001b[1;31mTypeError\u001b[0m: f() missing 1 required positional argument: 'x'"
     ]
    }
   ],
   "source": [
    "def f(x, y=42, z=13):\n",
    "  print(x + y - z)\n",
    "\n",
    "f()"
   ]
  },
  {
   "cell_type": "code",
   "execution_count": 44,
   "id": "3e647032",
   "metadata": {},
   "outputs": [
    {
     "name": "stdout",
     "output_type": "stream",
     "text": [
      "242424*"
     ]
    }
   ],
   "source": [
    "x = '2'\n",
    "x += '4'\n",
    "x *= 3\n",
    " \n",
    "print(x, end=\"*\")"
   ]
  },
  {
   "cell_type": "code",
   "execution_count": 45,
   "id": "35880068",
   "metadata": {},
   "outputs": [
    {
     "name": "stdout",
     "output_type": "stream",
     "text": [
      "*\n",
      "*\n",
      "*\n",
      "*\n"
     ]
    }
   ],
   "source": [
    "x = 0\n",
    "while x < 10:\n",
    "  x += 2\n",
    "  if x % 3 == 0:\n",
    "    continue\n",
    "  print('*')"
   ]
  },
  {
   "cell_type": "code",
   "execution_count": 46,
   "id": "9d77f760",
   "metadata": {},
   "outputs": [
    {
     "ename": "AttributeError",
     "evalue": "'dict' object has no attribute 'vals'",
     "output_type": "error",
     "traceback": [
      "\u001b[1;31m---------------------------------------------------------------------------\u001b[0m",
      "\u001b[1;31mAttributeError\u001b[0m                            Traceback (most recent call last)",
      "\u001b[1;32m~\\AppData\\Local\\Temp/ipykernel_14656/1189522576.py\u001b[0m in \u001b[0;36m<module>\u001b[1;34m\u001b[0m\n\u001b[0;32m      1\u001b[0m \u001b[0mdic\u001b[0m \u001b[1;33m=\u001b[0m \u001b[1;33m{\u001b[0m\u001b[1;34m'p'\u001b[0m\u001b[1;33m:\u001b[0m \u001b[1;34m'c'\u001b[0m\u001b[1;33m,\u001b[0m \u001b[1;34m'e'\u001b[0m\u001b[1;33m:\u001b[0m \u001b[1;34m'p'\u001b[0m\u001b[1;33m}\u001b[0m\u001b[1;33m\u001b[0m\u001b[1;33m\u001b[0m\u001b[0m\n\u001b[0;32m      2\u001b[0m \u001b[1;33m\u001b[0m\u001b[0m\n\u001b[1;32m----> 3\u001b[1;33m \u001b[1;32mfor\u001b[0m \u001b[0md\u001b[0m \u001b[1;32min\u001b[0m \u001b[0mdic\u001b[0m\u001b[1;33m.\u001b[0m\u001b[0mvals\u001b[0m\u001b[1;33m(\u001b[0m\u001b[1;33m)\u001b[0m\u001b[1;33m:\u001b[0m\u001b[1;33m\u001b[0m\u001b[1;33m\u001b[0m\u001b[0m\n\u001b[0m\u001b[0;32m      4\u001b[0m   \u001b[0mprint\u001b[0m\u001b[1;33m(\u001b[0m\u001b[0md\u001b[0m\u001b[1;33m,\u001b[0m \u001b[0mend\u001b[0m\u001b[1;33m=\u001b[0m\u001b[1;34m' '\u001b[0m\u001b[1;33m)\u001b[0m\u001b[1;33m\u001b[0m\u001b[1;33m\u001b[0m\u001b[0m\n",
      "\u001b[1;31mAttributeError\u001b[0m: 'dict' object has no attribute 'vals'"
     ]
    }
   ],
   "source": [
    "dic = {'p': 'c', 'e': 'p'}\n",
    " \n",
    "for d in dic.vals():\n",
    "  print(d, end=' ')"
   ]
  },
  {
   "cell_type": "code",
   "execution_count": 47,
   "id": "d9954c34",
   "metadata": {},
   "outputs": [
    {
     "name": "stdout",
     "output_type": "stream",
     "text": [
      "give a number: 0\n",
      "C++\n"
     ]
    }
   ],
   "source": [
    "x = int(input('give a number: '))\n",
    "if x > 2:\n",
    "  if x < 45:\n",
    "    print('Python')\n",
    "  else:\n",
    "    print('Java')\n",
    "else:\n",
    "  if x < -7:\n",
    "    print('C#')\n",
    "  else:\n",
    "    print('C++')"
   ]
  },
  {
   "cell_type": "code",
   "execution_count": 48,
   "id": "4dbb3055",
   "metadata": {},
   "outputs": [
    {
     "name": "stdout",
     "output_type": "stream",
     "text": [
      "Procoding\n",
      "1\n",
      "2\n"
     ]
    }
   ],
   "source": [
    "i=0\n",
    "while i<2:\n",
    "  i+=1\n",
    "  if i==1:\n",
    "    print(\"Procoding\")\n",
    "    pass\n",
    "  print(i)"
   ]
  },
  {
   "cell_type": "code",
   "execution_count": 49,
   "id": "6602f9ec",
   "metadata": {},
   "outputs": [
    {
     "name": "stdout",
     "output_type": "stream",
     "text": [
      "42 32 22 "
     ]
    }
   ],
   "source": [
    "x = 42\n",
    " \n",
    "while x > 13:\n",
    "  print(x, end=\" \", sep=\"*\")\n",
    "  x -= 10\n",
    "  if x % 3 == 0:\n",
    "    x -= 5"
   ]
  },
  {
   "cell_type": "code",
   "execution_count": 50,
   "id": "5391d17f",
   "metadata": {},
   "outputs": [
    {
     "name": "stdout",
     "output_type": "stream",
     "text": [
      "***"
     ]
    }
   ],
   "source": [
    "data = [[x for x in range(y)] for y in range(4)]\n",
    " \n",
    "for d in data:\n",
    "  if len(d) < 3:\n",
    "    print('*', end=\"\")"
   ]
  },
  {
   "cell_type": "code",
   "execution_count": 51,
   "id": "e26e958d",
   "metadata": {},
   "outputs": [
    {
     "name": "stdout",
     "output_type": "stream",
     "text": [
      "-1\n"
     ]
    }
   ],
   "source": [
    "def test(x, y, z):\n",
    "  return x + 3 * y - 2 * z\n",
    " \n",
    "print(test(0, z=2, y=1))"
   ]
  },
  {
   "cell_type": "code",
   "execution_count": 52,
   "id": "9a42bdca",
   "metadata": {},
   "outputs": [
    {
     "name": "stdout",
     "output_type": "stream",
     "text": [
      "{'A': 1, 'B': 2}\n"
     ]
    }
   ],
   "source": [
    "dic = {\"A\": 1, \"B\": 2}\n",
    "dic2 = dic.copy()\n",
    "dic.clear()\n",
    " \n",
    "print(dic2)"
   ]
  },
  {
   "cell_type": "code",
   "execution_count": 53,
   "id": "71c6752d",
   "metadata": {},
   "outputs": [
    {
     "name": "stdout",
     "output_type": "stream",
     "text": [
      "['a', 'b', 'd']\n",
      "['a', 'b', 'd']\n"
     ]
    }
   ],
   "source": [
    "x=['a','b','c']\n",
    " \n",
    "def fun(a):\n",
    "  a.pop()\n",
    "  a.append('d')\n",
    "  print(a)\n",
    " \n",
    "fun(x)\n",
    "print(x)"
   ]
  },
  {
   "cell_type": "code",
   "execution_count": null,
   "id": "71a53051",
   "metadata": {},
   "outputs": [],
   "source": [
    "if 42.0 == \"42.0\":\n",
    "  print('yes')\n",
    "else:\n",
    "  print('no')"
   ]
  },
  {
   "cell_type": "code",
   "execution_count": 1,
   "id": "d360fbcf",
   "metadata": {},
   "outputs": [
    {
     "name": "stdout",
     "output_type": "stream",
     "text": [
      "no\n"
     ]
    }
   ],
   "source": [
    "if 42.0 == \"42.0\":\n",
    "  print('yes')\n",
    "else:\n",
    "  print('no')"
   ]
  },
  {
   "cell_type": "code",
   "execution_count": 2,
   "id": "49ece40e",
   "metadata": {},
   "outputs": [
    {
     "name": "stdout",
     "output_type": "stream",
     "text": [
      "True\n",
      "True\n",
      "True\n",
      "False\n",
      "True\n"
     ]
    }
   ],
   "source": [
    "print((42, 13) in {1: 'q', 'w': 2, (42, 13): 10}, sep = \",\")\n",
    "print(42 not in {1: 'q', 'w': 2, (42, 13): 10}, sep = \",\")\n",
    "print('q' not in {1: 'q', 'w': 2, (42, 13): 10}, sep = \",\")\n",
    "print('q' in {1: 'q', 'w': 2, (42, 13): 10}.keys(), sep = \",\")\n",
    "print('q' in {1: 'q', 'w': 2, (42, 13): 10}.values(), sep = \",\")"
   ]
  },
  {
   "cell_type": "code",
   "execution_count": 3,
   "id": "6570a6e8",
   "metadata": {},
   "outputs": [
    {
     "name": "stdout",
     "output_type": "stream",
     "text": [
      "5\n"
     ]
    }
   ],
   "source": [
    "def f(x):\n",
    "  x += [10]\n",
    " \n",
    "data = [1, 2, 3, 4]\n",
    "f(data)\n",
    "print(len(data))"
   ]
  },
  {
   "cell_type": "code",
   "execution_count": 4,
   "id": "5654dd79",
   "metadata": {},
   "outputs": [
    {
     "name": "stdout",
     "output_type": "stream",
     "text": [
      "[1, 2, 3, 4, 10]\n"
     ]
    }
   ],
   "source": [
    "print(data)"
   ]
  },
  {
   "cell_type": "code",
   "execution_count": 5,
   "id": "d614c7bf",
   "metadata": {},
   "outputs": [
    {
     "ename": "TypeError",
     "evalue": "'str' object does not support item assignment",
     "output_type": "error",
     "traceback": [
      "\u001b[1;31m---------------------------------------------------------------------------\u001b[0m",
      "\u001b[1;31mTypeError\u001b[0m                                 Traceback (most recent call last)",
      "\u001b[1;32m~\\AppData\\Local\\Temp/ipykernel_15164/2392767377.py\u001b[0m in \u001b[0;36m<module>\u001b[1;34m\u001b[0m\n\u001b[0;32m      1\u001b[0m \u001b[0ms\u001b[0m \u001b[1;33m=\u001b[0m \u001b[1;34m\"procoding\"\u001b[0m\u001b[1;33m\u001b[0m\u001b[1;33m\u001b[0m\u001b[0m\n\u001b[0;32m      2\u001b[0m \u001b[1;33m\u001b[0m\u001b[0m\n\u001b[1;32m----> 3\u001b[1;33m \u001b[0ms\u001b[0m\u001b[1;33m[\u001b[0m\u001b[1;36m0\u001b[0m\u001b[1;33m]\u001b[0m \u001b[1;33m=\u001b[0m \u001b[1;34m'P'\u001b[0m\u001b[1;33m\u001b[0m\u001b[1;33m\u001b[0m\u001b[0m\n\u001b[0m\u001b[0;32m      4\u001b[0m \u001b[1;33m\u001b[0m\u001b[0m\n\u001b[0;32m      5\u001b[0m \u001b[0mprint\u001b[0m\u001b[1;33m(\u001b[0m\u001b[0ms\u001b[0m\u001b[1;33m)\u001b[0m\u001b[1;33m\u001b[0m\u001b[1;33m\u001b[0m\u001b[0m\n",
      "\u001b[1;31mTypeError\u001b[0m: 'str' object does not support item assignment"
     ]
    }
   ],
   "source": [
    "s = \"procoding\"\n",
    " \n",
    "s[0] = 'P'\n",
    " \n",
    "print(s)"
   ]
  },
  {
   "cell_type": "code",
   "execution_count": 6,
   "id": "2f0028f7",
   "metadata": {},
   "outputs": [
    {
     "name": "stdout",
     "output_type": "stream",
     "text": [
      "a\n",
      "b\n",
      "c\n"
     ]
    }
   ],
   "source": [
    "d={}\n",
    "lst=['a', 'b', 'c', 'd']\n",
    " \n",
    "for i in range(len(lst)-1):\n",
    "  d[lst[i]]=(lst[i],)\n",
    " \n",
    "for i in sorted(d.keys()):\n",
    "  k=d[i]\n",
    "  print(k[0])"
   ]
  },
  {
   "cell_type": "code",
   "execution_count": 7,
   "id": "1429936d",
   "metadata": {},
   "outputs": [
    {
     "name": "stdout",
     "output_type": "stream",
     "text": [
      "[12, 55, 14, 18, 42, 34, 10]\n"
     ]
    }
   ],
   "source": [
    "lst = [12, 55, 14, 18, 42, 34]\n",
    "lst.insert(30, 10)\n",
    " \n",
    "print(lst)"
   ]
  },
  {
   "cell_type": "code",
   "execution_count": 12,
   "id": "d3c00903",
   "metadata": {},
   "outputs": [
    {
     "ename": "SyntaxError",
     "evalue": "invalid decimal literal (Temp/ipykernel_15164/373380172.py, line 1)",
     "output_type": "error",
     "traceback": [
      "\u001b[1;36m  File \u001b[1;32m\"C:\\Users\\Azarm\\AppData\\Local\\Temp/ipykernel_15164/373380172.py\"\u001b[1;36m, line \u001b[1;32m1\u001b[0m\n\u001b[1;33m    2_ = 2\u001b[0m\n\u001b[1;37m     ^\u001b[0m\n\u001b[1;31mSyntaxError\u001b[0m\u001b[1;31m:\u001b[0m invalid decimal literal\n"
     ]
    }
   ],
   "source": [
    "2_ = 2"
   ]
  },
  {
   "cell_type": "code",
   "execution_count": 13,
   "id": "355493dd",
   "metadata": {},
   "outputs": [
    {
     "name": "stdout",
     "output_type": "stream",
     "text": [
      "['d', 'b', 'c', 'a']\n"
     ]
    }
   ],
   "source": [
    "x = ['a', 'b', 'c', 'd']\n",
    " \n",
    "x[0], x[3] = x[3], x[0]\n",
    "   \n",
    "print(x)"
   ]
  },
  {
   "cell_type": "code",
   "execution_count": 14,
   "id": "f846a2ed",
   "metadata": {},
   "outputs": [
    {
     "name": "stdout",
     "output_type": "stream",
     "text": [
      "3\n"
     ]
    }
   ],
   "source": [
    "data = [24, 21, 3, 12, 8]\n",
    "result = data[0]\n",
    " \n",
    "for d in data:\n",
    "    if d < result:\n",
    "       result = d\n",
    " \n",
    "print(result)"
   ]
  },
  {
   "cell_type": "code",
   "execution_count": 15,
   "id": "4d1e5dda",
   "metadata": {},
   "outputs": [
    {
     "ename": "TypeError",
     "evalue": "'<' not supported between instances of 'str' and 'int'",
     "output_type": "error",
     "traceback": [
      "\u001b[1;31m---------------------------------------------------------------------------\u001b[0m",
      "\u001b[1;31mTypeError\u001b[0m                                 Traceback (most recent call last)",
      "\u001b[1;32m~\\AppData\\Local\\Temp/ipykernel_15164/789404435.py\u001b[0m in \u001b[0;36m<module>\u001b[1;34m\u001b[0m\n\u001b[0;32m      1\u001b[0m \u001b[0mx\u001b[0m\u001b[1;33m=\u001b[0m\u001b[1;33m[\u001b[0m\u001b[1;36m42\u001b[0m\u001b[1;33m,\u001b[0m\u001b[1;34m\"A\"\u001b[0m\u001b[1;33m,\u001b[0m\u001b[1;36m43\u001b[0m\u001b[1;33m,\u001b[0m\u001b[1;34m\"B\"\u001b[0m\u001b[1;33m,\u001b[0m\u001b[1;36m44\u001b[0m\u001b[1;33m,\u001b[0m\u001b[1;34m\"C\"\u001b[0m\u001b[1;33m]\u001b[0m\u001b[1;33m\u001b[0m\u001b[1;33m\u001b[0m\u001b[0m\n\u001b[1;32m----> 2\u001b[1;33m \u001b[0mx\u001b[0m\u001b[1;33m.\u001b[0m\u001b[0msort\u001b[0m\u001b[1;33m(\u001b[0m\u001b[1;33m)\u001b[0m\u001b[1;33m\u001b[0m\u001b[1;33m\u001b[0m\u001b[0m\n\u001b[0m\u001b[0;32m      3\u001b[0m \u001b[0mprint\u001b[0m\u001b[1;33m(\u001b[0m\u001b[0mx\u001b[0m\u001b[1;33m)\u001b[0m\u001b[1;33m\u001b[0m\u001b[1;33m\u001b[0m\u001b[0m\n",
      "\u001b[1;31mTypeError\u001b[0m: '<' not supported between instances of 'str' and 'int'"
     ]
    }
   ],
   "source": [
    "x=[42,\"A\",43,\"B\",44,\"C\"]\n",
    "x.sort()\n",
    "print(x)"
   ]
  },
  {
   "cell_type": "code",
   "execution_count": 16,
   "id": "81ee49e8",
   "metadata": {},
   "outputs": [
    {
     "name": "stdout",
     "output_type": "stream",
     "text": [
      "*\n",
      "*\n"
     ]
    }
   ],
   "source": [
    "x = 0\n",
    "while x < 10:\n",
    "  x+=3\n",
    "  if x % 2 ==1:\n",
    "    continue\n",
    "  print('*')"
   ]
  },
  {
   "cell_type": "code",
   "execution_count": 17,
   "id": "9bc870d4",
   "metadata": {},
   "outputs": [
    {
     "name": "stdout",
     "output_type": "stream",
     "text": [
      "39\n"
     ]
    }
   ],
   "source": [
    "print(13 * 12 ** 0 * 3)"
   ]
  },
  {
   "cell_type": "code",
   "execution_count": 18,
   "id": "33e00047",
   "metadata": {},
   "outputs": [
    {
     "name": "stdout",
     "output_type": "stream",
     "text": [
      "0\n"
     ]
    }
   ],
   "source": [
    "print(1 // 3 * 7)"
   ]
  },
  {
   "cell_type": "code",
   "execution_count": 22,
   "id": "3c640509",
   "metadata": {},
   "outputs": [
    {
     "name": "stdout",
     "output_type": "stream",
     "text": [
      "[42, 11, 7, 13, 46]\n"
     ]
    }
   ],
   "source": [
    "x = [46, 13, 7, 11, 42]\n",
    " \n",
    "print(x[::-1])"
   ]
  },
  {
   "cell_type": "code",
   "execution_count": 23,
   "id": "9e5000aa",
   "metadata": {},
   "outputs": [
    {
     "name": "stdout",
     "output_type": "stream",
     "text": [
      "Holiday\n",
      "Working day\n"
     ]
    }
   ],
   "source": [
    "def week(day=\"Sunday\"):\n",
    "  if day==\"Sunday\":\n",
    "    print(\"Holiday\")\n",
    "  else:\n",
    "    print(\"Working day\")\n",
    " \n",
    "week()\n",
    "week(\"Monday\")"
   ]
  },
  {
   "cell_type": "code",
   "execution_count": 24,
   "id": "e51bfc64",
   "metadata": {},
   "outputs": [
    {
     "name": "stdout",
     "output_type": "stream",
     "text": [
      "[7, 3, 4, 5, 6]\n"
     ]
    }
   ],
   "source": [
    "numbers = [1, 2, 7, 3, 4, 5, 6]\n",
    "nums = numbers[2: ]\n",
    "print(nums)"
   ]
  },
  {
   "cell_type": "code",
   "execution_count": 25,
   "id": "b116b983",
   "metadata": {},
   "outputs": [
    {
     "name": "stdout",
     "output_type": "stream",
     "text": [
      "[1, 1, 2]\n"
     ]
    }
   ],
   "source": [
    "data = [0, 1, 2]\n",
    "data.insert(0, 1)\n",
    "del data[1]\n",
    " \n",
    "print(data)"
   ]
  },
  {
   "cell_type": "code",
   "execution_count": 26,
   "id": "d394512a",
   "metadata": {},
   "outputs": [
    {
     "name": "stdout",
     "output_type": "stream",
     "text": [
      "[-1, 0, 1, 2, 3, 4, 5, 6]\n"
     ]
    }
   ],
   "source": [
    "data = [i for i in range(-1, 7)]\n",
    " \n",
    "print(data)"
   ]
  },
  {
   "cell_type": "code",
   "execution_count": 27,
   "id": "0cade879",
   "metadata": {},
   "outputs": [
    {
     "name": "stdout",
     "output_type": "stream",
     "text": [
      "datascience4u\n"
     ]
    }
   ],
   "source": [
    "print('data' 'science' '4' 'u')"
   ]
  },
  {
   "cell_type": "code",
   "execution_count": 28,
   "id": "1a2d7cd9",
   "metadata": {},
   "outputs": [
    {
     "name": "stdout",
     "output_type": "stream",
     "text": [
      "[1, 2, 3] [7, 2, 3]\n"
     ]
    }
   ],
   "source": [
    "a = [1, 2, 3]\n",
    "b = a[:] \n",
    "b[0]=7\n",
    "print(a,b)"
   ]
  },
  {
   "cell_type": "code",
   "execution_count": 29,
   "id": "54c6b055",
   "metadata": {},
   "outputs": [
    {
     "name": "stdout",
     "output_type": "stream",
     "text": [
      "{1: 'cat', 2: 'dog', 3: 'shark'}\n"
     ]
    }
   ],
   "source": [
    "d1 = {1: 'cat', 2: 'dog', 3: 'shark'}\n",
    " \n",
    "d2 = d1.copy()\n",
    "del d1\n",
    " \n",
    "print(d2)"
   ]
  },
  {
   "cell_type": "code",
   "execution_count": 30,
   "id": "9aad77b7",
   "metadata": {},
   "outputs": [
    {
     "name": "stdout",
     "output_type": "stream",
     "text": [
      "3\n",
      "2\n",
      "33\n"
     ]
    }
   ],
   "source": [
    "x = input()\n",
    "y = int(input())\n",
    "print(x * y)"
   ]
  },
  {
   "cell_type": "code",
   "execution_count": 32,
   "id": "70024f9d",
   "metadata": {},
   "outputs": [
    {
     "name": "stdout",
     "output_type": "stream",
     "text": [
      "2\n"
     ]
    }
   ],
   "source": [
    "print(y)"
   ]
  },
  {
   "cell_type": "code",
   "execution_count": 34,
   "id": "1c6c8ced",
   "metadata": {},
   "outputs": [
    {
     "name": "stdout",
     "output_type": "stream",
     "text": [
      "2\n"
     ]
    }
   ],
   "source": [
    "tup=(1, 2, 3, 4)\n",
    "\n",
    "print(tup[1])"
   ]
  },
  {
   "cell_type": "code",
   "execution_count": 35,
   "id": "509b800c",
   "metadata": {},
   "outputs": [
    {
     "name": "stdout",
     "output_type": "stream",
     "text": [
      "9\n"
     ]
    }
   ],
   "source": [
    "def f(a):\n",
    "  if a < 3:\n",
    "    return a\n",
    "  return a + f(a-2)\n",
    " \n",
    "print(f(5))"
   ]
  },
  {
   "cell_type": "code",
   "execution_count": 36,
   "id": "c8d1a724",
   "metadata": {},
   "outputs": [
    {
     "name": "stdout",
     "output_type": "stream",
     "text": [
      "['Table', 'Chair', 'TV', 'radio']\n"
     ]
    }
   ],
   "source": [
    "def materials(x):\n",
    "  x[-3]=\"Chair\"\n",
    " \n",
    "household=[\"Table\", \"fridge\", \"TV\", \"radio\"]\n",
    " \n",
    "materials(household)\n",
    " \n",
    "print(household)"
   ]
  },
  {
   "cell_type": "code",
   "execution_count": 38,
   "id": "974bac45",
   "metadata": {},
   "outputs": [
    {
     "name": "stdout",
     "output_type": "stream",
     "text": [
      "Enter a number: no\n"
     ]
    },
    {
     "ename": "ValueError",
     "evalue": "invalid literal for int() with base 10: 'no'",
     "output_type": "error",
     "traceback": [
      "\u001b[1;31m---------------------------------------------------------------------------\u001b[0m",
      "\u001b[1;31mValueError\u001b[0m                                Traceback (most recent call last)",
      "\u001b[1;32m~\\AppData\\Local\\Temp/ipykernel_15164/78940941.py\u001b[0m in \u001b[0;36m<module>\u001b[1;34m\u001b[0m\n\u001b[1;32m----> 1\u001b[1;33m \u001b[0mval\u001b[0m \u001b[1;33m=\u001b[0m \u001b[0mint\u001b[0m\u001b[1;33m(\u001b[0m\u001b[0minput\u001b[0m\u001b[1;33m(\u001b[0m\u001b[1;34m'Enter a number: '\u001b[0m\u001b[1;33m)\u001b[0m\u001b[1;33m)\u001b[0m\u001b[1;33m\u001b[0m\u001b[1;33m\u001b[0m\u001b[0m\n\u001b[0m\u001b[0;32m      2\u001b[0m \u001b[1;32mtry\u001b[0m\u001b[1;33m:\u001b[0m\u001b[1;33m\u001b[0m\u001b[1;33m\u001b[0m\u001b[0m\n\u001b[0;32m      3\u001b[0m   \u001b[0mprint\u001b[0m\u001b[1;33m(\u001b[0m\u001b[0mval\u001b[0m\u001b[1;33m/\u001b[0m\u001b[0mval\u001b[0m\u001b[1;33m)\u001b[0m\u001b[1;33m\u001b[0m\u001b[1;33m\u001b[0m\u001b[0m\n\u001b[0;32m      4\u001b[0m \u001b[1;32mexcept\u001b[0m \u001b[0mTypeError\u001b[0m\u001b[1;33m:\u001b[0m\u001b[1;33m\u001b[0m\u001b[1;33m\u001b[0m\u001b[0m\n\u001b[0;32m      5\u001b[0m   \u001b[0mprint\u001b[0m\u001b[1;33m(\u001b[0m\u001b[1;34m'You are wrong'\u001b[0m\u001b[1;33m)\u001b[0m\u001b[1;33m\u001b[0m\u001b[1;33m\u001b[0m\u001b[0m\n",
      "\u001b[1;31mValueError\u001b[0m: invalid literal for int() with base 10: 'no'"
     ]
    }
   ],
   "source": [
    "val = int(input('Enter a number: '))\n",
    "try:\n",
    "  print(val/val)\n",
    "except TypeError:\n",
    "  print('You are wrong')\n",
    "except ValueError:\n",
    "  print('You are more than wrong')\n",
    "except ZeroDivisionError:\n",
    "  print('I said WRONG!')\n",
    "except:\n",
    "  print('WRONG!')"
   ]
  },
  {
   "cell_type": "code",
   "execution_count": 39,
   "id": "ae0ade09",
   "metadata": {},
   "outputs": [
    {
     "name": "stdout",
     "output_type": "stream",
     "text": [
      "r\n"
     ]
    }
   ],
   "source": [
    "print(chr(ord('t') - 2))"
   ]
  },
  {
   "cell_type": "code",
   "execution_count": 40,
   "id": "fc2ae353",
   "metadata": {},
   "outputs": [
    {
     "name": "stdout",
     "output_type": "stream",
     "text": [
      "120\n"
     ]
    }
   ],
   "source": [
    "def test(x):\n",
    "  if x == 1:\n",
    "    return x\n",
    "  return x * test(x-1)\n",
    " \n",
    "print(test(5))"
   ]
  },
  {
   "cell_type": "code",
   "execution_count": 41,
   "id": "2bb6046f",
   "metadata": {},
   "outputs": [
    {
     "ename": "TypeError",
     "evalue": "'function' object does not support item deletion",
     "output_type": "error",
     "traceback": [
      "\u001b[1;31m---------------------------------------------------------------------------\u001b[0m",
      "\u001b[1;31mTypeError\u001b[0m                                 Traceback (most recent call last)",
      "\u001b[1;32m~\\AppData\\Local\\Temp/ipykernel_15164/2398697520.py\u001b[0m in \u001b[0;36m<module>\u001b[1;34m\u001b[0m\n\u001b[0;32m      5\u001b[0m   \u001b[0mlst\u001b[0m\u001b[1;33m[\u001b[0m\u001b[1;36m3\u001b[0m\u001b[1;33m]\u001b[0m\u001b[1;33m=\u001b[0m\u001b[1;34m\"black\"\u001b[0m\u001b[1;33m\u001b[0m\u001b[1;33m\u001b[0m\u001b[0m\n\u001b[0;32m      6\u001b[0m \u001b[1;33m\u001b[0m\u001b[0m\n\u001b[1;32m----> 7\u001b[1;33m \u001b[0mprint\u001b[0m\u001b[1;33m(\u001b[0m\u001b[0mlst\u001b[0m\u001b[1;33m(\u001b[0m\u001b[0mlst\u001b[0m\u001b[1;33m)\u001b[0m\u001b[1;33m)\u001b[0m\u001b[1;33m\u001b[0m\u001b[1;33m\u001b[0m\u001b[0m\n\u001b[0m",
      "\u001b[1;32m~\\AppData\\Local\\Temp/ipykernel_15164/2398697520.py\u001b[0m in \u001b[0;36mlst\u001b[1;34m(lst)\u001b[0m\n\u001b[0;32m      2\u001b[0m \u001b[1;33m\u001b[0m\u001b[0m\n\u001b[0;32m      3\u001b[0m \u001b[1;32mdef\u001b[0m \u001b[0mlst\u001b[0m\u001b[1;33m(\u001b[0m\u001b[0mlst\u001b[0m\u001b[1;33m)\u001b[0m\u001b[1;33m:\u001b[0m\u001b[1;33m\u001b[0m\u001b[1;33m\u001b[0m\u001b[0m\n\u001b[1;32m----> 4\u001b[1;33m   \u001b[1;32mdel\u001b[0m \u001b[0mlst\u001b[0m\u001b[1;33m[\u001b[0m\u001b[1;36m3\u001b[0m\u001b[1;33m]\u001b[0m\u001b[1;33m\u001b[0m\u001b[1;33m\u001b[0m\u001b[0m\n\u001b[0m\u001b[0;32m      5\u001b[0m   \u001b[0mlst\u001b[0m\u001b[1;33m[\u001b[0m\u001b[1;36m3\u001b[0m\u001b[1;33m]\u001b[0m\u001b[1;33m=\u001b[0m\u001b[1;34m\"black\"\u001b[0m\u001b[1;33m\u001b[0m\u001b[1;33m\u001b[0m\u001b[0m\n\u001b[0;32m      6\u001b[0m \u001b[1;33m\u001b[0m\u001b[0m\n",
      "\u001b[1;31mTypeError\u001b[0m: 'function' object does not support item deletion"
     ]
    }
   ],
   "source": [
    "lst = {\"Anna\", \"has\", \"curley\", \"brown\", \"hair\"}\n",
    " \n",
    "def lst(lst):\n",
    "  del lst[3]\n",
    "  lst[3]=\"black\"\n",
    " \n",
    "print(lst(lst))"
   ]
  },
  {
   "cell_type": "code",
   "execution_count": 42,
   "id": "6a86bb8d",
   "metadata": {},
   "outputs": [
    {
     "name": "stdout",
     "output_type": "stream",
     "text": [
      "x = 3  y = 7  z =  17\n",
      "x = 42  y = 13  z =  46\n",
      "x = 20  y = 13  z =  10\n"
     ]
    }
   ],
   "source": [
    "def test(x, y=13, z=17):\n",
    "  print('x =', x, ' y =', y, ' z = ', z)\n",
    " \n",
    "test(3, 7)\n",
    "test(42, z=46)\n",
    "test(z=10, x=20)"
   ]
  },
  {
   "cell_type": "code",
   "execution_count": 43,
   "id": "56573875",
   "metadata": {},
   "outputs": [
    {
     "name": "stdout",
     "output_type": "stream",
     "text": [
      "15\n",
      "4\n",
      "1\n"
     ]
    }
   ],
   "source": [
    "x = int(input())\n",
    "y = int(input())\n",
    "x = x % y\n",
    "x = x % y\n",
    "y = y % x\n",
    "print(y)"
   ]
  },
  {
   "cell_type": "code",
   "execution_count": 44,
   "id": "6b28002c",
   "metadata": {},
   "outputs": [
    {
     "name": "stdout",
     "output_type": "stream",
     "text": [
      "***"
     ]
    }
   ],
   "source": [
    "i = 7\n",
    " \n",
    "while i > 0:\n",
    "  print(\"*\", end=\"\", sep=\".\")\n",
    "  i //= 2"
   ]
  },
  {
   "cell_type": "code",
   "execution_count": 45,
   "id": "46965dd1",
   "metadata": {},
   "outputs": [
    {
     "name": "stdout",
     "output_type": "stream",
     "text": [
      "12 3\n"
     ]
    }
   ],
   "source": [
    "def f(x=10, y=20):\n",
    "  x = x + y\n",
    "  y += 1\n",
    "  print(x, y)  \n",
    "f(y=2)"
   ]
  },
  {
   "cell_type": "code",
   "execution_count": 46,
   "id": "8518fdf6",
   "metadata": {},
   "outputs": [
    {
     "name": "stdout",
     "output_type": "stream",
     "text": [
      "x + y\n"
     ]
    }
   ],
   "source": [
    "x = \"PRO\"\n",
    "y = \"Coding\"\n",
    " \n",
    "print('x + y')"
   ]
  },
  {
   "cell_type": "code",
   "execution_count": 47,
   "id": "4bc42bd5",
   "metadata": {},
   "outputs": [
    {
     "name": "stdout",
     "output_type": "stream",
     "text": [
      "True False\n"
     ]
    }
   ],
   "source": [
    "x = True\n",
    "y = False\n",
    "x = x or y\n",
    "y = x and y\n",
    "x = x or y\n",
    "x= x ^ y\n",
    "print(x, y)"
   ]
  },
  {
   "cell_type": "code",
   "execution_count": 49,
   "id": "d6b4a123",
   "metadata": {},
   "outputs": [
    {
     "name": "stdout",
     "output_type": "stream",
     "text": [
      "Enter the first value: Procoding\n",
      "Enter the second value: 0\n",
      "4.5\n"
     ]
    }
   ],
   "source": [
    "try:\n",
    "  x = input(\"Enter the first value: \")\n",
    "  a = len(x)\n",
    "  y = input(\"Enter the second value: \")\n",
    "  b = len(y) * 2\n",
    "  print(a/b)\n",
    "except ZeroDivisionError:\n",
    "  print(\"You can't divide by zero!\")\n",
    "except ValueError:\n",
    "  print(\"Wrong value error.\")\n",
    "except:\n",
    "  print(\"Some other error.\")"
   ]
  },
  {
   "cell_type": "code",
   "execution_count": 50,
   "id": "2697fa73",
   "metadata": {},
   "outputs": [
    {
     "name": "stdout",
     "output_type": "stream",
     "text": [
      "{'Ana': 77, 'Angie': 48, 'Vladimir': 79, 'Marie': 59, 'Marko': 12, 'Per': 58}\n"
     ]
    }
   ],
   "source": [
    "d1 = {'Ana': 77, 'Angie':48}\n",
    "d2 = {'Vladimir': 79, 'Marie': 59, 'Marko':12}\n",
    "d3 = {'Per': 58}\n",
    "d4 = {}\n",
    " \n",
    "for i in (d1, d2, d3):\n",
    "  d4.update(i)\n",
    " \n",
    "print(d4)"
   ]
  },
  {
   "cell_type": "code",
   "execution_count": 51,
   "id": "15e45182",
   "metadata": {},
   "outputs": [
    {
     "name": "stdout",
     "output_type": "stream",
     "text": [
      "64\n"
     ]
    }
   ],
   "source": [
    "def f1(a):\n",
    "  return a**3\n",
    " \n",
    "def f2(a):\n",
    "  return f1(a)*f1(a)\n",
    " \n",
    "print(f2(2))"
   ]
  },
  {
   "cell_type": "code",
   "execution_count": 52,
   "id": "1a12f755",
   "metadata": {},
   "outputs": [
    {
     "ename": "NameError",
     "evalue": "name 'tupl1' is not defined",
     "output_type": "error",
     "traceback": [
      "\u001b[1;31m---------------------------------------------------------------------------\u001b[0m",
      "\u001b[1;31mNameError\u001b[0m                                 Traceback (most recent call last)",
      "\u001b[1;32m~\\AppData\\Local\\Temp/ipykernel_15164/2854602787.py\u001b[0m in \u001b[0;36m<module>\u001b[1;34m\u001b[0m\n\u001b[0;32m      3\u001b[0m \u001b[1;32mdel\u001b[0m \u001b[0mtupl1\u001b[0m\u001b[1;33m\u001b[0m\u001b[1;33m\u001b[0m\u001b[0m\n\u001b[0;32m      4\u001b[0m \u001b[1;33m\u001b[0m\u001b[0m\n\u001b[1;32m----> 5\u001b[1;33m \u001b[0mprint\u001b[0m\u001b[1;33m(\u001b[0m\u001b[0mtupl1\u001b[0m\u001b[1;33m)\u001b[0m\u001b[1;33m\u001b[0m\u001b[1;33m\u001b[0m\u001b[0m\n\u001b[0m",
      "\u001b[1;31mNameError\u001b[0m: name 'tupl1' is not defined"
     ]
    }
   ],
   "source": [
    "tupl1 = (1, 2, 3, 13, 42, 46)\n",
    "   \n",
    "del tupl1\n",
    " \n",
    "print(tupl1)"
   ]
  },
  {
   "cell_type": "code",
   "execution_count": 53,
   "id": "10f30aa1",
   "metadata": {},
   "outputs": [
    {
     "name": "stdout",
     "output_type": "stream",
     "text": [
      "1\n"
     ]
    }
   ],
   "source": [
    "tpl = 2, 3, 2, 4, 7, 5, 1, 2, 4, 3, 7, 5, 1\n",
    " \n",
    "print(tpl.index(tpl.count(2)))"
   ]
  },
  {
   "cell_type": "code",
   "execution_count": 54,
   "id": "73e28106",
   "metadata": {},
   "outputs": [
    {
     "name": "stdout",
     "output_type": "stream",
     "text": [
      "8\n"
     ]
    }
   ],
   "source": [
    "data = [i for i in range(-1, 7)]\n",
    " \n",
    "print(len(data))"
   ]
  },
  {
   "cell_type": "code",
   "execution_count": 55,
   "id": "037fdba5",
   "metadata": {},
   "outputs": [
    {
     "name": "stdout",
     "output_type": "stream",
     "text": [
      "Procoding\n",
      "None\n"
     ]
    }
   ],
   "source": [
    "print(print('Procoding'))\n"
   ]
  },
  {
   "cell_type": "code",
   "execution_count": 56,
   "id": "d1bea65a",
   "metadata": {},
   "outputs": [
    {
     "name": "stdout",
     "output_type": "stream",
     "text": [
      "{'x': 1, 'y': 42, 'z': 13}\n"
     ]
    }
   ],
   "source": [
    "d = {'x': 7, 'y': 42, 'z': 13}\n",
    " \n",
    "d['x'] = 1\n",
    " \n",
    "print(d)"
   ]
  },
  {
   "cell_type": "code",
   "execution_count": 57,
   "id": "c8d43153",
   "metadata": {},
   "outputs": [
    {
     "name": "stdout",
     "output_type": "stream",
     "text": [
      "True\n"
     ]
    }
   ],
   "source": [
    "a, b = 42, 7\n",
    "if 42 - 7:\n",
    "  print('True')\n",
    "else:\n",
    "  print('False')"
   ]
  },
  {
   "cell_type": "code",
   "execution_count": 58,
   "id": "58fbbdfc",
   "metadata": {},
   "outputs": [
    {
     "name": "stdout",
     "output_type": "stream",
     "text": [
      "7\n"
     ]
    }
   ],
   "source": [
    "print(0O7)"
   ]
  },
  {
   "cell_type": "code",
   "execution_count": 59,
   "id": "9ce6744d",
   "metadata": {},
   "outputs": [
    {
     "name": "stdout",
     "output_type": "stream",
     "text": [
      "xxxxxxxx"
     ]
    }
   ],
   "source": [
    "x = 4\n",
    "for x in range(8):\n",
    "  print('x', end=\"\")"
   ]
  },
  {
   "cell_type": "code",
   "execution_count": 60,
   "id": "edf10839",
   "metadata": {},
   "outputs": [
    {
     "name": "stdout",
     "output_type": "stream",
     "text": [
      "15\n"
     ]
    }
   ],
   "source": [
    "counter = 0\n",
    " \n",
    "for i in \"\\'DataScience4U\\'\":\n",
    "  counter += 1\n",
    " \n",
    "print(counter)"
   ]
  },
  {
   "cell_type": "code",
   "execution_count": 5,
   "id": "7c8f12b4",
   "metadata": {},
   "outputs": [
    {
     "name": "stdout",
     "output_type": "stream",
     "text": [
      "a b7c\n"
     ]
    }
   ],
   "source": [
    "print(\"a\", \"b\", end = \"7\")\n",
    "print(\"c\")"
   ]
  },
  {
   "cell_type": "code",
   "execution_count": null,
   "id": "a7944f8e",
   "metadata": {},
   "outputs": [],
   "source": []
  }
 ],
 "metadata": {
  "kernelspec": {
   "display_name": "Python 3 (ipykernel)",
   "language": "python",
   "name": "python3"
  },
  "language_info": {
   "codemirror_mode": {
    "name": "ipython",
    "version": 3
   },
   "file_extension": ".py",
   "mimetype": "text/x-python",
   "name": "python",
   "nbconvert_exporter": "python",
   "pygments_lexer": "ipython3",
   "version": "3.8.8"
  },
  "toc": {
   "base_numbering": 1,
   "nav_menu": {},
   "number_sections": true,
   "sideBar": true,
   "skip_h1_title": false,
   "title_cell": "Table of Contents",
   "title_sidebar": "Contents",
   "toc_cell": false,
   "toc_position": {},
   "toc_section_display": true,
   "toc_window_display": false
  }
 },
 "nbformat": 4,
 "nbformat_minor": 5
}
