{
 "cells": [
  {
   "cell_type": "code",
   "execution_count": null,
   "id": "34f73430",
   "metadata": {},
   "outputs": [],
   "source": [
    "def function(x):\n",
    "    if x ==2: \n",
    "        print(\"gااood\") "
   ]
  },
  {
   "cell_type": "code",
   "execution_count": null,
   "id": "0882fcda",
   "metadata": {},
   "outputs": [],
   "source": []
  },
  {
   "cell_type": "code",
   "execution_count": null,
   "id": "da546415",
   "metadata": {},
   "outputs": [],
   "source": [
    "function(3)"
   ]
  },
  {
   "cell_type": "code",
   "execution_count": null,
   "id": "7e528958",
   "metadata": {},
   "outputs": [],
   "source": [
    "def is_year_leap(year):\n",
    "    test_data = [1900, 2000, 2016, 1987]\n",
    "    test_results = [False, True, True, False]\n",
    "    for i in range(test_data):\n",
    "        "
   ]
  },
  {
   "cell_type": "code",
   "execution_count": null,
   "id": "669ea63b",
   "metadata": {},
   "outputs": [],
   "source": [
    "def function():\n",
    "    x = 2 \n",
    "    print(x)\n",
    "    \n",
    "    \n",
    "x = 3\n",
    "print(x)\n",
    "function()\n",
    "#print(x)"
   ]
  },
  {
   "cell_type": "code",
   "execution_count": null,
   "id": "d3ca7a30",
   "metadata": {},
   "outputs": [],
   "source": [
    "def function():\n",
    "    global x \n",
    "    x = 1\n",
    "    print(x)\n",
    "\n",
    "x = 2\n",
    "print(x)\n",
    "function() #after running this line, since x is defined as a global var, it will be 1 everywhere \n",
    "print(x) \n",
    "x = 3 #unless you manually define it again\n",
    "print(x)"
   ]
  },
  {
   "cell_type": "code",
   "execution_count": null,
   "id": "9d1da554",
   "metadata": {},
   "outputs": [],
   "source": [
    "def my_function(my_list_1):\n",
    "    print(\"Print #1:\", my_list_1)\n",
    "    print(\"Print #2:\", my_list_2)\n",
    "    del my_list_1[0]  # Pay attention to this line.\n",
    "    print(\"Print #3:\", my_list_1)\n",
    "    print(\"Print #4:\", my_list_2)\n",
    "\n",
    "\n",
    "my_list_2 = [2, 3]\n",
    "my_function(my_list_2)\n",
    "print(\"Print #5:\", my_list_2)\n",
    "\n"
   ]
  },
  {
   "cell_type": "code",
   "execution_count": null,
   "id": "7f0712fd",
   "metadata": {},
   "outputs": [],
   "source": [
    "def factorial_function(n):\n",
    "    if n < 0:\n",
    "        return None\n",
    "    if n < 2:\n",
    "        return 1\n",
    "    \n",
    "    product = 1\n",
    "    for i in range(2, n + 1):\n",
    "        product *= i\n",
    "    return product\n",
    "\n",
    "\n",
    "for n in range(1, 6):  # testing\n",
    "    print(n, factorial_function(n))\n",
    "\n"
   ]
  },
  {
   "cell_type": "code",
   "execution_count": null,
   "id": "7f4a3c78",
   "metadata": {},
   "outputs": [],
   "source": [
    "for n in range(1, 6):  # testing\n",
    "    print(n, factorial_function(n))"
   ]
  },
  {
   "cell_type": "code",
   "execution_count": null,
   "id": "48ec8624",
   "metadata": {},
   "outputs": [],
   "source": [
    "factorial_function(3)"
   ]
  },
  {
   "cell_type": "code",
   "execution_count": null,
   "id": "ec01850b",
   "metadata": {},
   "outputs": [],
   "source": [
    "list1 = []"
   ]
  },
  {
   "cell_type": "code",
   "execution_count": null,
   "id": "b048f432",
   "metadata": {},
   "outputs": [],
   "source": [
    "print(list1)"
   ]
  },
  {
   "cell_type": "code",
   "execution_count": null,
   "id": "9d545482",
   "metadata": {},
   "outputs": [],
   "source": [
    "list1.append(2)"
   ]
  },
  {
   "cell_type": "code",
   "execution_count": null,
   "id": "225829d0",
   "metadata": {},
   "outputs": [],
   "source": [
    "print(list1)"
   ]
  },
  {
   "cell_type": "code",
   "execution_count": null,
   "id": "1946aebf",
   "metadata": {},
   "outputs": [],
   "source": [
    "list2 = [2,3,4]"
   ]
  },
  {
   "cell_type": "code",
   "execution_count": null,
   "id": "486bf733",
   "metadata": {},
   "outputs": [],
   "source": [
    "list2.remove(4)"
   ]
  },
  {
   "cell_type": "code",
   "execution_count": null,
   "id": "c165c6e2",
   "metadata": {},
   "outputs": [],
   "source": [
    "print(list2)"
   ]
  },
  {
   "cell_type": "code",
   "execution_count": null,
   "id": "2c515df4",
   "metadata": {},
   "outputs": [],
   "source": [
    "my_tuple = ()"
   ]
  },
  {
   "cell_type": "code",
   "execution_count": null,
   "id": "ebfc8bee",
   "metadata": {},
   "outputs": [],
   "source": [
    "print(my_tuple)"
   ]
  },
  {
   "cell_type": "code",
   "execution_count": null,
   "id": "d411ae4a",
   "metadata": {},
   "outputs": [],
   "source": [
    "tuple2 = (2,3, 'hello')"
   ]
  },
  {
   "cell_type": "code",
   "execution_count": null,
   "id": "17c22811",
   "metadata": {},
   "outputs": [],
   "source": [
    "print(tuple2)"
   ]
  },
  {
   "cell_type": "code",
   "execution_count": null,
   "id": "e78e2d1e",
   "metadata": {},
   "outputs": [],
   "source": [
    "list3 = [3,4,'Hi']"
   ]
  },
  {
   "cell_type": "code",
   "execution_count": null,
   "id": "cfc7f714",
   "metadata": {},
   "outputs": [],
   "source": [
    "print(list3)"
   ]
  },
  {
   "cell_type": "code",
   "execution_count": null,
   "id": "31c3cfdb",
   "metadata": {},
   "outputs": [],
   "source": [
    "mydictionary = { \"sag\":\"dog\" , \"gorbe\":\"cat\" }"
   ]
  },
  {
   "cell_type": "code",
   "execution_count": null,
   "id": "cbfebaa4",
   "metadata": {},
   "outputs": [],
   "source": [
    "{}"
   ]
  },
  {
   "cell_type": "code",
   "execution_count": null,
   "id": "f38a48e0",
   "metadata": {},
   "outputs": [],
   "source": [
    "print(mydictionary)"
   ]
  },
  {
   "cell_type": "code",
   "execution_count": null,
   "id": "67497199",
   "metadata": {},
   "outputs": [],
   "source": [
    "name = input(\"Enter your name: \")"
   ]
  },
  {
   "cell_type": "code",
   "execution_count": null,
   "id": "d7817a5f",
   "metadata": {},
   "outputs": [],
   "source": [
    "largest_number = -99999999\n",
    "counter = 0\n",
    "\n",
    "number = int(input(\"Enter a number or type -1 to end program: \"))\n",
    "\n",
    "while number != -1:\n",
    "    if number == -1:\n",
    "        continue\n",
    "    counter += 1\n",
    "\n",
    "    if number > largest_number:\n",
    "        largest_number = number\n",
    "    number = int(input(\"Enter a number or type -1 to end program: \"))\n",
    "\n",
    "    \n",
    "    \n",
    "if counter:\n",
    "    print(\"The largest number is\", largest_number)\n",
    "else:\n",
    "    print(\"You haven't entered any number.\")\n",
    "    "
   ]
  },
  {
   "cell_type": "code",
   "execution_count": null,
   "id": "c156f734",
   "metadata": {},
   "outputs": [],
   "source": [
    "for i in range(1,10, 2):\n",
    "    print(i)"
   ]
  },
  {
   "cell_type": "code",
   "execution_count": null,
   "id": "cd2040f4",
   "metadata": {},
   "outputs": [],
   "source": [
    "result = 2 / 2\n",
    "print(\"Hello\")"
   ]
  },
  {
   "cell_type": "code",
   "execution_count": null,
   "id": "f2e3b960",
   "metadata": {},
   "outputs": [],
   "source": [
    "x = 1\n",
    "while x < 11:\n",
    "    if (x % 2) != 0:\n",
    "        print(x)\n",
    "    x = x + 1"
   ]
  },
  {
   "cell_type": "code",
   "execution_count": null,
   "id": "9f9b4832",
   "metadata": {},
   "outputs": [],
   "source": [
    "for x in \"john.smith@pythoninstitute.org\":\n",
    "    if x == \"@\":\n",
    "        break\n",
    "    else: \n",
    "        i = 1\n",
    "        mylist = []\n",
    "        mylist[i] = x\n",
    "        i = i + 1"
   ]
  },
  {
   "cell_type": "code",
   "execution_count": null,
   "id": "1e56171d",
   "metadata": {},
   "outputs": [],
   "source": [
    "for ch in \"john.smith@pythoninstitute.org\":\n",
    "    if ch == \"@\":\n",
    "        break\n",
    "    print(ch, end=\"\")\n",
    "    "
   ]
  },
  {
   "cell_type": "code",
   "execution_count": null,
   "id": "9d6d8205",
   "metadata": {},
   "outputs": [],
   "source": [
    "for digit in \"0165031806510\":\n",
    "    if digit == \"0\":\n",
    "        print(\"x\", end=\"\")\n",
    "        continue\n",
    "    print(digit, end=\"\")"
   ]
  },
  {
   "cell_type": "code",
   "execution_count": null,
   "id": "0b23d204",
   "metadata": {},
   "outputs": [],
   "source": [
    "i = 1\n",
    "j = not not i\n",
    "print(j)"
   ]
  },
  {
   "cell_type": "code",
   "execution_count": null,
   "id": "fae9134b",
   "metadata": {},
   "outputs": [],
   "source": [
    "x = 1\n",
    "print(x)"
   ]
  },
  {
   "cell_type": "code",
   "execution_count": null,
   "id": "f1e06515",
   "metadata": {},
   "outputs": [],
   "source": [
    "x = -3\n",
    "print(x)\n",
    "y = not not x\n",
    "print(y)"
   ]
  },
  {
   "cell_type": "code",
   "execution_count": null,
   "id": "c528519d",
   "metadata": {},
   "outputs": [],
   "source": [
    "lst=['PRO']\n",
    "print(len(lst) * 'abc' + 'xyz')"
   ]
  },
  {
   "cell_type": "code",
   "execution_count": null,
   "id": "9494b4fd",
   "metadata": {},
   "outputs": [],
   "source": [
    "x = [False, True, True, False, True]\n",
    "y = x[:]\n",
    "i = 0\n",
    "for j in y[2:]:\n",
    "  if j:\n",
    "    i +=1\n",
    "print(i)"
   ]
  },
  {
   "cell_type": "code",
   "execution_count": null,
   "id": "058e1bc5",
   "metadata": {},
   "outputs": [],
   "source": [
    "data = (1, 2, 8, 16)\n",
    "print(type(data))\n",
    "\n",
    "data2 = data[-2:-1]\n",
    "print(data2)\n",
    "#data = data[-1]\n",
    "#print(data)"
   ]
  },
  {
   "cell_type": "code",
   "execution_count": null,
   "id": "f3c190c9",
   "metadata": {},
   "outputs": [],
   "source": [
    "for a in range(1, 3):\n",
    "  for b in range(1, 3):\n",
    "    if a >= b:\n",
    "      continue\n",
    "  else:\n",
    "    print(a * b)"
   ]
  },
  {
   "cell_type": "code",
   "execution_count": null,
   "id": "69b5e96f",
   "metadata": {},
   "outputs": [],
   "source": [
    "x = {'Marko': 10, 'Ana': 46, 'Angie':76}\n",
    "print(list(x.keys()))"
   ]
  },
  {
   "cell_type": "code",
   "execution_count": null,
   "id": "43fb1999",
   "metadata": {},
   "outputs": [],
   "source": [
    "def test():\n",
    "  x = 'Procoding'\n",
    "  print(x)\n",
    " \n",
    "x = 'DataScience4U'\n",
    "print(x)\n",
    "test()\n",
    "print(x)"
   ]
  },
  {
   "cell_type": "code",
   "execution_count": null,
   "id": "e5ed4d9c",
   "metadata": {},
   "outputs": [],
   "source": [
    "x = 42\n",
    "for i in range(2, 8, 2):\n",
    "  for j in range(-5, 2, 3):\n",
    "    if i==j:\n",
    "      x += 2\n",
    "    else:\n",
    "      break\n",
    "print(x)"
   ]
  },
  {
   "cell_type": "code",
   "execution_count": null,
   "id": "00a12680",
   "metadata": {},
   "outputs": [],
   "source": [
    "def func(a):\n",
    "  a[3]='shark'\n",
    " \n",
    "x = ['cat', 'dog', 'mouse', 'cow']\n",
    "func(x)\n",
    "print(x)"
   ]
  },
  {
   "cell_type": "code",
   "execution_count": null,
   "id": "793c99d2",
   "metadata": {},
   "outputs": [],
   "source": [
    "a = 13\n",
    "b = 42\n",
    " \n",
    "while a < b:\n",
    "  print(\"*\", sep=\"-\", end=\"\")\n",
    "  a += 7"
   ]
  },
  {
   "cell_type": "code",
   "execution_count": null,
   "id": "ac469c04",
   "metadata": {},
   "outputs": [],
   "source": [
    "x = [[[42, 13], [33, 44]], [[555, 678], [7, 8]]]\n",
    " \n",
    "def test(z): # z = [[555, 678], [7, 8]] --> z[0] = [555, 678] --> z[0][0] = 555 \n",
    "  res = z[0][0] # res = 555\n",
    "  for el in z:  # el = [555, 678]\n",
    "    for d in el: # d = 678\n",
    "      if res < d:\n",
    "        res = d\n",
    "  return res\n",
    " \n",
    "print(test(x[1])) # x[1] = [[555, 678], [7, 8]]"
   ]
  },
  {
   "cell_type": "code",
   "execution_count": null,
   "id": "95a47ce0",
   "metadata": {},
   "outputs": [],
   "source": [
    "x = [[[42, 13], [33, 44]], [[555, 678], [7, 8]]]\n",
    "print(x[0][0][0])"
   ]
  },
  {
   "cell_type": "code",
   "execution_count": null,
   "id": "21c5b97c",
   "metadata": {},
   "outputs": [],
   "source": [
    "def f(x):\n",
    "  return x ** 3 - 24\n",
    " \n",
    "print(f(f(f(3))))"
   ]
  },
  {
   "cell_type": "code",
   "execution_count": null,
   "id": "4a96bc35",
   "metadata": {},
   "outputs": [],
   "source": [
    "x=42\n",
    "while x<46:\n",
    "  x+=1\n",
    "  print(x)\n",
    "  break\n",
    "else:\n",
    "  print(\"break\")"
   ]
  },
  {
   "cell_type": "code",
   "execution_count": null,
   "id": "f93a2d89",
   "metadata": {},
   "outputs": [],
   "source": [
    "print(79. // 7)"
   ]
  },
  {
   "cell_type": "code",
   "execution_count": null,
   "id": "bcd645a0",
   "metadata": {},
   "outputs": [],
   "source": [
    "print(42 + 5.0 * 3 + 22 // 4 + 11 % 3)"
   ]
  },
  {
   "cell_type": "code",
   "execution_count": null,
   "id": "291be8bb",
   "metadata": {},
   "outputs": [],
   "source": [
    "print(42 + 5.0 * 3 + 22)"
   ]
  },
  {
   "cell_type": "code",
   "execution_count": null,
   "id": "c7134e34",
   "metadata": {},
   "outputs": [],
   "source": [
    "print(4 + 11 % 3)"
   ]
  },
  {
   "cell_type": "code",
   "execution_count": null,
   "id": "3591be14",
   "metadata": {},
   "outputs": [],
   "source": [
    "print(79. // 6)"
   ]
  },
  {
   "cell_type": "code",
   "execution_count": null,
   "id": "86e4737f",
   "metadata": {},
   "outputs": [],
   "source": [
    "print(42 + 5.0 * 3 + 22 // 4 + 11 % 3)\n"
   ]
  },
  {
   "cell_type": "code",
   "execution_count": null,
   "id": "fd6f16eb",
   "metadata": {},
   "outputs": [],
   "source": [
    "while True:\n",
    "  password = input()\n",
    "  if password == 'qwerty':\n",
    "    print(\"Ok password: \", password)\n",
    "    break\n",
    "    print(\"End\")\n",
    "  else:\n",
    "    print(\"Wrong password: \", password)"
   ]
  },
  {
   "cell_type": "code",
   "execution_count": null,
   "id": "d0673129",
   "metadata": {},
   "outputs": [],
   "source": [
    "x = 0\n",
    "for i in range(-2, 4, 2):\n",
    "  if 4 * i < 8:\n",
    "    x += 3\n",
    "else:\n",
    "  x += 2\n",
    "print(x)"
   ]
  },
  {
   "cell_type": "code",
   "execution_count": null,
   "id": "611d3e6a",
   "metadata": {},
   "outputs": [],
   "source": [
    "x = 'DataScience4U'\n",
    "for char in x:\n",
    "  if char == 't':\n",
    "    break\n",
    "  print(char)\n",
    "else:\n",
    "  print('Finished!')"
   ]
  },
  {
   "cell_type": "code",
   "execution_count": null,
   "id": "770e1c75",
   "metadata": {},
   "outputs": [],
   "source": [
    "x = ['Procoding', 42, 13.03, 'DataScience', '4U', 11.1]\n",
    "print(x[1:4])"
   ]
  },
  {
   "cell_type": "code",
   "execution_count": null,
   "id": "33a09e3b",
   "metadata": {},
   "outputs": [],
   "source": [
    "lst = [-1, -0.25, 0.5, 1.5]\n",
    " \n",
    "lst2 =  lst[0:5]\n",
    "print(lst2)\n"
   ]
  },
  {
   "cell_type": "code",
   "execution_count": null,
   "id": "04635db6",
   "metadata": {},
   "outputs": [],
   "source": [
    "lst = [-1, -0.25, 0.5, 1.5]\n",
    " \n",
    "lst2 =  lst[0:5]\n",
    "y = lst[lst[0]]\n",
    " \n",
    "print(lst2)\n",
    "print(y)"
   ]
  },
  {
   "cell_type": "code",
   "execution_count": null,
   "id": "c4e785f0",
   "metadata": {},
   "outputs": [],
   "source": [
    "data = {'center': 'Procoding', 'age': 5}\n",
    "school = data.copy()\n",
    "\n",
    "print(id(data))\n",
    "print(id(school))\n",
    "\n",
    "# print(id(data) == id(school))"
   ]
  },
  {
   "cell_type": "code",
   "execution_count": null,
   "id": "591faa7d",
   "metadata": {},
   "outputs": [],
   "source": [
    "a = 1 + 2 * 3 // 4\n",
    "if a < 2: \n",
    "  print('*')\n",
    "elif a < 0 :\n",
    "  print('**')\n",
    "else:\n",
    "  print('***')"
   ]
  },
  {
   "cell_type": "code",
   "execution_count": null,
   "id": "bcb11601",
   "metadata": {},
   "outputs": [],
   "source": [
    "def f1():\n",
    "  c=30,\n",
    "  d=20,\n",
    "  return c, d\n",
    "  \n",
    "a,b=f1()\n",
    " \n",
    "print(a,b)"
   ]
  },
  {
   "cell_type": "code",
   "execution_count": null,
   "id": "147768ed",
   "metadata": {},
   "outputs": [],
   "source": [
    "print(\"Pro\", \"Coding\", sep=\"-\", end=\"\")"
   ]
  },
  {
   "cell_type": "code",
   "execution_count": null,
   "id": "7454cfa1",
   "metadata": {},
   "outputs": [],
   "source": [
    "x = [1, 2, 3]\n",
    "y = x\n",
    "x[0] = 42\n",
    "print(y)"
   ]
  },
  {
   "cell_type": "code",
   "execution_count": null,
   "id": "fc0228d8",
   "metadata": {},
   "outputs": [],
   "source": [
    "lst = ['Ana', 1, 4, 2, (6, 5), False]\n",
    "del lst[:-3]\n",
    " \n",
    "print(lst)"
   ]
  },
  {
   "cell_type": "code",
   "execution_count": null,
   "id": "f2982df1",
   "metadata": {},
   "outputs": [],
   "source": [
    "d={\"one\":\"two\", \"two\":\"None\"}\n",
    "key=\"one\"\n",
    "key=d[key]\n",
    "key=d[key]\n",
    "print(key)"
   ]
  },
  {
   "cell_type": "code",
   "execution_count": null,
   "id": "4a48e296",
   "metadata": {},
   "outputs": [],
   "source": [
    "def f(x):\n",
    "  if x == 3:\n",
    "    return 0\n",
    "  else: return x * f(x-1)\n",
    " \n",
    "print(f(4))"
   ]
  },
  {
   "cell_type": "code",
   "execution_count": null,
   "id": "1a08e03e",
   "metadata": {},
   "outputs": [],
   "source": [
    "dict1 = {7: 'Java', 4: 'JavaScript', 3: 'Python', 1:\"C#\"}\n",
    " \n",
    "dict2 = dict1\n",
    "del dict1\n",
    " \n",
    "print(dict2)"
   ]
  },
  {
   "cell_type": "code",
   "execution_count": null,
   "id": "2f91016e",
   "metadata": {},
   "outputs": [],
   "source": [
    "i = 15\n",
    "j = 22"
   ]
  },
  {
   "cell_type": "code",
   "execution_count": null,
   "id": "56143971",
   "metadata": {},
   "outputs": [],
   "source": [
    "x = i & j \n",
    "print(x)"
   ]
  },
  {
   "cell_type": "code",
   "execution_count": null,
   "id": "9cd9920f",
   "metadata": {},
   "outputs": [],
   "source": [
    "i = 15\n",
    "j = 22\n",
    "x = i & j\n",
    "print(x)"
   ]
  },
  {
   "cell_type": "code",
   "execution_count": null,
   "id": "5705e9d2",
   "metadata": {},
   "outputs": [],
   "source": [
    "i = 2\n",
    "print(i)\n",
    "x = not i\n",
    "print(x)"
   ]
  },
  {
   "cell_type": "code",
   "execution_count": null,
   "id": "ed62a350",
   "metadata": {},
   "outputs": [],
   "source": [
    "i = 15\n",
    "x = ~ i\n",
    "print(x)"
   ]
  },
  {
   "cell_type": "code",
   "execution_count": null,
   "id": "423ee57c",
   "metadata": {},
   "outputs": [],
   "source": [
    "x = 1\n",
    "print(x)\n",
    "y =  x << 2\n",
    "print(y)"
   ]
  },
  {
   "cell_type": "code",
   "execution_count": null,
   "id": "fc07b4d2",
   "metadata": {},
   "outputs": [],
   "source": [
    "# Define a list\n",
    "my_list = [10, 20, 30, 40, 50]\n",
    "\n",
    "# Use an expression as the index to access an element\n",
    "index = 2 + 1  # An expression (2 + 1) is used as the index\n",
    "element = my_list[index]\n",
    "\n",
    "print(element)\n"
   ]
  },
  {
   "cell_type": "code",
   "execution_count": null,
   "id": "7de0ac99",
   "metadata": {},
   "outputs": [],
   "source": [
    "mylist = [2,3,4,5,6,7]\n",
    "print(mylist)"
   ]
  },
  {
   "cell_type": "code",
   "execution_count": null,
   "id": "ae1d82cb",
   "metadata": {},
   "outputs": [],
   "source": [
    "mylist.insert(2,2222)"
   ]
  },
  {
   "cell_type": "code",
   "execution_count": null,
   "id": "ffd37e73",
   "metadata": {},
   "outputs": [],
   "source": [
    "print(mylist)"
   ]
  },
  {
   "cell_type": "code",
   "execution_count": null,
   "id": "fc362a7e",
   "metadata": {},
   "outputs": [],
   "source": [
    "mylist = [11,22,33,44]\n",
    "for i in range(4):\n",
    "    print(mylist[i])\n",
    "    \n",
    "    \n",
    "mylist.append(55)\n",
    "\n",
    "for i in range(4):\n",
    "    print(mylist[i])"
   ]
  },
  {
   "cell_type": "code",
   "execution_count": null,
   "id": "f9e066ab",
   "metadata": {},
   "outputs": [],
   "source": [
    "mylist = [11,22,33,44]\n",
    "for i in range(4):\n",
    "    print(mylist[i])"
   ]
  },
  {
   "cell_type": "code",
   "execution_count": null,
   "id": "7e5f17c4",
   "metadata": {},
   "outputs": [],
   "source": [
    "mylist.append(55)"
   ]
  },
  {
   "cell_type": "code",
   "execution_count": null,
   "id": "664cafe6",
   "metadata": {},
   "outputs": [],
   "source": [
    "print(mylist)"
   ]
  },
  {
   "cell_type": "code",
   "execution_count": null,
   "id": "187d35fd",
   "metadata": {},
   "outputs": [],
   "source": [
    "for i in mylist:\n",
    "    print(mylist[i])"
   ]
  },
  {
   "cell_type": "code",
   "execution_count": null,
   "id": "78a0d16a",
   "metadata": {},
   "outputs": [],
   "source": [
    "mylist = [11,22,33,44]\n",
    "\n",
    "    \n",
    "mylist.append(55)\n",
    "\n",
    "for i in mylist:\n",
    "    print(i)"
   ]
  },
  {
   "cell_type": "code",
   "execution_count": null,
   "id": "f303d617",
   "metadata": {},
   "outputs": [],
   "source": [
    "def f(x):\n",
    "  if x % 2 == 0:\n",
    "    return 1\n",
    "  else:\n",
    "    return\n",
    " \n",
    "print(f(f(2)) + 11)"
   ]
  },
  {
   "cell_type": "code",
   "execution_count": null,
   "id": "1502a1bc",
   "metadata": {},
   "outputs": [],
   "source": [
    "def f(x):\n",
    "  if x % 2 == 0:\n",
    "    return 1\n",
    "  else:\n",
    "    return\n",
    "\n",
    "print(f(1) + 11)"
   ]
  },
  {
   "cell_type": "code",
   "execution_count": null,
   "id": "2c705bdd",
   "metadata": {},
   "outputs": [],
   "source": [
    "x = 15\n",
    "def test(): \n",
    "  x -= 4.0        \n",
    " \n",
    "print(test())"
   ]
  },
  {
   "cell_type": "code",
   "execution_count": null,
   "id": "6243a217",
   "metadata": {},
   "outputs": [],
   "source": [
    "mylist = [2,3,9,1,2,7,8,1111]\n",
    "print(mylist)\n",
    "mylist.sort()\n",
    "print(mylist)"
   ]
  },
  {
   "cell_type": "code",
   "execution_count": null,
   "id": "f5ad020a",
   "metadata": {},
   "outputs": [],
   "source": [
    "x = 2\n",
    "y = x #I assigned x to y\n",
    "x = 3 #I updated the x, but y will not change\n",
    "print(f'x = {x}')\n",
    "print(f'y = {y}')"
   ]
  },
  {
   "cell_type": "code",
   "execution_count": null,
   "id": "708a839b",
   "metadata": {},
   "outputs": [],
   "source": [
    "x = [1,2] #x is a list\n",
    "y = x #I assigned x to y --> x and y are both lists\n",
    "x[0], x[1] = 3, 4 #y will be updated as well \n",
    "print(f'y after updating x = {y}')"
   ]
  },
  {
   "cell_type": "code",
   "execution_count": null,
   "id": "c01dc00c",
   "metadata": {},
   "outputs": [],
   "source": [
    "#Slicing \n",
    "x = [1,2,3,4,5]\n",
    "y = x[0:-2]\n",
    "print(y)"
   ]
  },
  {
   "cell_type": "code",
   "execution_count": null,
   "id": "387128b1",
   "metadata": {},
   "outputs": [],
   "source": [
    "y = x[1:]\n",
    "print(y)"
   ]
  },
  {
   "cell_type": "code",
   "execution_count": null,
   "id": "8cd536ad",
   "metadata": {},
   "outputs": [],
   "source": [
    "my_list = [0, 3, 12, 8, 2]\n",
    "\n",
    "print(5 in my_list)"
   ]
  },
  {
   "cell_type": "code",
   "execution_count": null,
   "id": "e0970c81",
   "metadata": {},
   "outputs": [],
   "source": [
    "my_list = [1, 2, 3, 4, 5, 6, 7, 8, 9, 10]\n",
    "to_find = 5\n",
    "found = False\n",
    "\n",
    "for i in range(len(my_list)):\n",
    "    found = my_list[i] == to_find\n",
    "    if found:\n",
    "        break\n",
    "\n",
    "if found:\n",
    "    print(\"Element found at index\", i)\n",
    "else:\n",
    "    print(\"absent\")"
   ]
  },
  {
   "cell_type": "code",
   "execution_count": null,
   "id": "c79a1c95",
   "metadata": {},
   "outputs": [],
   "source": [
    "row = [WHITE_PAWN for i in range(8)]"
   ]
  },
  {
   "cell_type": "code",
   "execution_count": null,
   "id": "97a1286d",
   "metadata": {},
   "outputs": [],
   "source": [
    "squares = [x ** 2 for x in range(10)]\n",
    "\n",
    "print(squares)\n"
   ]
  },
  {
   "cell_type": "code",
   "execution_count": null,
   "id": "87168c02",
   "metadata": {},
   "outputs": [],
   "source": [
    "mylist = [i * 2 for i in range(5)]\n",
    "print(mylist)"
   ]
  },
  {
   "cell_type": "code",
   "execution_count": null,
   "id": "ee7ed5ba",
   "metadata": {},
   "outputs": [],
   "source": [
    "mylist = [ for i in range(5)]\n",
    "print(mylist)"
   ]
  },
  {
   "cell_type": "code",
   "execution_count": null,
   "id": "5441c14b",
   "metadata": {},
   "outputs": [],
   "source": [
    "x = []\n",
    "\n",
    "\n",
    "for j in range(5):\n",
    "    y = [i * 2 for i in range(6)]\n",
    "    x.append(y)\n",
    "\n",
    "\n",
    "\n",
    "print(x)\n"
   ]
  },
  {
   "cell_type": "code",
   "execution_count": null,
   "id": "b328df3c",
   "metadata": {},
   "outputs": [],
   "source": [
    "y = [ [i * 2 for i in range(5)] for j in range(3)]\n",
    "print(y)"
   ]
  },
  {
   "cell_type": "code",
   "execution_count": null,
   "id": "b08d9770",
   "metadata": {},
   "outputs": [],
   "source": [
    "rooms = [[[False for r in range(4)] for f in range(3)] for t in range(2)]\n",
    "print(rooms)"
   ]
  },
  {
   "cell_type": "code",
   "execution_count": null,
   "id": "73c0a298",
   "metadata": {},
   "outputs": [],
   "source": [
    "print(\"\\\")\n"
   ]
  },
  {
   "cell_type": "code",
   "execution_count": null,
   "id": "b8f1f956",
   "metadata": {},
   "outputs": [],
   "source": [
    "print(\"\\\\\")"
   ]
  },
  {
   "cell_type": "code",
   "execution_count": null,
   "id": "563f24f6",
   "metadata": {},
   "outputs": [],
   "source": [
    "print(\"Hello\", \"Azarm\", end = \"NO\")"
   ]
  },
  {
   "cell_type": "code",
   "execution_count": null,
   "id": "1440e1cc",
   "metadata": {},
   "outputs": [],
   "source": [
    "print(\"Heloooooooooo\", \"safd\", end=\"sjhdf\", sep = \"????\")"
   ]
  },
  {
   "cell_type": "code",
   "execution_count": null,
   "id": "bacb0d5d",
   "metadata": {
    "scrolled": true
   },
   "outputs": [],
   "source": [
    "x = 10_0\n",
    "y = x / 2\n",
    "print(y)"
   ]
  },
  {
   "cell_type": "code",
   "execution_count": null,
   "id": "927b0b63",
   "metadata": {},
   "outputs": [],
   "source": [
    "x = 4//3\n",
    "print(x)"
   ]
  },
  {
   "cell_type": "code",
   "execution_count": null,
   "id": "9761596c",
   "metadata": {},
   "outputs": [],
   "source": [
    "x = input(\"Plz write your name:\")"
   ]
  },
  {
   "cell_type": "code",
   "execution_count": null,
   "id": "d7ae9d6a",
   "metadata": {},
   "outputs": [],
   "source": [
    "print(x)"
   ]
  },
  {
   "cell_type": "code",
   "execution_count": null,
   "id": "ddf64fce",
   "metadata": {},
   "outputs": [],
   "source": [
    "y = int(x)"
   ]
  },
  {
   "cell_type": "code",
   "execution_count": null,
   "id": "fb33e4e0",
   "metadata": {},
   "outputs": [],
   "source": [
    "x = \"A\" * -1\n",
    "print(x)"
   ]
  },
  {
   "cell_type": "code",
   "execution_count": null,
   "id": "12096b0d",
   "metadata": {},
   "outputs": [],
   "source": [
    "def test(): \n",
    "  x -= 4.0        \n",
    " \n",
    "x = 15\n",
    "test(x)\n",
    " \n",
    "print(x)"
   ]
  },
  {
   "cell_type": "code",
   "execution_count": null,
   "id": "4675789d",
   "metadata": {},
   "outputs": [],
   "source": [
    "\n",
    "y = 3.23\n",
    "z = False\n",
    " \n",
    "\n",
    "print(y+z)"
   ]
  },
  {
   "cell_type": "code",
   "execution_count": null,
   "id": "18a0e7c2",
   "metadata": {},
   "outputs": [],
   "source": [
    "x = 5\n",
    "def f():\n",
    "  global x\n",
    "  x += 5\n",
    "  print(5 + x)\n",
    " \n",
    "print(x)\n",
    "f()\n",
    "print(x)"
   ]
  },
  {
   "cell_type": "code",
   "execution_count": null,
   "id": "d1f000c0",
   "metadata": {},
   "outputs": [],
   "source": [
    "x = (9, 20,1,1,1,1,1)\n",
    "y =  (8, 13)\n",
    "print (x > y)"
   ]
  },
  {
   "cell_type": "code",
   "execution_count": null,
   "id": "f9f34d98",
   "metadata": {},
   "outputs": [],
   "source": [
    "def test(a, b):\n",
    "  a = 1\n",
    "  b[0] = 42\n",
    " \n",
    "x = 13\n",
    "y = [10, 20, 30]\n",
    " \n",
    "test(x, y)\n",
    " \n",
    "print(x, y[0])"
   ]
  },
  {
   "cell_type": "code",
   "execution_count": null,
   "id": "f1295791",
   "metadata": {},
   "outputs": [],
   "source": [
    "i = 9\n",
    "while i > 0:\n",
    "  i -= 3\n",
    "  print('*')\n",
    "  if i == 3:\n",
    "    break\n",
    "  else:\n",
    "    print('*')"
   ]
  },
  {
   "cell_type": "code",
   "execution_count": null,
   "id": "f500e3ae",
   "metadata": {},
   "outputs": [],
   "source": [
    "x = (1, 2)\n",
    "y = ('x', 'y', 42)\n",
    "z = x + y * 2\n",
    "print(z)"
   ]
  },
  {
   "cell_type": "code",
   "execution_count": null,
   "id": "564ccf05",
   "metadata": {},
   "outputs": [],
   "source": [
    "try:\n",
    "  print(42/0)\n",
    "      continue \n",
    "except (ZeroDivisionError):\n",
    "  print(\"Zero division\")\n",
    "except: \n",
    "  print(\"You made a mistake\")\n",
    "except (ValueError):\n",
    "  print(\"Boo!\")"
   ]
  },
  {
   "cell_type": "code",
   "execution_count": null,
   "id": "81e9e7c8",
   "metadata": {},
   "outputs": [],
   "source": [
    "if True == True:\n",
    "  if False == 0:\n",
    "    print('a', end=\"\")\n",
    "  else:\n",
    "    print('aa', end=\"\")\n",
    "  print('aaa', end=\"\")\n",
    "  if True < False:\n",
    "    print('aaaa', end=\"\")\n",
    "  else:\n",
    "    print('aaaaa', end=\"\")\n",
    "    "
   ]
  },
  {
   "cell_type": "code",
   "execution_count": null,
   "id": "711fa329",
   "metadata": {},
   "outputs": [],
   "source": [
    "def f(x):\n",
    "    x[0] = 42\n",
    " \n",
    "x = [1, 2, 3, 4]\n",
    "f(x)\n",
    "print(x)"
   ]
  },
  {
   "cell_type": "code",
   "execution_count": null,
   "id": "48a875bb",
   "metadata": {},
   "outputs": [],
   "source": [
    "d = {}\n",
    "d[1] = 7\n",
    "d['1'] = 8\n",
    "d[1] -= 4\n",
    "\n",
    "print(d)\n",
    "# d = { 1:3 , \"1\":8}\n",
    "\n",
    "s = 0\n",
    " \n",
    "for i in d:\n",
    "  s += d[i]\n",
    " \n",
    "print(s)"
   ]
  },
  {
   "cell_type": "code",
   "execution_count": null,
   "id": "3a6b6daa",
   "metadata": {},
   "outputs": [],
   "source": [
    "print(d)"
   ]
  },
  {
   "cell_type": "code",
   "execution_count": null,
   "id": "a6e7708b",
   "metadata": {},
   "outputs": [],
   "source": [
    "a = 'DataScience4U'\n",
    "i = 7\n",
    "while i < len(a):\n",
    "  i += 2\n",
    "print(i+1)"
   ]
  },
  {
   "cell_type": "code",
   "execution_count": 1,
   "id": "f79c7276",
   "metadata": {},
   "outputs": [],
   "source": [
    "while 13 < 13:\n",
    "    print(\"True\")"
   ]
  },
  {
   "cell_type": "code",
   "execution_count": 2,
   "id": "1dab22b7",
   "metadata": {},
   "outputs": [
    {
     "name": "stdout",
     "output_type": "stream",
     "text": [
      "Enter value for x: 2\n",
      "Enter value for y: 4\n",
      "42\n"
     ]
    }
   ],
   "source": [
    "x=input(\"Enter value for x: \")\n",
    "y=input(\"Enter value for y: \")\n",
    "print(y+x)"
   ]
  },
  {
   "cell_type": "code",
   "execution_count": 4,
   "id": "c0c21e4a",
   "metadata": {},
   "outputs": [
    {
     "name": "stdout",
     "output_type": "stream",
     "text": [
      "[2, 3, 4]\n"
     ]
    }
   ],
   "source": [
    "data = [1, 2, 3, 4, 5]\n",
    " \n",
    "def test(x):\n",
    "  del x[0]\n",
    "  x.pop()\n",
    " \n",
    "test(data)\n",
    "print(data) "
   ]
  },
  {
   "cell_type": "code",
   "execution_count": 5,
   "id": "6b950b63",
   "metadata": {},
   "outputs": [
    {
     "name": "stdout",
     "output_type": "stream",
     "text": [
      "[2, 3, 5]\n"
     ]
    }
   ],
   "source": [
    "data = [1, 2, 3, 4, 5]\n",
    " \n",
    "def test(x):\n",
    "  del x[0]\n",
    "  x.pop(2)\n",
    " \n",
    "test(data)\n",
    "print(data)"
   ]
  },
  {
   "cell_type": "code",
   "execution_count": 7,
   "id": "f6ad7cb2",
   "metadata": {},
   "outputs": [
    {
     "name": "stdout",
     "output_type": "stream",
     "text": [
      "9\n"
     ]
    }
   ],
   "source": [
    "points = [65, 75, 90, 80, 80, 100, 100]\n",
    "avg = sum(points) // len(points)\n",
    "if 91 <= avg <= 100:\n",
    "  grade = 10\n",
    "elif 81 <= avg < 90:\n",
    "  grade = 9\n",
    "elif 71 <= avg < 80:\n",
    "  grade = 8\n",
    "elif 61 <= avg < 70:\n",
    "  grade = 7\n",
    "elif 51 <= avg < 60:\n",
    "  grade = 6\n",
    "else:\n",
    "  grade = 5\n",
    "\n",
    "\n",
    "print(grade)"
   ]
  },
  {
   "cell_type": "code",
   "execution_count": 8,
   "id": "830a6574",
   "metadata": {},
   "outputs": [
    {
     "ename": "TypeError",
     "evalue": "f() takes 0 positional arguments but 1 was given",
     "output_type": "error",
     "traceback": [
      "\u001b[1;31m---------------------------------------------------------------------------\u001b[0m",
      "\u001b[1;31mTypeError\u001b[0m                                 Traceback (most recent call last)",
      "\u001b[1;32m~\\AppData\\Local\\Temp/ipykernel_2136/2141648087.py\u001b[0m in \u001b[0;36m<module>\u001b[1;34m\u001b[0m\n\u001b[0;32m      3\u001b[0m   \u001b[0my\u001b[0m\u001b[1;33m=\u001b[0m\u001b[1;36m3\u001b[0m\u001b[1;33m\u001b[0m\u001b[1;33m\u001b[0m\u001b[0m\n\u001b[0;32m      4\u001b[0m   \u001b[1;32mreturn\u001b[0m \u001b[0mx\u001b[0m\u001b[1;33m+\u001b[0m\u001b[0my\u001b[0m\u001b[1;33m\u001b[0m\u001b[1;33m\u001b[0m\u001b[0m\n\u001b[1;32m----> 5\u001b[1;33m \u001b[0mx\u001b[0m \u001b[1;33m=\u001b[0m \u001b[0mf\u001b[0m\u001b[1;33m(\u001b[0m\u001b[1;36m5\u001b[0m\u001b[1;33m)\u001b[0m\u001b[1;33m\u001b[0m\u001b[1;33m\u001b[0m\u001b[0m\n\u001b[0m\u001b[0;32m      6\u001b[0m \u001b[0mprint\u001b[0m\u001b[1;33m(\u001b[0m\u001b[0mx\u001b[0m\u001b[1;33m)\u001b[0m\u001b[1;33m\u001b[0m\u001b[1;33m\u001b[0m\u001b[0m\n",
      "\u001b[1;31mTypeError\u001b[0m: f() takes 0 positional arguments but 1 was given"
     ]
    }
   ],
   "source": [
    "def f():\n",
    "  x=2\n",
    "  y=3\n",
    "  return x+y\n",
    "x = f(5)\n",
    "print(x)"
   ]
  },
  {
   "cell_type": "code",
   "execution_count": 9,
   "id": "1bc8da9c",
   "metadata": {},
   "outputs": [
    {
     "name": "stdout",
     "output_type": "stream",
     "text": [
      "D a i c U "
     ]
    }
   ],
   "source": [
    "def f(data):\n",
    "  for d in data[::3]:\n",
    "    yield d\n",
    " \n",
    "for x in f('DataScience4U'):\n",
    "  print(x, end=' ')"
   ]
  },
  {
   "cell_type": "code",
   "execution_count": 10,
   "id": "eb1e2731",
   "metadata": {},
   "outputs": [
    {
     "name": "stdout",
     "output_type": "stream",
     "text": [
      "No\n"
     ]
    }
   ],
   "source": [
    "x = 42\n",
    "if (x<13): print(\"Yes\")\n",
    "else: print(\"No\")"
   ]
  },
  {
   "cell_type": "code",
   "execution_count": 11,
   "id": "328cc093",
   "metadata": {},
   "outputs": [
    {
     "ename": "ZeroDivisionError",
     "evalue": "integer division or modulo by zero",
     "output_type": "error",
     "traceback": [
      "\u001b[1;31m---------------------------------------------------------------------------\u001b[0m",
      "\u001b[1;31mZeroDivisionError\u001b[0m                         Traceback (most recent call last)",
      "\u001b[1;32m~\\AppData\\Local\\Temp/ipykernel_2136/3584047291.py\u001b[0m in \u001b[0;36m<module>\u001b[1;34m\u001b[0m\n\u001b[0;32m      2\u001b[0m \u001b[0my\u001b[0m \u001b[1;33m=\u001b[0m \u001b[1;36m3\u001b[0m\u001b[1;33m\u001b[0m\u001b[1;33m\u001b[0m\u001b[0m\n\u001b[0;32m      3\u001b[0m \u001b[0mx\u001b[0m \u001b[1;33m+=\u001b[0m \u001b[1;36m2\u001b[0m \u001b[1;33m**\u001b[0m \u001b[1;36m3\u001b[0m\u001b[1;33m\u001b[0m\u001b[1;33m\u001b[0m\u001b[0m\n\u001b[1;32m----> 4\u001b[1;33m \u001b[0mx\u001b[0m \u001b[1;33m//=\u001b[0m \u001b[0my\u001b[0m \u001b[1;33m//\u001b[0m \u001b[1;36m2\u001b[0m \u001b[1;33m//\u001b[0m \u001b[1;36m3\u001b[0m\u001b[1;33m\u001b[0m\u001b[1;33m\u001b[0m\u001b[0m\n\u001b[0m\u001b[0;32m      5\u001b[0m \u001b[0mprint\u001b[0m\u001b[1;33m(\u001b[0m\u001b[0mx\u001b[0m\u001b[1;33m)\u001b[0m\u001b[1;33m\u001b[0m\u001b[1;33m\u001b[0m\u001b[0m\n",
      "\u001b[1;31mZeroDivisionError\u001b[0m: integer division or modulo by zero"
     ]
    }
   ],
   "source": [
    "x = 12\n",
    "y = 3\n",
    "x += 2 ** 3\n",
    "x //= y // 2 // 3\n",
    "print(x)"
   ]
  },
  {
   "cell_type": "code",
   "execution_count": 16,
   "id": "e8c6428c",
   "metadata": {},
   "outputs": [
    {
     "name": "stdout",
     "output_type": "stream",
     "text": [
      "0.022222222222222223\n"
     ]
    }
   ],
   "source": [
    "x = 60\n",
    "y = 30\n",
    "\n",
    "z = x / y /90\n",
    "print(z)"
   ]
  },
  {
   "cell_type": "code",
   "execution_count": 17,
   "id": "2f135377",
   "metadata": {},
   "outputs": [
    {
     "name": "stdout",
     "output_type": "stream",
     "text": [
      "10\n"
     ]
    }
   ],
   "source": [
    "def f():\n",
    "  return 3\n",
    " \n",
    "def g(x):\n",
    "  return f() + x\n",
    " \n",
    "print(g(7))"
   ]
  },
  {
   "cell_type": "code",
   "execution_count": 19,
   "id": "cecb10be",
   "metadata": {},
   "outputs": [
    {
     "name": "stdout",
     "output_type": "stream",
     "text": [
      "Enter x: sdf\n"
     ]
    },
    {
     "ename": "TypeError",
     "evalue": "unsupported operand type(s) for /: 'int' and 'str'",
     "output_type": "error",
     "traceback": [
      "\u001b[1;31m---------------------------------------------------------------------------\u001b[0m",
      "\u001b[1;31mTypeError\u001b[0m                                 Traceback (most recent call last)",
      "\u001b[1;32m~\\AppData\\Local\\Temp/ipykernel_2136/561761951.py\u001b[0m in \u001b[0;36m<module>\u001b[1;34m\u001b[0m\n\u001b[0;32m      1\u001b[0m \u001b[0mx\u001b[0m \u001b[1;33m=\u001b[0m \u001b[0minput\u001b[0m\u001b[1;33m(\u001b[0m\u001b[1;34m\"Enter x: \"\u001b[0m\u001b[1;33m)\u001b[0m\u001b[1;33m\u001b[0m\u001b[1;33m\u001b[0m\u001b[0m\n\u001b[1;32m----> 2\u001b[1;33m \u001b[0mprint\u001b[0m\u001b[1;33m(\u001b[0m\u001b[1;36m10\u001b[0m\u001b[1;33m/\u001b[0m\u001b[0mx\u001b[0m\u001b[1;33m)\u001b[0m\u001b[1;33m\u001b[0m\u001b[1;33m\u001b[0m\u001b[0m\n\u001b[0m",
      "\u001b[1;31mTypeError\u001b[0m: unsupported operand type(s) for /: 'int' and 'str'"
     ]
    }
   ],
   "source": [
    "x = input(\"Enter x: \")\n",
    "print(10/x)"
   ]
  },
  {
   "cell_type": "code",
   "execution_count": 20,
   "id": "2de3c851",
   "metadata": {},
   "outputs": [
    {
     "name": "stdout",
     "output_type": "stream",
     "text": [
      "Original list: [1, 2, 3, 4, 5]\n",
      "Result: [5, 4, 3, 2, 1]\n"
     ]
    }
   ],
   "source": [
    "def mystery_function(lst):\n",
    "    if len(lst) == 0:\n",
    "        return []\n",
    "    if len(lst) == 1:\n",
    "        return lst\n",
    "    return mystery_function(lst[1:]) + [lst[0]]\n",
    " \n",
    "original_list = [1, 2, 3, 4, 5]\n",
    "result = mystery_function(original_list)\n",
    "print(\"Original list:\", original_list)\n",
    "print(\"Result:\", result)"
   ]
  },
  {
   "cell_type": "code",
   "execution_count": 22,
   "id": "421d3c5f",
   "metadata": {},
   "outputs": [
    {
     "name": "stdout",
     "output_type": "stream",
     "text": [
      "<class 'tuple'>\n",
      "('1', '2', '3', '4')\n"
     ]
    }
   ],
   "source": [
    "x = '1', '2'\n",
    "print(type(x))\n",
    "y = ('3', '4')\n",
    "print(x + y)"
   ]
  },
  {
   "cell_type": "code",
   "execution_count": 23,
   "id": "a09333d1",
   "metadata": {},
   "outputs": [
    {
     "name": "stdout",
     "output_type": "stream",
     "text": [
      "Year is less than 2023\n"
     ]
    }
   ],
   "source": [
    "year = 2000\n",
    "print(\"Year is less than 2023\") if year<2023 else print(\"Bye bye\")"
   ]
  },
  {
   "cell_type": "code",
   "execution_count": 1,
   "id": "0c05dca5",
   "metadata": {},
   "outputs": [
    {
     "name": "stdout",
     "output_type": "stream",
     "text": [
      "[1, 2, 3, 4]\n"
     ]
    }
   ],
   "source": [
    "mylist = [1,2,3,4]\n",
    "print(mylist)"
   ]
  },
  {
   "cell_type": "code",
   "execution_count": 7,
   "id": "14d2a1bb",
   "metadata": {},
   "outputs": [
    {
     "name": "stdout",
     "output_type": "stream",
     "text": [
      "[8, 9, 9, 9, 9, 1, 2, 3, 4]\n"
     ]
    }
   ],
   "source": [
    "mylist.insert(0,8)\n",
    "print(mylist)"
   ]
  },
  {
   "cell_type": "code",
   "execution_count": 17,
   "id": "1f15d5fd",
   "metadata": {},
   "outputs": [
    {
     "data": {
      "text/plain": [
       "[0, 1, 2, 3, 4]"
      ]
     },
     "execution_count": 17,
     "metadata": {},
     "output_type": "execute_result"
    }
   ],
   "source": [
    "def fun1(n):\n",
    "    list = []\n",
    "    for i in range(0,n):\n",
    "        list.insert(n,i)\n",
    "    return list\n",
    "    \n",
    "fun1(5)"
   ]
  },
  {
   "cell_type": "code",
   "execution_count": 19,
   "id": "0fcf5984",
   "metadata": {},
   "outputs": [
    {
     "ename": "TypeError",
     "evalue": "append() takes exactly one argument (2 given)",
     "output_type": "error",
     "traceback": [
      "\u001b[1;31m---------------------------------------------------------------------------\u001b[0m",
      "\u001b[1;31mTypeError\u001b[0m                                 Traceback (most recent call last)",
      "\u001b[1;32m~\\AppData\\Local\\Temp/ipykernel_5184/3989995234.py\u001b[0m in \u001b[0;36m<module>\u001b[1;34m\u001b[0m\n\u001b[1;32m----> 1\u001b[1;33m \u001b[0mmylist\u001b[0m\u001b[1;33m.\u001b[0m\u001b[0mappend\u001b[0m\u001b[1;33m(\u001b[0m\u001b[1;36m2\u001b[0m\u001b[1;33m,\u001b[0m\u001b[1;36m99\u001b[0m\u001b[1;33m)\u001b[0m\u001b[1;33m\u001b[0m\u001b[1;33m\u001b[0m\u001b[0m\n\u001b[0m\u001b[0;32m      2\u001b[0m \u001b[0mprint\u001b[0m\u001b[1;33m(\u001b[0m\u001b[0mmylist\u001b[0m\u001b[1;33m)\u001b[0m\u001b[1;33m\u001b[0m\u001b[1;33m\u001b[0m\u001b[0m\n",
      "\u001b[1;31mTypeError\u001b[0m: append() takes exactly one argument (2 given)"
     ]
    }
   ],
   "source": [
    "mylist.append(99)\n",
    "print(mylist)"
   ]
  },
  {
   "cell_type": "code",
   "execution_count": 20,
   "id": "e9e3f471",
   "metadata": {},
   "outputs": [
    {
     "name": "stdout",
     "output_type": "stream",
     "text": [
      "[8, 9, 9, 9, 9, 1, 2, 3, 4, 99]\n"
     ]
    }
   ],
   "source": [
    "print(mylist)"
   ]
  },
  {
   "cell_type": "code",
   "execution_count": 22,
   "id": "fa113fe3",
   "metadata": {},
   "outputs": [
    {
     "name": "stdout",
     "output_type": "stream",
     "text": [
      "8\n",
      "9\n",
      "9\n",
      "9\n",
      "9\n",
      "1\n",
      "2\n",
      "3\n",
      "4\n",
      "99\n"
     ]
    }
   ],
   "source": [
    "for i in mylist:\n",
    "    print(i)"
   ]
  },
  {
   "cell_type": "code",
   "execution_count": 25,
   "id": "f2eb40ea",
   "metadata": {},
   "outputs": [
    {
     "name": "stdout",
     "output_type": "stream",
     "text": [
      "8\n",
      "9\n",
      "9\n",
      "9\n",
      "9\n",
      "1\n",
      "2\n",
      "3\n",
      "4\n"
     ]
    }
   ],
   "source": [
    "for i in range(0,9):\n",
    "    print(mylist[i])"
   ]
  },
  {
   "cell_type": "code",
   "execution_count": null,
   "id": "bf806794",
   "metadata": {},
   "outputs": [],
   "source": [
    "for i in list2:\n",
    "    print(i)"
   ]
  },
  {
   "cell_type": "code",
   "execution_count": 30,
   "id": "bba5b420",
   "metadata": {},
   "outputs": [
    {
     "name": "stdout",
     "output_type": "stream",
     "text": [
      "[11, 22, 33, 44]\n"
     ]
    }
   ],
   "source": [
    "mylist = [11,22,33,44]\n",
    "print(mylist2)"
   ]
  },
  {
   "cell_type": "code",
   "execution_count": 31,
   "id": "4ebe10f0",
   "metadata": {},
   "outputs": [
    {
     "name": "stdout",
     "output_type": "stream",
     "text": [
      "11\n",
      "22\n",
      "33\n",
      "44\n"
     ]
    }
   ],
   "source": [
    "for i in mylist:\n",
    "    print(i)"
   ]
  },
  {
   "cell_type": "code",
   "execution_count": 32,
   "id": "a1cdf048",
   "metadata": {},
   "outputs": [
    {
     "ename": "IndexError",
     "evalue": "list index out of range",
     "output_type": "error",
     "traceback": [
      "\u001b[1;31m---------------------------------------------------------------------------\u001b[0m",
      "\u001b[1;31mIndexError\u001b[0m                                Traceback (most recent call last)",
      "\u001b[1;32m~\\AppData\\Local\\Temp/ipykernel_5184/1926377692.py\u001b[0m in \u001b[0;36m<module>\u001b[1;34m\u001b[0m\n\u001b[0;32m      1\u001b[0m \u001b[1;32mfor\u001b[0m \u001b[0mi\u001b[0m \u001b[1;32min\u001b[0m \u001b[0mmylist\u001b[0m\u001b[1;33m:\u001b[0m\u001b[1;33m\u001b[0m\u001b[1;33m\u001b[0m\u001b[0m\n\u001b[1;32m----> 2\u001b[1;33m     \u001b[0mprint\u001b[0m\u001b[1;33m(\u001b[0m\u001b[0mmylist\u001b[0m\u001b[1;33m[\u001b[0m\u001b[0mi\u001b[0m\u001b[1;33m]\u001b[0m\u001b[1;33m)\u001b[0m\u001b[1;33m\u001b[0m\u001b[1;33m\u001b[0m\u001b[0m\n\u001b[0m",
      "\u001b[1;31mIndexError\u001b[0m: list index out of range"
     ]
    }
   ],
   "source": [
    "for i in mylist:\n",
    "    print(mylist[i])"
   ]
  },
  {
   "cell_type": "code",
   "execution_count": 34,
   "id": "bf9007c1",
   "metadata": {},
   "outputs": [
    {
     "name": "stdout",
     "output_type": "stream",
     "text": [
      "11\n",
      "22\n",
      "33\n",
      "44\n"
     ]
    }
   ],
   "source": [
    "for i in range(0, 4):\n",
    "    print(mylist[i])"
   ]
  },
  {
   "cell_type": "code",
   "execution_count": 37,
   "id": "5370ad5c",
   "metadata": {},
   "outputs": [],
   "source": [
    "dictionary = {\n",
    "    \"First Name\" : \"Azarm\",\n",
    "    \"Last Name\" : \"Piran\", \n",
    "    \"Birthday\" : \"Feb-9\",\n",
    "    \"Age\" : \"30\"\n",
    "}"
   ]
  },
  {
   "cell_type": "code",
   "execution_count": 38,
   "id": "f0e35370",
   "metadata": {},
   "outputs": [
    {
     "name": "stdout",
     "output_type": "stream",
     "text": [
      "{'First Name': 'Azarm', 'Last Name': 'Piran', 'Birthday': 'Feb-9', 'Age': '30'}\n"
     ]
    }
   ],
   "source": [
    "print(dictionary)"
   ]
  },
  {
   "cell_type": "code",
   "execution_count": 40,
   "id": "bef95ebd",
   "metadata": {},
   "outputs": [
    {
     "name": "stdout",
     "output_type": "stream",
     "text": [
      "First Name\n",
      "Last Name\n",
      "Birthday\n",
      "Age\n"
     ]
    }
   ],
   "source": [
    "for i in dictionary.keys():\n",
    "    print(i)"
   ]
  },
  {
   "cell_type": "code",
   "execution_count": 41,
   "id": "a9670fc0",
   "metadata": {},
   "outputs": [
    {
     "name": "stdout",
     "output_type": "stream",
     "text": [
      "('First Name', 'Azarm')\n",
      "('Last Name', 'Piran')\n",
      "('Birthday', 'Feb-9')\n",
      "('Age', '30')\n"
     ]
    }
   ],
   "source": [
    "for i in dictionary.items():\n",
    "    print(i)"
   ]
  },
  {
   "cell_type": "code",
   "execution_count": 42,
   "id": "0bb66594",
   "metadata": {},
   "outputs": [
    {
     "name": "stdout",
     "output_type": "stream",
     "text": [
      "Azarm\n",
      "Piran\n",
      "Feb-9\n",
      "30\n"
     ]
    }
   ],
   "source": [
    "for i in dictionary.values():\n",
    "    print(i)"
   ]
  },
  {
   "cell_type": "code",
   "execution_count": 43,
   "id": "30b384c7",
   "metadata": {},
   "outputs": [
    {
     "name": "stdout",
     "output_type": "stream",
     "text": [
      "{'First Name': 'Azarm', 'Last Name': 'Piran', 'Birthday': 'Feb-9', 'Age': '30', 'From?': 'Iran'}\n"
     ]
    }
   ],
   "source": [
    "dictionary['From?'] = \"Iran\"\n",
    "print(dictionary)"
   ]
  },
  {
   "cell_type": "code",
   "execution_count": null,
   "id": "e274ca89",
   "metadata": {},
   "outputs": [],
   "source": [
    "dictionary.update"
   ]
  },
  {
   "cell_type": "code",
   "execution_count": 45,
   "id": "8a6648ff",
   "metadata": {},
   "outputs": [
    {
     "name": "stdout",
     "output_type": "stream",
     "text": [
      "Two\n"
     ]
    }
   ],
   "source": [
    "def fun(x):\n",
    "    if x == 2:\n",
    "        print(\"Two\")\n",
    "    elif x == 3:\n",
    "        print(\"Three\")\n",
    "    elif x == 4:\n",
    "        print(\"Four\")\n",
    "        \n",
    "        \n",
    "        \n",
    "fun(2)"
   ]
  },
  {
   "cell_type": "code",
   "execution_count": 46,
   "id": "dbf1ace7",
   "metadata": {},
   "outputs": [
    {
     "name": "stdout",
     "output_type": "stream",
     "text": [
      "10\n",
      "8\n",
      "6\n",
      "4\n",
      "2\n"
     ]
    }
   ],
   "source": [
    "\n",
    "for i in range(10,1,-2):\n",
    "    print(i)"
   ]
  },
  {
   "cell_type": "code",
   "execution_count": 54,
   "id": "187afe14",
   "metadata": {},
   "outputs": [
    {
     "name": "stdout",
     "output_type": "stream",
     "text": [
      "1\n"
     ]
    }
   ],
   "source": [
    "i = 9\n",
    "j = 1\n",
    "print( i & j )"
   ]
  },
  {
   "cell_type": "code",
   "execution_count": 55,
   "id": "ee077d47",
   "metadata": {},
   "outputs": [
    {
     "name": "stdout",
     "output_type": "stream",
     "text": [
      "1\n"
     ]
    }
   ],
   "source": [
    "x = 1\n",
    "print(x)\n",
    "# 001"
   ]
  },
  {
   "cell_type": "code",
   "execution_count": 59,
   "id": "18576653",
   "metadata": {},
   "outputs": [
    {
     "name": "stdout",
     "output_type": "stream",
     "text": [
      "4\n"
     ]
    }
   ],
   "source": [
    "y = x << 2\n",
    "print(y)"
   ]
  },
  {
   "cell_type": "code",
   "execution_count": 60,
   "id": "645af352",
   "metadata": {},
   "outputs": [
    {
     "name": "stdout",
     "output_type": "stream",
     "text": [
      "[9, 7, 10, 12, 19]\n"
     ]
    }
   ],
   "source": [
    "x1 = [9,7,10, 12,19]\n",
    "print(x1)"
   ]
  },
  {
   "cell_type": "code",
   "execution_count": 63,
   "id": "7efd274c",
   "metadata": {},
   "outputs": [
    {
     "name": "stdout",
     "output_type": "stream",
     "text": [
      "[7, 9, 10, 12, 19]\n"
     ]
    }
   ],
   "source": [
    "x2=x1.sort()\n",
    "print(x1)"
   ]
  },
  {
   "cell_type": "code",
   "execution_count": 64,
   "id": "5fc5b136",
   "metadata": {},
   "outputs": [
    {
     "name": "stdout",
     "output_type": "stream",
     "text": [
      "[9, 7, 10, 12, 19]\n"
     ]
    }
   ],
   "source": [
    "x1 = [9,7,10, 12,19]\n",
    "print(x1)"
   ]
  },
  {
   "cell_type": "code",
   "execution_count": 66,
   "id": "5981ea24",
   "metadata": {},
   "outputs": [
    {
     "name": "stdout",
     "output_type": "stream",
     "text": [
      "[19, 12, 10, 7, 9]\n"
     ]
    }
   ],
   "source": [
    "x1.reverse()\n",
    "print(x1)"
   ]
  },
  {
   "cell_type": "code",
   "execution_count": null,
   "id": "b35f4ab0",
   "metadata": {},
   "outputs": [],
   "source": []
  }
 ],
 "metadata": {
  "kernelspec": {
   "display_name": "Python 3 (ipykernel)",
   "language": "python",
   "name": "python3"
  },
  "language_info": {
   "codemirror_mode": {
    "name": "ipython",
    "version": 3
   },
   "file_extension": ".py",
   "mimetype": "text/x-python",
   "name": "python",
   "nbconvert_exporter": "python",
   "pygments_lexer": "ipython3",
   "version": "3.8.8"
  }
 },
 "nbformat": 4,
 "nbformat_minor": 5
}
